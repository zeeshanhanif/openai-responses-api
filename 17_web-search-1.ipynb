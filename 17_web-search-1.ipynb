{
 "cells": [
  {
   "cell_type": "code",
   "execution_count": 1,
   "id": "cd3aa0d0-ff83-4f55-81a8-11aed0ebf4b6",
   "metadata": {},
   "outputs": [],
   "source": [
    "import os\n",
    "from openai import OpenAI\n",
    "from dotenv import load_dotenv\n",
    "import rich"
   ]
  },
  {
   "cell_type": "code",
   "execution_count": 2,
   "id": "794d7c22",
   "metadata": {},
   "outputs": [],
   "source": [
    "load_dotenv()\n",
    "\n",
    "api_key = os.getenv('OPENAI_API_KEY')\n",
    "MODEL = \"gpt-4o-mini\"\n",
    "\n",
    "openai = OpenAI()"
   ]
  },
  {
   "cell_type": "markdown",
   "id": "168aed37",
   "metadata": {},
   "source": [
    "Search the web for the latest information before generating a response\n",
    "\n",
    "1) In Chat API model always retrieves information from web before responding to you query\n",
    "2) In Responses API, you enable web search by configuring it in the tools, and model can choose to serach the web or not based on the content of the input prompt."
   ]
  },
  {
   "cell_type": "markdown",
   "id": "f50d3494",
   "metadata": {},
   "source": [
    "# Chat Completion API"
   ]
  },
  {
   "cell_type": "markdown",
   "id": "77edba2a",
   "metadata": {},
   "source": [
    "https://platform.openai.com/docs/guides/tools-web-search?api-mode=chat"
   ]
  },
  {
   "cell_type": "markdown",
   "id": "26a5ca10",
   "metadata": {},
   "source": [
    "Always search the web first"
   ]
  },
  {
   "cell_type": "markdown",
   "id": "4fbaf1f3",
   "metadata": {},
   "source": [
    "Note: Annotation object\n",
    "```\n",
    "{\n",
    "    type:'url_citation',\n",
    "    url_citation : {\n",
    "        end_index: 0,\n",
    "        start_index: 0,\n",
    "        title:\"title\",\n",
    "        url:'url'\n",
    "    }\n",
    "}\n",
    "```"
   ]
  },
  {
   "cell_type": "code",
   "execution_count": 13,
   "id": "8ac98e02",
   "metadata": {},
   "outputs": [
    {
     "name": "stdout",
     "output_type": "stream",
     "text": [
      "As of March 21, 2025, there have been no new positive news stories specifically about agentic AI published today. However, recent developments highlight the growing adoption and impact of agentic AI across various industries:\n",
      "\n",
      "- **Amazon's AWS Establishes Agentic AI Group**: On March 4, 2025, Amazon Web Services (AWS) announced the formation of a dedicated group focused on developing agentic AI to enhance automation for users and customers. This initiative aims to enable systems to perform tasks independently without user prompts, with Swami Sivasubramanian leading the group. ([reuters.com](https://www.reuters.com/technology/artificial-intelligence/amazons-aws-forms-new-group-focused-agentic-ai-2025-03-04/?utm_source=openai))\n",
      "\n",
      "- **NICE Reports Strong Quarter Due to Agentic AI**: In February 2025, NICE highlighted the significance of agentic AI in achieving exceptional quarterly results. CEO Scott Russell emphasized that AI-powered agentic automation is central to their CXOne Mpower solution, which has been instrumental in securing significant deals and enhancing customer engagement. ([cxtoday.com](https://www.cxtoday.com/conversational-ai/agentic-ai-key-to-strong-nice-quarter-hints-at-ai-agent-release/?utm_source=openai))\n",
      "\n",
      "- **SAP's Upcoming AI Agents**: In January 2025, SAP CEO Christian Klein announced plans to launch two AI agents later this year, focusing on sales and supply chain applications. These agents are designed to optimize pricing, product bundling, stock availability, and delivery schedules, marking a significant advancement in AI applications. ([axios.com](https://www.axios.com/2025/01/27/agentic-ai-big-next-step-evolution?utm_source=openai))\n",
      "\n",
      "These developments underscore the positive trajectory of agentic AI in enhancing business operations and efficiency.\n",
      "\n",
      "\n",
      "## Recent Developments in Agentic AI:\n",
      "- [Amazon's AWS forms new group focused on agentic AI](https://www.reuters.com/technology/artificial-intelligence/amazons-aws-forms-new-group-focused-agentic-ai-2025-03-04/?utm_source=openai)\n",
      "- [Agentic AI is a \"big next step\" in AI's evolution, SAP CEO says](https://www.axios.com/2025/01/27/agentic-ai-big-next-step-evolution?utm_source=openai)\n",
      "- [Autonomous agents and profitability to dominate AI agenda in 2025, executives forecast](https://www.reuters.com/technology/artificial-intelligence/autonomous-agents-profitability-dominate-ai-agenda-2025-executives-forecast-2024-12-12/?utm_source=openai) \n",
      "6\n"
     ]
    },
    {
     "data": {
      "text/html": [
       "<pre style=\"white-space:pre;overflow-x:auto;line-height:normal;font-family:Menlo,'DejaVu Sans Mono',consolas,'Courier New',monospace\"><span style=\"font-weight: bold\">[</span>\n",
       "    <span style=\"color: #800080; text-decoration-color: #800080; font-weight: bold\">Annotation</span><span style=\"font-weight: bold\">(</span>\n",
       "        <span style=\"color: #808000; text-decoration-color: #808000\">type</span>=<span style=\"color: #008000; text-decoration-color: #008000\">'url_citation'</span>,\n",
       "        <span style=\"color: #808000; text-decoration-color: #808000\">url_citation</span>=<span style=\"color: #800080; text-decoration-color: #800080; font-weight: bold\">AnnotationURLCitation</span><span style=\"font-weight: bold\">(</span>\n",
       "            <span style=\"color: #808000; text-decoration-color: #808000\">end_index</span>=<span style=\"color: #008080; text-decoration-color: #008080; font-weight: bold\">735</span>,\n",
       "            <span style=\"color: #808000; text-decoration-color: #808000\">start_index</span>=<span style=\"color: #008080; text-decoration-color: #008080; font-weight: bold\">583</span>,\n",
       "            <span style=\"color: #808000; text-decoration-color: #808000\">title</span>=<span style=\"color: #008000; text-decoration-color: #008000\">\"Amazon's AWS forms new group focused on agentic AI\"</span>,\n",
       "            <span style=\"color: #808000; text-decoration-color: #808000\">url</span>=<span style=\"color: #008000; text-decoration-color: #008000\">'https://www.reuters.com/technology/artificial-intelligence/amazons-aws-forms-new-group-focused-age</span>\n",
       "<span style=\"color: #008000; text-decoration-color: #008000\">ntic-ai-2025-03-04/?utm_source=openai'</span>\n",
       "        <span style=\"font-weight: bold\">)</span>\n",
       "    <span style=\"font-weight: bold\">)</span>,\n",
       "    <span style=\"color: #800080; text-decoration-color: #800080; font-weight: bold\">Annotation</span><span style=\"font-weight: bold\">(</span>\n",
       "        <span style=\"color: #808000; text-decoration-color: #808000\">type</span>=<span style=\"color: #008000; text-decoration-color: #008000\">'url_citation'</span>,\n",
       "        <span style=\"color: #808000; text-decoration-color: #808000\">url_citation</span>=<span style=\"color: #800080; text-decoration-color: #800080; font-weight: bold\">AnnotationURLCitation</span><span style=\"font-weight: bold\">(</span>\n",
       "            <span style=\"color: #808000; text-decoration-color: #808000\">end_index</span>=<span style=\"color: #008080; text-decoration-color: #008080; font-weight: bold\">1241</span>,\n",
       "            <span style=\"color: #808000; text-decoration-color: #808000\">start_index</span>=<span style=\"color: #008080; text-decoration-color: #008080; font-weight: bold\">1100</span>,\n",
       "            <span style=\"color: #808000; text-decoration-color: #808000\">title</span>=<span style=\"color: #008000; text-decoration-color: #008000\">'Agentic AI Key to Strong NICE Quarter - CX Today'</span>,\n",
       "            <span style=\"color: #808000; text-decoration-color: #808000\">url</span>=<span style=\"color: #008000; text-decoration-color: #008000\">'https://www.cxtoday.com/conversational-ai/agentic-ai-key-to-strong-nice-quarter-hints-at-ai-agent-</span>\n",
       "<span style=\"color: #008000; text-decoration-color: #008000\">release/?utm_source=openai'</span>\n",
       "        <span style=\"font-weight: bold\">)</span>\n",
       "    <span style=\"font-weight: bold\">)</span>,\n",
       "    <span style=\"color: #800080; text-decoration-color: #800080; font-weight: bold\">Annotation</span><span style=\"font-weight: bold\">(</span>\n",
       "        <span style=\"color: #808000; text-decoration-color: #808000\">type</span>=<span style=\"color: #008000; text-decoration-color: #008000\">'url_citation'</span>,\n",
       "        <span style=\"color: #808000; text-decoration-color: #808000\">url_citation</span>=<span style=\"color: #800080; text-decoration-color: #800080; font-weight: bold\">AnnotationURLCitation</span><span style=\"font-weight: bold\">(</span>\n",
       "            <span style=\"color: #808000; text-decoration-color: #808000\">end_index</span>=<span style=\"color: #008080; text-decoration-color: #008080; font-weight: bold\">1685</span>,\n",
       "            <span style=\"color: #808000; text-decoration-color: #808000\">start_index</span>=<span style=\"color: #008080; text-decoration-color: #008080; font-weight: bold\">1585</span>,\n",
       "            <span style=\"color: #808000; text-decoration-color: #808000\">title</span>=<span style=\"color: #008000; text-decoration-color: #008000\">'Agentic AI is a \"big next step\" in AI\\'s evolution, SAP CEO says'</span>,\n",
       "            <span style=\"color: #808000; text-decoration-color: #808000\">url</span>=<span style=\"color: #008000; text-decoration-color: #008000\">'https://www.axios.com/2025/01/27/agentic-ai-big-next-step-evolution?utm_source=openai'</span>\n",
       "        <span style=\"font-weight: bold\">)</span>\n",
       "    <span style=\"font-weight: bold\">)</span>,\n",
       "    <span style=\"color: #800080; text-decoration-color: #800080; font-weight: bold\">Annotation</span><span style=\"font-weight: bold\">(</span>\n",
       "        <span style=\"color: #808000; text-decoration-color: #808000\">type</span>=<span style=\"color: #008000; text-decoration-color: #008000\">'url_citation'</span>,\n",
       "        <span style=\"color: #808000; text-decoration-color: #808000\">url_citation</span>=<span style=\"color: #800080; text-decoration-color: #800080; font-weight: bold\">AnnotationURLCitation</span><span style=\"font-weight: bold\">(</span>\n",
       "            <span style=\"color: #808000; text-decoration-color: #808000\">end_index</span>=<span style=\"color: #008080; text-decoration-color: #008080; font-weight: bold\">2035</span>,\n",
       "            <span style=\"color: #808000; text-decoration-color: #808000\">start_index</span>=<span style=\"color: #008080; text-decoration-color: #008080; font-weight: bold\">1846</span>,\n",
       "            <span style=\"color: #808000; text-decoration-color: #808000\">title</span>=<span style=\"color: #008000; text-decoration-color: #008000\">\"Amazon's AWS forms new group focused on agentic AI\"</span>,\n",
       "            <span style=\"color: #808000; text-decoration-color: #808000\">url</span>=<span style=\"color: #008000; text-decoration-color: #008000\">'https://www.reuters.com/technology/artificial-intelligence/amazons-aws-forms-new-group-focused-age</span>\n",
       "<span style=\"color: #008000; text-decoration-color: #008000\">ntic-ai-2025-03-04/?utm_source=openai'</span>\n",
       "        <span style=\"font-weight: bold\">)</span>\n",
       "    <span style=\"font-weight: bold\">)</span>,\n",
       "    <span style=\"color: #800080; text-decoration-color: #800080; font-weight: bold\">Annotation</span><span style=\"font-weight: bold\">(</span>\n",
       "        <span style=\"color: #808000; text-decoration-color: #808000\">type</span>=<span style=\"color: #008000; text-decoration-color: #008000\">'url_citation'</span>,\n",
       "        <span style=\"color: #808000; text-decoration-color: #808000\">url_citation</span>=<span style=\"color: #800080; text-decoration-color: #800080; font-weight: bold\">AnnotationURLCitation</span><span style=\"font-weight: bold\">(</span>\n",
       "            <span style=\"color: #808000; text-decoration-color: #808000\">end_index</span>=<span style=\"color: #008080; text-decoration-color: #008080; font-weight: bold\">2190</span>,\n",
       "            <span style=\"color: #808000; text-decoration-color: #808000\">start_index</span>=<span style=\"color: #008080; text-decoration-color: #008080; font-weight: bold\">2038</span>,\n",
       "            <span style=\"color: #808000; text-decoration-color: #808000\">title</span>=<span style=\"color: #008000; text-decoration-color: #008000\">'Agentic AI is a \"big next step\" in AI\\'s evolution, SAP CEO says'</span>,\n",
       "            <span style=\"color: #808000; text-decoration-color: #808000\">url</span>=<span style=\"color: #008000; text-decoration-color: #008000\">'https://www.axios.com/2025/01/27/agentic-ai-big-next-step-evolution?utm_source=openai'</span>\n",
       "        <span style=\"font-weight: bold\">)</span>\n",
       "    <span style=\"font-weight: bold\">)</span>,\n",
       "    <span style=\"color: #800080; text-decoration-color: #800080; font-weight: bold\">Annotation</span><span style=\"font-weight: bold\">(</span>\n",
       "        <span style=\"color: #808000; text-decoration-color: #808000\">type</span>=<span style=\"color: #008000; text-decoration-color: #008000\">'url_citation'</span>,\n",
       "        <span style=\"color: #808000; text-decoration-color: #808000\">url_citation</span>=<span style=\"color: #800080; text-decoration-color: #800080; font-weight: bold\">AnnotationURLCitation</span><span style=\"font-weight: bold\">(</span>\n",
       "            <span style=\"color: #808000; text-decoration-color: #808000\">end_index</span>=<span style=\"color: #008080; text-decoration-color: #008080; font-weight: bold\">2447</span>,\n",
       "            <span style=\"color: #808000; text-decoration-color: #808000\">start_index</span>=<span style=\"color: #008080; text-decoration-color: #008080; font-weight: bold\">2193</span>,\n",
       "            <span style=\"color: #808000; text-decoration-color: #808000\">title</span>=<span style=\"color: #008000; text-decoration-color: #008000\">'Autonomous agents and profitability to dominate AI agenda in 2025, executives forecast'</span>,\n",
       "            <span style=\"color: #808000; text-decoration-color: #808000\">url</span>=<span style=\"color: #008000; text-decoration-color: #008000\">'https://www.reuters.com/technology/artificial-intelligence/autonomous-agents-profitability-dominat</span>\n",
       "<span style=\"color: #008000; text-decoration-color: #008000\">e-ai-agenda-2025-executives-forecast-2024-12-12/?utm_source=openai'</span>\n",
       "        <span style=\"font-weight: bold\">)</span>\n",
       "    <span style=\"font-weight: bold\">)</span>\n",
       "<span style=\"font-weight: bold\">]</span>\n",
       "</pre>\n"
      ],
      "text/plain": [
       "\u001b[1m[\u001b[0m\n",
       "    \u001b[1;35mAnnotation\u001b[0m\u001b[1m(\u001b[0m\n",
       "        \u001b[33mtype\u001b[0m=\u001b[32m'url_citation'\u001b[0m,\n",
       "        \u001b[33murl_citation\u001b[0m=\u001b[1;35mAnnotationURLCitation\u001b[0m\u001b[1m(\u001b[0m\n",
       "            \u001b[33mend_index\u001b[0m=\u001b[1;36m735\u001b[0m,\n",
       "            \u001b[33mstart_index\u001b[0m=\u001b[1;36m583\u001b[0m,\n",
       "            \u001b[33mtitle\u001b[0m=\u001b[32m\"Amazon\u001b[0m\u001b[32m's AWS forms new group focused on agentic AI\"\u001b[0m,\n",
       "            \u001b[33murl\u001b[0m=\u001b[32m'https://www.reuters.com/technology/artificial-intelligence/amazons-aws-forms-new-group-focused-age\u001b[0m\n",
       "\u001b[32mntic-ai-2025-03-04/?\u001b[0m\u001b[32mutm_source\u001b[0m\u001b[32m=\u001b[0m\u001b[32mopenai\u001b[0m\u001b[32m'\u001b[0m\n",
       "        \u001b[1m)\u001b[0m\n",
       "    \u001b[1m)\u001b[0m,\n",
       "    \u001b[1;35mAnnotation\u001b[0m\u001b[1m(\u001b[0m\n",
       "        \u001b[33mtype\u001b[0m=\u001b[32m'url_citation'\u001b[0m,\n",
       "        \u001b[33murl_citation\u001b[0m=\u001b[1;35mAnnotationURLCitation\u001b[0m\u001b[1m(\u001b[0m\n",
       "            \u001b[33mend_index\u001b[0m=\u001b[1;36m1241\u001b[0m,\n",
       "            \u001b[33mstart_index\u001b[0m=\u001b[1;36m1100\u001b[0m,\n",
       "            \u001b[33mtitle\u001b[0m=\u001b[32m'Agentic AI Key to Strong NICE Quarter - CX Today'\u001b[0m,\n",
       "            \u001b[33murl\u001b[0m=\u001b[32m'https://www.cxtoday.com/conversational-ai/agentic-ai-key-to-strong-nice-quarter-hints-at-ai-agent-\u001b[0m\n",
       "\u001b[32mrelease/?\u001b[0m\u001b[32mutm_source\u001b[0m\u001b[32m=\u001b[0m\u001b[32mopenai\u001b[0m\u001b[32m'\u001b[0m\n",
       "        \u001b[1m)\u001b[0m\n",
       "    \u001b[1m)\u001b[0m,\n",
       "    \u001b[1;35mAnnotation\u001b[0m\u001b[1m(\u001b[0m\n",
       "        \u001b[33mtype\u001b[0m=\u001b[32m'url_citation'\u001b[0m,\n",
       "        \u001b[33murl_citation\u001b[0m=\u001b[1;35mAnnotationURLCitation\u001b[0m\u001b[1m(\u001b[0m\n",
       "            \u001b[33mend_index\u001b[0m=\u001b[1;36m1685\u001b[0m,\n",
       "            \u001b[33mstart_index\u001b[0m=\u001b[1;36m1585\u001b[0m,\n",
       "            \u001b[33mtitle\u001b[0m=\u001b[32m'Agentic AI is a \"big next step\" in AI\\'s evolution, SAP CEO says'\u001b[0m,\n",
       "            \u001b[33murl\u001b[0m=\u001b[32m'https://www.axios.com/2025/01/27/agentic-ai-big-next-step-evolution?\u001b[0m\u001b[32mutm_source\u001b[0m\u001b[32m=\u001b[0m\u001b[32mopenai\u001b[0m\u001b[32m'\u001b[0m\n",
       "        \u001b[1m)\u001b[0m\n",
       "    \u001b[1m)\u001b[0m,\n",
       "    \u001b[1;35mAnnotation\u001b[0m\u001b[1m(\u001b[0m\n",
       "        \u001b[33mtype\u001b[0m=\u001b[32m'url_citation'\u001b[0m,\n",
       "        \u001b[33murl_citation\u001b[0m=\u001b[1;35mAnnotationURLCitation\u001b[0m\u001b[1m(\u001b[0m\n",
       "            \u001b[33mend_index\u001b[0m=\u001b[1;36m2035\u001b[0m,\n",
       "            \u001b[33mstart_index\u001b[0m=\u001b[1;36m1846\u001b[0m,\n",
       "            \u001b[33mtitle\u001b[0m=\u001b[32m\"Amazon\u001b[0m\u001b[32m's AWS forms new group focused on agentic AI\"\u001b[0m,\n",
       "            \u001b[33murl\u001b[0m=\u001b[32m'https://www.reuters.com/technology/artificial-intelligence/amazons-aws-forms-new-group-focused-age\u001b[0m\n",
       "\u001b[32mntic-ai-2025-03-04/?\u001b[0m\u001b[32mutm_source\u001b[0m\u001b[32m=\u001b[0m\u001b[32mopenai\u001b[0m\u001b[32m'\u001b[0m\n",
       "        \u001b[1m)\u001b[0m\n",
       "    \u001b[1m)\u001b[0m,\n",
       "    \u001b[1;35mAnnotation\u001b[0m\u001b[1m(\u001b[0m\n",
       "        \u001b[33mtype\u001b[0m=\u001b[32m'url_citation'\u001b[0m,\n",
       "        \u001b[33murl_citation\u001b[0m=\u001b[1;35mAnnotationURLCitation\u001b[0m\u001b[1m(\u001b[0m\n",
       "            \u001b[33mend_index\u001b[0m=\u001b[1;36m2190\u001b[0m,\n",
       "            \u001b[33mstart_index\u001b[0m=\u001b[1;36m2038\u001b[0m,\n",
       "            \u001b[33mtitle\u001b[0m=\u001b[32m'Agentic AI is a \"big next step\" in AI\\'s evolution, SAP CEO says'\u001b[0m,\n",
       "            \u001b[33murl\u001b[0m=\u001b[32m'https://www.axios.com/2025/01/27/agentic-ai-big-next-step-evolution?\u001b[0m\u001b[32mutm_source\u001b[0m\u001b[32m=\u001b[0m\u001b[32mopenai\u001b[0m\u001b[32m'\u001b[0m\n",
       "        \u001b[1m)\u001b[0m\n",
       "    \u001b[1m)\u001b[0m,\n",
       "    \u001b[1;35mAnnotation\u001b[0m\u001b[1m(\u001b[0m\n",
       "        \u001b[33mtype\u001b[0m=\u001b[32m'url_citation'\u001b[0m,\n",
       "        \u001b[33murl_citation\u001b[0m=\u001b[1;35mAnnotationURLCitation\u001b[0m\u001b[1m(\u001b[0m\n",
       "            \u001b[33mend_index\u001b[0m=\u001b[1;36m2447\u001b[0m,\n",
       "            \u001b[33mstart_index\u001b[0m=\u001b[1;36m2193\u001b[0m,\n",
       "            \u001b[33mtitle\u001b[0m=\u001b[32m'Autonomous agents and profitability to dominate AI agenda in 2025, executives forecast'\u001b[0m,\n",
       "            \u001b[33murl\u001b[0m=\u001b[32m'https://www.reuters.com/technology/artificial-intelligence/autonomous-agents-profitability-dominat\u001b[0m\n",
       "\u001b[32me-ai-agenda-2025-executives-forecast-2024-12-12/?\u001b[0m\u001b[32mutm_source\u001b[0m\u001b[32m=\u001b[0m\u001b[32mopenai\u001b[0m\u001b[32m'\u001b[0m\n",
       "        \u001b[1m)\u001b[0m\n",
       "    \u001b[1m)\u001b[0m\n",
       "\u001b[1m]\u001b[0m\n"
      ]
     },
     "metadata": {},
     "output_type": "display_data"
    }
   ],
   "source": [
    "response = openai.chat.completions.create(\n",
    "    model=\"gpt-4o-search-preview\",\n",
    "    web_search_options={},\n",
    "    messages=[\n",
    "        {\n",
    "            \"role\": \"user\",\n",
    "            \"content\": \"What was a positive news story about Agentic AI today?\",\n",
    "        }\n",
    "    ],\n",
    ")\n",
    "\n",
    "print(response.choices[0].message.content)\n",
    "# rich.print(response)\n",
    "print(len(response.choices[0].message.annotations))\n",
    "rich.print(response.choices[0].message.annotations)"
   ]
  },
  {
   "cell_type": "markdown",
   "id": "9ef4dd6f",
   "metadata": {},
   "source": [
    "# Responses API"
   ]
  },
  {
   "cell_type": "markdown",
   "id": "d9ed959b",
   "metadata": {},
   "source": [
    "https://platform.openai.com/docs/guides/tools-web-search?api-mode=responses"
   ]
  },
  {
   "cell_type": "markdown",
   "id": "c76e386c",
   "metadata": {},
   "source": [
    "Model will choose to serach the web or not based on the content of the input prompt."
   ]
  },
  {
   "cell_type": "markdown",
   "id": "25192a78",
   "metadata": {},
   "source": [
    "Note: Annotation object\n",
    "```\n",
    "{\n",
    "    type:'url_citation',\n",
    "    end_index: 0,\n",
    "    start_index: 0,\n",
    "    title:\"title\",\n",
    "    url:'url'\n",
    "}\n",
    "```"
   ]
  },
  {
   "cell_type": "code",
   "execution_count": null,
   "id": "6ff8ab61",
   "metadata": {},
   "outputs": [
    {
     "name": "stdout",
     "output_type": "stream",
     "text": [
      "On March 20, 2025, a heartwarming story emerged from the University of Tennessee at Martin, where a Senegalese teenager named Ama Sow overcame significant challenges to pursue his basketball dreams in the United States. Facing language barriers and the closure of his sponsorship program, Ama was on the brink of homelessness when Dave and Nicole McComb took him in as their legal guardian. With their support, Ama has adapted to life in the U.S. and is set to play NCAA Division 1 basketball for the University of Tennessee at Martin next year. Ama expressed his gratitude, stating, \"A family is going to be there forever. They're going to love you forever. They're going to help you forever... That's what I have here, I think.\" ([dailymotivation.site](https://www.dailymotivation.site/positively-uplifting-stories-march-3-2025/?utm_source=openai)) \n"
     ]
    },
    {
     "data": {
      "text/html": [
       "<pre style=\"white-space:pre;overflow-x:auto;line-height:normal;font-family:Menlo,'DejaVu Sans Mono',consolas,'Courier New',monospace\"><span style=\"font-weight: bold\">[</span>\n",
       "    <span style=\"color: #800080; text-decoration-color: #800080; font-weight: bold\">ResponseFunctionWebSearch</span><span style=\"font-weight: bold\">(</span>\n",
       "        <span style=\"color: #808000; text-decoration-color: #808000\">id</span>=<span style=\"color: #008000; text-decoration-color: #008000\">'ws_67dcd7d79608819281bf3768e14a24af056278536edcaab4'</span>,\n",
       "        <span style=\"color: #808000; text-decoration-color: #808000\">status</span>=<span style=\"color: #008000; text-decoration-color: #008000\">'completed'</span>,\n",
       "        <span style=\"color: #808000; text-decoration-color: #808000\">type</span>=<span style=\"color: #008000; text-decoration-color: #008000\">'web_search_call'</span>\n",
       "    <span style=\"font-weight: bold\">)</span>,\n",
       "    <span style=\"color: #800080; text-decoration-color: #800080; font-weight: bold\">ResponseOutputMessage</span><span style=\"font-weight: bold\">(</span>\n",
       "        <span style=\"color: #808000; text-decoration-color: #808000\">id</span>=<span style=\"color: #008000; text-decoration-color: #008000\">'msg_67dcd7da63b08192a9db8678fd469fea056278536edcaab4'</span>,\n",
       "        <span style=\"color: #808000; text-decoration-color: #808000\">content</span>=<span style=\"font-weight: bold\">[</span>\n",
       "            <span style=\"color: #800080; text-decoration-color: #800080; font-weight: bold\">ResponseOutputText</span><span style=\"font-weight: bold\">(</span>\n",
       "                <span style=\"color: #808000; text-decoration-color: #808000\">annotations</span>=<span style=\"font-weight: bold\">[</span>\n",
       "                    <span style=\"color: #800080; text-decoration-color: #800080; font-weight: bold\">AnnotationURLCitation</span><span style=\"font-weight: bold\">(</span>\n",
       "                        <span style=\"color: #808000; text-decoration-color: #808000\">end_index</span>=<span style=\"color: #008080; text-decoration-color: #008080; font-weight: bold\">850</span>,\n",
       "                        <span style=\"color: #808000; text-decoration-color: #808000\">start_index</span>=<span style=\"color: #008080; text-decoration-color: #008080; font-weight: bold\">731</span>,\n",
       "                        <span style=\"color: #808000; text-decoration-color: #808000\">title</span>=<span style=\"color: #008000; text-decoration-color: #008000\">'Positively Uplifting Stories | March 3 2025 - Daily Motivation'</span>,\n",
       "                        <span style=\"color: #808000; text-decoration-color: #808000\">type</span>=<span style=\"color: #008000; text-decoration-color: #008000\">'url_citation'</span>,\n",
       "                        <span style=\"color: #808000; text-decoration-color: #808000\">url</span>=<span style=\"color: #008000; text-decoration-color: #008000\">'https://www.dailymotivation.site/positively-uplifting-stories-march-3-2025/?utm_source</span>\n",
       "<span style=\"color: #008000; text-decoration-color: #008000\">=openai'</span>\n",
       "                    <span style=\"font-weight: bold\">)</span>\n",
       "                <span style=\"font-weight: bold\">]</span>,\n",
       "                <span style=\"color: #808000; text-decoration-color: #808000\">text</span>=<span style=\"color: #008000; text-decoration-color: #008000\">'On March 20, 2025, a heartwarming story emerged from the University of Tennessee at Martin, </span>\n",
       "<span style=\"color: #008000; text-decoration-color: #008000\">where a Senegalese teenager named Ama Sow overcame significant challenges to pursue his basketball dreams in the </span>\n",
       "<span style=\"color: #008000; text-decoration-color: #008000\">United States. Facing language barriers and the closure of his sponsorship program, Ama was on the brink of </span>\n",
       "<span style=\"color: #008000; text-decoration-color: #008000\">homelessness when Dave and Nicole McComb took him in as their legal guardian. With their support, Ama has adapted </span>\n",
       "<span style=\"color: #008000; text-decoration-color: #008000\">to life in the U.S. and is set to play NCAA Division 1 basketball for the University of Tennessee at Martin next </span>\n",
       "<span style=\"color: #008000; text-decoration-color: #008000\">year. Ama expressed his gratitude, stating, \"A family is going to be there forever. They\\'re going to love you </span>\n",
       "<span style=\"color: #008000; text-decoration-color: #008000\">forever. They\\'re going to help you forever... That\\'s what I have here, I think.\" </span>\n",
       "<span style=\"color: #008000; text-decoration-color: #008000\">([dailymotivation.site](https://www.dailymotivation.site/positively-uplifting-stories-march-3-2025/?utm_source=open</span>\n",
       "<span style=\"color: #008000; text-decoration-color: #008000\">ai)) '</span>,\n",
       "                <span style=\"color: #808000; text-decoration-color: #808000\">type</span>=<span style=\"color: #008000; text-decoration-color: #008000\">'output_text'</span>\n",
       "            <span style=\"font-weight: bold\">)</span>\n",
       "        <span style=\"font-weight: bold\">]</span>,\n",
       "        <span style=\"color: #808000; text-decoration-color: #808000\">role</span>=<span style=\"color: #008000; text-decoration-color: #008000\">'assistant'</span>,\n",
       "        <span style=\"color: #808000; text-decoration-color: #808000\">status</span>=<span style=\"color: #008000; text-decoration-color: #008000\">'completed'</span>,\n",
       "        <span style=\"color: #808000; text-decoration-color: #808000\">type</span>=<span style=\"color: #008000; text-decoration-color: #008000\">'message'</span>\n",
       "    <span style=\"font-weight: bold\">)</span>\n",
       "<span style=\"font-weight: bold\">]</span>\n",
       "</pre>\n"
      ],
      "text/plain": [
       "\u001b[1m[\u001b[0m\n",
       "    \u001b[1;35mResponseFunctionWebSearch\u001b[0m\u001b[1m(\u001b[0m\n",
       "        \u001b[33mid\u001b[0m=\u001b[32m'ws_67dcd7d79608819281bf3768e14a24af056278536edcaab4'\u001b[0m,\n",
       "        \u001b[33mstatus\u001b[0m=\u001b[32m'completed'\u001b[0m,\n",
       "        \u001b[33mtype\u001b[0m=\u001b[32m'web_search_call'\u001b[0m\n",
       "    \u001b[1m)\u001b[0m,\n",
       "    \u001b[1;35mResponseOutputMessage\u001b[0m\u001b[1m(\u001b[0m\n",
       "        \u001b[33mid\u001b[0m=\u001b[32m'msg_67dcd7da63b08192a9db8678fd469fea056278536edcaab4'\u001b[0m,\n",
       "        \u001b[33mcontent\u001b[0m=\u001b[1m[\u001b[0m\n",
       "            \u001b[1;35mResponseOutputText\u001b[0m\u001b[1m(\u001b[0m\n",
       "                \u001b[33mannotations\u001b[0m=\u001b[1m[\u001b[0m\n",
       "                    \u001b[1;35mAnnotationURLCitation\u001b[0m\u001b[1m(\u001b[0m\n",
       "                        \u001b[33mend_index\u001b[0m=\u001b[1;36m850\u001b[0m,\n",
       "                        \u001b[33mstart_index\u001b[0m=\u001b[1;36m731\u001b[0m,\n",
       "                        \u001b[33mtitle\u001b[0m=\u001b[32m'Positively Uplifting Stories | March 3 2025 - Daily Motivation'\u001b[0m,\n",
       "                        \u001b[33mtype\u001b[0m=\u001b[32m'url_citation'\u001b[0m,\n",
       "                        \u001b[33murl\u001b[0m=\u001b[32m'https://www.dailymotivation.site/positively-uplifting-stories-march-3-2025/?\u001b[0m\u001b[32mutm_source\u001b[0m\n",
       "\u001b[32m=\u001b[0m\u001b[32mopenai\u001b[0m\u001b[32m'\u001b[0m\n",
       "                    \u001b[1m)\u001b[0m\n",
       "                \u001b[1m]\u001b[0m,\n",
       "                \u001b[33mtext\u001b[0m=\u001b[32m'On March 20, 2025, a heartwarming story emerged from the University of Tennessee at Martin, \u001b[0m\n",
       "\u001b[32mwhere a Senegalese teenager named Ama Sow overcame significant challenges to pursue his basketball dreams in the \u001b[0m\n",
       "\u001b[32mUnited States. Facing language barriers and the closure of his sponsorship program, Ama was on the brink of \u001b[0m\n",
       "\u001b[32mhomelessness when Dave and Nicole McComb took him in as their legal guardian. With their support, Ama has adapted \u001b[0m\n",
       "\u001b[32mto life in the U.S. and is set to play NCAA Division 1 basketball for the University of Tennessee at Martin next \u001b[0m\n",
       "\u001b[32myear. Ama expressed his gratitude, stating, \"A family is going to be there forever. They\\'re going to love you \u001b[0m\n",
       "\u001b[32mforever. They\\'re going to help you forever... That\\'s what I have here, I think.\" \u001b[0m\n",
       "\u001b[32m(\u001b[0m\u001b[32m[\u001b[0m\u001b[32mdailymotivation.site\u001b[0m\u001b[32m]\u001b[0m\u001b[32m(\u001b[0m\u001b[32mhttps://www.dailymotivation.site/positively-uplifting-stories-march-3-2025/?\u001b[0m\u001b[32mutm_source\u001b[0m\u001b[32m=\u001b[0m\u001b[32mopen\u001b[0m\n",
       "\u001b[32mai\u001b[0m\u001b[32m)\u001b[0m\u001b[32m)\u001b[0m\u001b[32m '\u001b[0m,\n",
       "                \u001b[33mtype\u001b[0m=\u001b[32m'output_text'\u001b[0m\n",
       "            \u001b[1m)\u001b[0m\n",
       "        \u001b[1m]\u001b[0m,\n",
       "        \u001b[33mrole\u001b[0m=\u001b[32m'assistant'\u001b[0m,\n",
       "        \u001b[33mstatus\u001b[0m=\u001b[32m'completed'\u001b[0m,\n",
       "        \u001b[33mtype\u001b[0m=\u001b[32m'message'\u001b[0m\n",
       "    \u001b[1m)\u001b[0m\n",
       "\u001b[1m]\u001b[0m\n"
      ]
     },
     "metadata": {},
     "output_type": "display_data"
    },
    {
     "data": {
      "text/html": [
       "<pre style=\"white-space:pre;overflow-x:auto;line-height:normal;font-family:Menlo,'DejaVu Sans Mono',consolas,'Courier New',monospace\"><span style=\"font-weight: bold\">[</span>\n",
       "    <span style=\"color: #800080; text-decoration-color: #800080; font-weight: bold\">WebSearchTool</span><span style=\"font-weight: bold\">(</span>\n",
       "        <span style=\"color: #808000; text-decoration-color: #808000\">type</span>=<span style=\"color: #008000; text-decoration-color: #008000\">'web_search_preview'</span>,\n",
       "        <span style=\"color: #808000; text-decoration-color: #808000\">search_context_size</span>=<span style=\"color: #008000; text-decoration-color: #008000\">'medium'</span>,\n",
       "        <span style=\"color: #808000; text-decoration-color: #808000\">user_location</span>=<span style=\"color: #800080; text-decoration-color: #800080; font-weight: bold\">UserLocation</span><span style=\"font-weight: bold\">(</span><span style=\"color: #808000; text-decoration-color: #808000\">type</span>=<span style=\"color: #008000; text-decoration-color: #008000\">'approximate'</span>, <span style=\"color: #808000; text-decoration-color: #808000\">city</span>=<span style=\"color: #800080; text-decoration-color: #800080; font-style: italic\">None</span>, <span style=\"color: #808000; text-decoration-color: #808000\">country</span>=<span style=\"color: #008000; text-decoration-color: #008000\">'US'</span>, <span style=\"color: #808000; text-decoration-color: #808000\">region</span>=<span style=\"color: #800080; text-decoration-color: #800080; font-style: italic\">None</span>, <span style=\"color: #808000; text-decoration-color: #808000\">timezone</span>=<span style=\"color: #800080; text-decoration-color: #800080; font-style: italic\">None</span><span style=\"font-weight: bold\">)</span>\n",
       "    <span style=\"font-weight: bold\">)</span>\n",
       "<span style=\"font-weight: bold\">]</span>\n",
       "</pre>\n"
      ],
      "text/plain": [
       "\u001b[1m[\u001b[0m\n",
       "    \u001b[1;35mWebSearchTool\u001b[0m\u001b[1m(\u001b[0m\n",
       "        \u001b[33mtype\u001b[0m=\u001b[32m'web_search_preview'\u001b[0m,\n",
       "        \u001b[33msearch_context_size\u001b[0m=\u001b[32m'medium'\u001b[0m,\n",
       "        \u001b[33muser_location\u001b[0m=\u001b[1;35mUserLocation\u001b[0m\u001b[1m(\u001b[0m\u001b[33mtype\u001b[0m=\u001b[32m'approximate'\u001b[0m, \u001b[33mcity\u001b[0m=\u001b[3;35mNone\u001b[0m, \u001b[33mcountry\u001b[0m=\u001b[32m'US'\u001b[0m, \u001b[33mregion\u001b[0m=\u001b[3;35mNone\u001b[0m, \u001b[33mtimezone\u001b[0m=\u001b[3;35mNone\u001b[0m\u001b[1m)\u001b[0m\n",
       "    \u001b[1m)\u001b[0m\n",
       "\u001b[1m]\u001b[0m\n"
      ]
     },
     "metadata": {},
     "output_type": "display_data"
    }
   ],
   "source": [
    "response = openai.responses.create(\n",
    "    model=MODEL,\n",
    "    tools=[{\"type\": \"web_search_preview\"}],\n",
    "    input=\"What was a positive news story from today?\"\n",
    ")\n",
    "\n",
    "print(response.output_text)\n",
    "rich.print(response.output)\n",
    "# rich.print(response.output[1].content[0].annotations)\n",
    "rich.print(response.tools)\n",
    "# rich.print(response)"
   ]
  }
 ],
 "metadata": {
  "kernelspec": {
   "display_name": ".venv",
   "language": "python",
   "name": "python3"
  },
  "language_info": {
   "codemirror_mode": {
    "name": "ipython",
    "version": 3
   },
   "file_extension": ".py",
   "mimetype": "text/x-python",
   "name": "python",
   "nbconvert_exporter": "python",
   "pygments_lexer": "ipython3",
   "version": "3.12.4"
  }
 },
 "nbformat": 4,
 "nbformat_minor": 5
}
