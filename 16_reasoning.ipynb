{
 "cells": [
  {
   "cell_type": "code",
   "execution_count": 1,
   "id": "cd3aa0d0-ff83-4f55-81a8-11aed0ebf4b6",
   "metadata": {},
   "outputs": [],
   "source": [
    "import os\n",
    "from openai import OpenAI\n",
    "from dotenv import load_dotenv\n",
    "import rich"
   ]
  },
  {
   "cell_type": "markdown",
   "id": "40eaf3bb",
   "metadata": {},
   "source": [
    "Note: we need to use models that support reasoning like o1 and o3-mini"
   ]
  },
  {
   "cell_type": "code",
   "execution_count": 2,
   "id": "794d7c22",
   "metadata": {},
   "outputs": [],
   "source": [
    "load_dotenv()\n",
    "\n",
    "api_key = os.getenv('OPENAI_API_KEY')\n",
    "MODEL = \"o3-mini\"\n",
    "\n",
    "openai = OpenAI()"
   ]
  },
  {
   "cell_type": "markdown",
   "id": "168aed37",
   "metadata": {},
   "source": [
    "Advanced reasoning and problem-solving models"
   ]
  },
  {
   "cell_type": "markdown",
   "id": "f50d3494",
   "metadata": {},
   "source": [
    "# Chat Completion API"
   ]
  },
  {
   "cell_type": "markdown",
   "id": "77edba2a",
   "metadata": {},
   "source": [
    "https://platform.openai.com/docs/guides/reasoning?api-mode=chat"
   ]
  },
  {
   "cell_type": "code",
   "execution_count": 3,
   "id": "8ac98e02",
   "metadata": {},
   "outputs": [
    {
     "data": {
      "text/html": [
       "<pre style=\"white-space:pre;overflow-x:auto;line-height:normal;font-family:Menlo,'DejaVu Sans Mono',consolas,'Courier New',monospace\"><span style=\"color: #800080; text-decoration-color: #800080; font-weight: bold\">CompletionUsage</span><span style=\"font-weight: bold\">(</span>\n",
       "    <span style=\"color: #808000; text-decoration-color: #808000\">completion_tokens</span>=<span style=\"color: #008080; text-decoration-color: #008080; font-weight: bold\">2336</span>,\n",
       "    <span style=\"color: #808000; text-decoration-color: #808000\">prompt_tokens</span>=<span style=\"color: #008080; text-decoration-color: #008080; font-weight: bold\">44</span>,\n",
       "    <span style=\"color: #808000; text-decoration-color: #808000\">total_tokens</span>=<span style=\"color: #008080; text-decoration-color: #008080; font-weight: bold\">2380</span>,\n",
       "    <span style=\"color: #808000; text-decoration-color: #808000\">completion_tokens_details</span>=<span style=\"color: #800080; text-decoration-color: #800080; font-weight: bold\">CompletionTokensDetails</span><span style=\"font-weight: bold\">(</span>\n",
       "        <span style=\"color: #808000; text-decoration-color: #808000\">accepted_prediction_tokens</span>=<span style=\"color: #008080; text-decoration-color: #008080; font-weight: bold\">0</span>,\n",
       "        <span style=\"color: #808000; text-decoration-color: #808000\">audio_tokens</span>=<span style=\"color: #008080; text-decoration-color: #008080; font-weight: bold\">0</span>,\n",
       "        <span style=\"color: #808000; text-decoration-color: #808000\">reasoning_tokens</span>=<span style=\"color: #008080; text-decoration-color: #008080; font-weight: bold\">1600</span>,\n",
       "        <span style=\"color: #808000; text-decoration-color: #808000\">rejected_prediction_tokens</span>=<span style=\"color: #008080; text-decoration-color: #008080; font-weight: bold\">0</span>\n",
       "    <span style=\"font-weight: bold\">)</span>,\n",
       "    <span style=\"color: #808000; text-decoration-color: #808000\">prompt_tokens_details</span>=<span style=\"color: #800080; text-decoration-color: #800080; font-weight: bold\">PromptTokensDetails</span><span style=\"font-weight: bold\">(</span><span style=\"color: #808000; text-decoration-color: #808000\">audio_tokens</span>=<span style=\"color: #008080; text-decoration-color: #008080; font-weight: bold\">0</span>, <span style=\"color: #808000; text-decoration-color: #808000\">cached_tokens</span>=<span style=\"color: #008080; text-decoration-color: #008080; font-weight: bold\">0</span><span style=\"font-weight: bold\">)</span>\n",
       "<span style=\"font-weight: bold\">)</span>\n",
       "</pre>\n"
      ],
      "text/plain": [
       "\u001b[1;35mCompletionUsage\u001b[0m\u001b[1m(\u001b[0m\n",
       "    \u001b[33mcompletion_tokens\u001b[0m=\u001b[1;36m2336\u001b[0m,\n",
       "    \u001b[33mprompt_tokens\u001b[0m=\u001b[1;36m44\u001b[0m,\n",
       "    \u001b[33mtotal_tokens\u001b[0m=\u001b[1;36m2380\u001b[0m,\n",
       "    \u001b[33mcompletion_tokens_details\u001b[0m=\u001b[1;35mCompletionTokensDetails\u001b[0m\u001b[1m(\u001b[0m\n",
       "        \u001b[33maccepted_prediction_tokens\u001b[0m=\u001b[1;36m0\u001b[0m,\n",
       "        \u001b[33maudio_tokens\u001b[0m=\u001b[1;36m0\u001b[0m,\n",
       "        \u001b[33mreasoning_tokens\u001b[0m=\u001b[1;36m1600\u001b[0m,\n",
       "        \u001b[33mrejected_prediction_tokens\u001b[0m=\u001b[1;36m0\u001b[0m\n",
       "    \u001b[1m)\u001b[0m,\n",
       "    \u001b[33mprompt_tokens_details\u001b[0m=\u001b[1;35mPromptTokensDetails\u001b[0m\u001b[1m(\u001b[0m\u001b[33maudio_tokens\u001b[0m=\u001b[1;36m0\u001b[0m, \u001b[33mcached_tokens\u001b[0m=\u001b[1;36m0\u001b[0m\u001b[1m)\u001b[0m\n",
       "\u001b[1m)\u001b[0m\n"
      ]
     },
     "metadata": {},
     "output_type": "display_data"
    },
    {
     "name": "stdout",
     "output_type": "stream",
     "text": [
      "None\n",
      "#!/bin/bash\n",
      "# This script takes a matrix string in the form:\n",
      "#   \"[1,2],[3,4],[5,6]\"\n",
      "# and prints its transpose in the same format.\n",
      "#\n",
      "# For example, given:\n",
      "#   \"[1,2],[3,4],[5,6]\"\n",
      "# it outputs:\n",
      "#   \"[1,3,5],[2,4,6]\"\n",
      "\n",
      "# Check if an argument is supplied.\n",
      "if [ -z \"$1\" ]; then\n",
      "  echo \"Usage: $0 '[matrix_string]'\" >&2\n",
      "  exit 1\n",
      "fi\n",
      "\n",
      "input=\"$1\"\n",
      "\n",
      "# Remove leading '[' and trailing ']' from the overall string.\n",
      "# The input format is assumed to be like: \"[1,2],[3,4],[5,6]\"\n",
      "input=\"${input#\\[}\"\n",
      "input=\"${input%\\]}\"\n",
      "\n",
      "# Now we have a string like: \"1,2],[3,4],[5,6\"\n",
      "# Replace the sequence \"],[\" with a space so that each row becomes a token.\n",
      "rows_str=$(echo \"$input\" | sed 's/],[/ /g')\n",
      "\n",
      "# Read the rows into an array.\n",
      "read -r -a raw_rows <<< \"$rows_str\"\n",
      "\n",
      "# Determine number of rows.\n",
      "rows_count=${#raw_rows[@]}\n",
      "\n",
      "# Split the first row by comma to determine the number of columns.\n",
      "IFS=',' read -r -a first_row <<< \"${raw_rows[0]}\"\n",
      "cols_count=${#first_row[@]}\n",
      "\n",
      "# We'll store the matrix in a one-dimensional bash array\n",
      "# where element [i*cols_count + j] corresponds to element (i,j)\n",
      "declare -a matrix\n",
      "\n",
      "for (( i=0; i<rows_count; i++ )); do\n",
      "  # Split the current row string by commas.\n",
      "  IFS=',' read -r -a row_elems <<< \"${raw_rows[i]}\"\n",
      "  for (( j=0; j<cols_count; j++ )); do\n",
      "    matrix[$(( i * cols_count + j ))]=\"${row_elems[j]}\"\n",
      "  done\n",
      "done\n",
      "\n",
      "# Build the transposed matrix.\n",
      "# The transposed matrix has dimensions: (cols_count) x (rows_count)\n",
      "result=\"\"\n",
      "\n",
      "for (( j=0; j<cols_count; j++ )); do\n",
      "  # Start a new row string for the transposed row.\n",
      "  row_str=\"[\"\n",
      "  for (( i=0; i<rows_count; i++ )); do\n",
      "    idx=$(( i * cols_count + j ))\n",
      "    row_str+=\"${matrix[$idx]}\"\n",
      "    # Add a comma if not the last column in this transposed row.\n",
      "    if (( i < rows_count - 1 )); then\n",
      "      row_str+=\",\"\n",
      "    fi\n",
      "  done\n",
      "  row_str+=\"]\"\n",
      "  # Append a comma between rows of the result if not the last row.\n",
      "  if (( j < cols_count - 1 )); then\n",
      "    result+=\"${row_str},\"\n",
      "  else\n",
      "    result+=\"${row_str}\"\n",
      "  fi\n",
      "done\n",
      "\n",
      "# Print the transposed matrix.\n",
      "echo \"$result\"\n",
      "\n",
      "# End of script\n",
      "\n",
      "# To use this script:\n",
      "# 1. Save it as transpose.sh\n",
      "# 2. Make it executable: chmod +x transpose.sh\n",
      "# 3. Run it with a matrix string argument:\n",
      "#      ./transpose.sh \"[1,2],[3,4],[5,6]\"\n",
      "#    The output will be:\n",
      "#      [1,3,5],[2,4,6]\n",
      "\n"
     ]
    }
   ],
   "source": [
    "prompt = \"\"\"\n",
    "Write a bash script that takes a matrix represented as a string with \n",
    "format '[1,2],[3,4],[5,6]' and prints the transpose in the same format.\n",
    "\"\"\"\n",
    "\n",
    "response = openai.chat.completions.create(\n",
    "    model=MODEL,\n",
    "    reasoning_effort=\"medium\",\n",
    "    messages=[\n",
    "        {\n",
    "            \"role\": \"user\", \n",
    "            \"content\": prompt\n",
    "        }\n",
    "    ]\n",
    ")\n",
    "\n",
    "print(rich.print(response.usage))\n",
    "print(response.choices[0].message.content)"
   ]
  },
  {
   "cell_type": "markdown",
   "id": "9ef4dd6f",
   "metadata": {},
   "source": [
    "# Responses API"
   ]
  },
  {
   "cell_type": "markdown",
   "id": "d9ed959b",
   "metadata": {},
   "source": [
    "https://platform.openai.com/docs/guides/reasoning?api-mode=responses"
   ]
  },
  {
   "cell_type": "code",
   "execution_count": 4,
   "id": "6ff8ab61",
   "metadata": {},
   "outputs": [
    {
     "data": {
      "text/html": [
       "<pre style=\"white-space:pre;overflow-x:auto;line-height:normal;font-family:Menlo,'DejaVu Sans Mono',consolas,'Courier New',monospace\"><span style=\"color: #800080; text-decoration-color: #800080; font-weight: bold\">ResponseUsage</span><span style=\"font-weight: bold\">(</span>\n",
       "    <span style=\"color: #808000; text-decoration-color: #808000\">input_tokens</span>=<span style=\"color: #008080; text-decoration-color: #008080; font-weight: bold\">103</span>,\n",
       "    <span style=\"color: #808000; text-decoration-color: #808000\">output_tokens</span>=<span style=\"color: #008080; text-decoration-color: #008080; font-weight: bold\">1736</span>,\n",
       "    <span style=\"color: #808000; text-decoration-color: #808000\">output_tokens_details</span>=<span style=\"color: #800080; text-decoration-color: #800080; font-weight: bold\">OutputTokensDetails</span><span style=\"font-weight: bold\">(</span><span style=\"color: #808000; text-decoration-color: #808000\">reasoning_tokens</span>=<span style=\"color: #008080; text-decoration-color: #008080; font-weight: bold\">1152</span><span style=\"font-weight: bold\">)</span>,\n",
       "    <span style=\"color: #808000; text-decoration-color: #808000\">total_tokens</span>=<span style=\"color: #008080; text-decoration-color: #008080; font-weight: bold\">1839</span>,\n",
       "    <span style=\"color: #808000; text-decoration-color: #808000\">input_tokens_details</span>=<span style=\"font-weight: bold\">{</span><span style=\"color: #008000; text-decoration-color: #008000\">'cached_tokens'</span>: <span style=\"color: #008080; text-decoration-color: #008080; font-weight: bold\">0</span><span style=\"font-weight: bold\">}</span>\n",
       "<span style=\"font-weight: bold\">)</span>\n",
       "</pre>\n"
      ],
      "text/plain": [
       "\u001b[1;35mResponseUsage\u001b[0m\u001b[1m(\u001b[0m\n",
       "    \u001b[33minput_tokens\u001b[0m=\u001b[1;36m103\u001b[0m,\n",
       "    \u001b[33moutput_tokens\u001b[0m=\u001b[1;36m1736\u001b[0m,\n",
       "    \u001b[33moutput_tokens_details\u001b[0m=\u001b[1;35mOutputTokensDetails\u001b[0m\u001b[1m(\u001b[0m\u001b[33mreasoning_tokens\u001b[0m=\u001b[1;36m1152\u001b[0m\u001b[1m)\u001b[0m,\n",
       "    \u001b[33mtotal_tokens\u001b[0m=\u001b[1;36m1839\u001b[0m,\n",
       "    \u001b[33minput_tokens_details\u001b[0m=\u001b[1m{\u001b[0m\u001b[32m'cached_tokens'\u001b[0m: \u001b[1;36m0\u001b[0m\u001b[1m}\u001b[0m\n",
       "\u001b[1m)\u001b[0m\n"
      ]
     },
     "metadata": {},
     "output_type": "display_data"
    },
    {
     "name": "stdout",
     "output_type": "stream",
     "text": [
      "#!/bin/bash\n",
      "#\n",
      "# This script takes a matrix represented as a string in the format:\n",
      "#   \"[1,2],[3,4],[5,6]\"\n",
      "# and prints its transpose in the same format.\n",
      "#\n",
      "# Usage:\n",
      "#   ./transpose.sh '[1,2],[3,4],[5,6]'\n",
      "#\n",
      "\n",
      "if [ \"$#\" -ne 1 ]; then\n",
      "    echo \"Usage: $0 '<matrix>'\"\n",
      "    exit 1\n",
      "fi\n",
      "\n",
      "# Get the input matrix string.\n",
      "matrix_string=\"$1\"\n",
      "\n",
      "# Remove any whitespace.\n",
      "matrix_string=$(echo \"$matrix_string\" | tr -d '[:space:]')\n",
      "\n",
      "# The input format is a series of rows enclosed in brackets and separated by commas.\n",
      "# For example: \"[1,2],[3,4],[5,6]\".\n",
      "# First, remove the leading \"[\" and trailing \"]\" from the entire string.\n",
      "# Then replace \"],[\" with a newline so that each row is on its own line.\n",
      "rows_str=$(echo \"$matrix_string\" | sed 's/^\\[//; s/\\]$//; s/\\],\\[/\\n/g')\n",
      "\n",
      "# Read the rows into an array.\n",
      "IFS=$'\\n' read -d '' -r -a rows <<< \"$rows_str\"\n",
      "\n",
      "# Determine the number of rows.\n",
      "num_rows=${#rows[@]}\n",
      "\n",
      "# Split the first row by commas to determine the number of columns.\n",
      "IFS=',' read -r -a first_row_array <<< \"${rows[0]}\"\n",
      "num_cols=${#first_row_array[@]}\n",
      "\n",
      "# Prepare an array to store each row of the transposed matrix.\n",
      "transposed=()\n",
      "\n",
      "# Loop through each column index in the original matrix.\n",
      "for (( col=0; col<num_cols; col++ )); do\n",
      "    # Build a new row for the transpose.\n",
      "    new_row=()\n",
      "    # Loop through each original row to extract the element at index \"col\".\n",
      "    for (( row=0; row<num_rows; row++ )); do\n",
      "        # Split the current row into its elements.\n",
      "        IFS=',' read -r -a row_array <<< \"${rows[row]}\"\n",
      "        new_row+=(\"${row_array[col]}\")\n",
      "    done\n",
      "    # Join the new_row array with commas and enclose in brackets.\n",
      "    row_str=\"[${new_row[*]}]\"\n",
      "    # Replace spaces with commas in the joined string.\n",
      "    row_str=$(echo \"$row_str\" | sed 's/ /,/g')\n",
      "    transposed+=(\"$row_str\")\n",
      "done\n",
      "\n",
      "# Join the transposed rows with commas.\n",
      "output=$(IFS=, ; echo \"${transposed[*]}\")\n",
      "\n",
      "# Print the result.\n",
      "echo \"$output\"\n",
      "\n",
      "# End of script\n",
      "\n",
      "# Example:\n",
      "# Input: \"[1,2],[3,4],[5,6]\"\n",
      "# Output: \"[1,3,5],[2,4,6]\"\n",
      "\n"
     ]
    }
   ],
   "source": [
    "prompt = \"\"\"\n",
    "Write a bash script that takes a matrix represented as a string with \n",
    "format '[1,2],[3,4],[5,6]' and prints the transpose in the same format.\n",
    "\"\"\"\n",
    "\n",
    "response = openai.responses.create(\n",
    "    model=MODEL,\n",
    "    reasoning={\"effort\": \"medium\"}, # reasoning_effort now become reasoning and accept a dictionary\n",
    "    input=[\n",
    "        {\n",
    "            \"role\": \"user\", \n",
    "            \"content\": prompt\n",
    "        }\n",
    "    ]\n",
    ")\n",
    "\n",
    "rich.print(response.usage)\n",
    "print(response.output_text)"
   ]
  }
 ],
 "metadata": {
  "kernelspec": {
   "display_name": ".venv",
   "language": "python",
   "name": "python3"
  },
  "language_info": {
   "codemirror_mode": {
    "name": "ipython",
    "version": 3
   },
   "file_extension": ".py",
   "mimetype": "text/x-python",
   "name": "python",
   "nbconvert_exporter": "python",
   "pygments_lexer": "ipython3",
   "version": "3.12.4"
  }
 },
 "nbformat": 4,
 "nbformat_minor": 5
}
