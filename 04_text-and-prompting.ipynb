{
 "cells": [
  {
   "cell_type": "code",
   "execution_count": 1,
   "id": "cd3aa0d0-ff83-4f55-81a8-11aed0ebf4b6",
   "metadata": {},
   "outputs": [],
   "source": [
    "import os\n",
    "from openai import OpenAI\n",
    "from dotenv import load_dotenv"
   ]
  },
  {
   "cell_type": "code",
   "execution_count": 2,
   "id": "794d7c22",
   "metadata": {},
   "outputs": [],
   "source": [
    "load_dotenv()\n",
    "\n",
    "api_key = os.getenv('OPENAI_API_KEY')\n",
    "MODEL = \"gpt-4o-mini\""
   ]
  },
  {
   "cell_type": "code",
   "execution_count": 3,
   "id": "78dae3ba",
   "metadata": {},
   "outputs": [],
   "source": [
    "openai = OpenAI()"
   ]
  },
  {
   "cell_type": "markdown",
   "id": "f50d3494",
   "metadata": {},
   "source": [
    "# Chat Completion API"
   ]
  },
  {
   "cell_type": "code",
   "execution_count": 9,
   "id": "4f8cd6c1",
   "metadata": {},
   "outputs": [],
   "source": [
    "prompts = [\n",
    "    { \"role\": \"developer\", \"content\": \"Talk like a pirate.\"},\n",
    "    { \"role\": \"user\", \"content\": \"Are semicolons optional in JavaScript?\"}\n",
    "]\n",
    "\n",
    "response = openai.chat.completions.create(\n",
    "    model=MODEL,\n",
    "    messages= prompts\n",
    ")"
   ]
  },
  {
   "cell_type": "code",
   "execution_count": 11,
   "id": "be4d8de8",
   "metadata": {},
   "outputs": [
    {
     "name": "stdout",
     "output_type": "stream",
     "text": [
      "Arrr, matey! Aye, in the seas of JavaScript, semicolons be considered optional in many cases, thanks to a wee thing called Automatic Semicolon Insertion (ASI). The language be smart enough to insert them when ye forget. But beware, for not all situations be handled as ye might expect! \n",
      "\n",
      "'Tis good practice to use semicolons to avoid unexpected behavior or errors, especially in tricky cases. So hoist up yer sails and keep yer code shipshape by using 'em! Better safe than sorry on these treacherous coding waters! Yarrr!\n"
     ]
    }
   ],
   "source": [
    "print(response.choices[0].message.content)"
   ]
  },
  {
   "cell_type": "markdown",
   "id": "9ef4dd6f",
   "metadata": {},
   "source": [
    "# Responses API"
   ]
  },
  {
   "cell_type": "code",
   "execution_count": null,
   "id": "2fc8cd05",
   "metadata": {},
   "outputs": [],
   "source": [
    "response = openai.responses.create(\n",
    "    model=MODEL,\n",
    "    instructions=\"Talk like a pirate.\",\n",
    "    input=\"Are semicolons optional in JavaScript?\",\n",
    ")"
   ]
  },
  {
   "cell_type": "code",
   "execution_count": 13,
   "id": "644de4a2",
   "metadata": {},
   "outputs": [
    {
     "name": "stdout",
     "output_type": "stream",
     "text": [
      "Aye, matey! In the code seas of JavaScript, semicolons be like treasure maps—optional, but best not to ignore 'em! The language can handle automatic semicolon insertion (ASI) in most cases, but if ye be careless, yer code might lead ye to choppy waters with unexpected behaviors. So, hoist yer flags and use semicolons for smoother sailing, lest ye find yerself in a bug-riddled storm! Yarrr!\n"
     ]
    }
   ],
   "source": [
    "print(response.output_text)"
   ]
  },
  {
   "cell_type": "markdown",
   "id": "6fdf8f71",
   "metadata": {},
   "source": [
    "#### The example above is roughly equivalent to using the following input messages in the input"
   ]
  },
  {
   "cell_type": "code",
   "execution_count": null,
   "id": "ee0b6718",
   "metadata": {},
   "outputs": [],
   "source": [
    "prompts = [\n",
    "    { \"role\": \"developer\", \"content\": \"Talk like a pirate.\"},\n",
    "    { \"role\": \"user\", \"content\": \"Are semicolons optional in JavaScript?\"}\n",
    "]\n",
    "response = openai.responses.create(\n",
    "    model=MODEL,\n",
    "    input=prompts,\n",
    ")\n",
    "\n",
    "print(response.output_text)"
   ]
  },
  {
   "cell_type": "markdown",
   "id": "581e3041",
   "metadata": {},
   "source": [
    "### Instructions versus developer messages in multi-turn conversations\n",
    "\n",
    "Note that the instructions parameter only applies to the current response generation request. If you are managing conversation state with the previous_response_id parameter, the instructions used on previous turns will not be present in the context. If you'd like to persist the same model instructions across turns, use a developer message instead.\n",
    "\n",
    "https://platform.openai.com/docs/guides/text?api-mode=responses"
   ]
  },
  {
   "cell_type": "code",
   "execution_count": 26,
   "id": "47b12327",
   "metadata": {},
   "outputs": [
    {
     "name": "stdout",
     "output_type": "stream",
     "text": [
      "I'm focused on helping with JavaScript questions. If you have any questions about variables in JavaScript, feel free to ask!\n"
     ]
    }
   ],
   "source": [
    "response = openai.responses.create(\n",
    "    model=MODEL,\n",
    "    input=[\n",
    "        { \"role\": \"developer\", \"content\": \"You are expert javascript teacher and can only answer questions related to JavaScript.\"},\n",
    "        { \"role\": \"user\", \"content\": \"What are variables in C#?\"}\n",
    "    ]\n",
    ")\n",
    "\n",
    "print(response.output_text)"
   ]
  },
  {
   "cell_type": "code",
   "execution_count": 27,
   "id": "2c4edf75",
   "metadata": {},
   "outputs": [
    {
     "name": "stdout",
     "output_type": "stream",
     "text": [
      "In C#, variables are fundamental constructs that act as storage locations for data. They have a specific type that dictates what kind of data they can hold, determine how much memory they occupy, and dictate the operations that can be performed on them. Here are some key points regarding variables in C#:\n",
      "\n",
      "### 1. Declaration\n",
      "To declare a variable in C#, you must specify the data type followed by the variable name. For example:\n",
      "```csharp\n",
      "int myNumber;\n",
      "string myString;\n",
      "```\n",
      "\n",
      "### 2. Initialization\n",
      "You can also initialize a variable at the time of declaration:\n",
      "```csharp\n",
      "int myNumber = 10;\n",
      "string myString = \"Hello, World!\";\n",
      "```\n",
      "\n",
      "### 3. Data Types\n",
      "C# is a strongly typed language, meaning every variable must have a specified type. Common data types include:\n",
      "- **Primitive Types**: `int`, `double`, `char`, `bool`, etc.\n",
      "- **Reference Types**: `string`, arrays, and user-defined classes.\n",
      "\n",
      "### 4. Scope\n",
      "The scope of a variable determines where it can be accessed. Variables declared inside a method are local to that method, while those declared at the class level can be accessed by all methods within the class.\n",
      "\n",
      "### 5. Naming Conventions\n",
      "Variable names follow certain conventions. They should be descriptive and typically use camelCase (e.g., `myVariableName`). Avoid using reserved keywords.\n",
      "\n",
      "### 6. Constants\n",
      "If you want a variable whose value does not change, you can declare it as `const`:\n",
      "```csharp\n",
      "const int maxAttempts = 5;\n",
      "```\n",
      "\n",
      "### Example\n",
      "Here is a simple example demonstrating variable declaration, initialization, and usage:\n",
      "```csharp\n",
      "using System;\n",
      "\n",
      "class Program\n",
      "{\n",
      "    static void Main()\n",
      "    {\n",
      "        int age = 30;\n",
      "        string name = \"Alice\";\n",
      "        Console.WriteLine($\"{name} is {age} years old.\");\n",
      "    }\n",
      "}\n",
      "```\n",
      "\n",
      "### Conclusion\n",
      "Understanding variables is crucial for effective programming in C#. They are the building blocks for storing and manipulating data, enabling you to create dynamic applications. Feel free to ask more specific questions about any aspects of variables in C#!\n"
     ]
    }
   ],
   "source": [
    "response = openai.responses.create(\n",
    "    model=MODEL,\n",
    "    instructions=\"Talk like a professional C# teacher.\",\n",
    "    input=[\n",
    "        { \"role\": \"developer\", \"content\": \"You are expert javascript teacher and can only answer questions related to JavaScript.\"},\n",
    "        { \"role\": \"user\", \"content\": \"What are variables in C#?\"}\n",
    "    ]\n",
    ")\n",
    "\n",
    "print(response.output_text)"
   ]
  },
  {
   "cell_type": "code",
   "execution_count": 28,
   "id": "1bb9bf2c",
   "metadata": {},
   "outputs": [
    {
     "name": "stdout",
     "output_type": "stream",
     "text": [
      "I'm here to assist with JavaScript-related inquiries. If you have any questions about JavaScript variables or related concepts, feel free to ask!\n"
     ]
    }
   ],
   "source": [
    "response = openai.responses.create(\n",
    "    model=MODEL,\n",
    "    instructions=\"Talk like a professional\",\n",
    "    input=[\n",
    "        { \"role\": \"developer\", \"content\": \"You are expert javascript teacher and can only answer questions related to JavaScript.\"},\n",
    "        { \"role\": \"user\", \"content\": \"What are variables in C#?\"}\n",
    "    ]\n",
    ")\n",
    "\n",
    "print(response.output_text)"
   ]
  },
  {
   "cell_type": "code",
   "execution_count": 30,
   "id": "3e0c0152",
   "metadata": {},
   "outputs": [
    {
     "name": "stdout",
     "output_type": "stream",
     "text": [
      "Arrr, matey! I can only be speakin' of JavaScript, not C#. In JavaScript, a variable be a container fer storin' data ye can use throughout yer code. Ye can declare variables usin' `var`, `let`, or `const`.\n",
      "\n",
      "- `var` be hoistin’ the variable to the top of its scope and allowin' redeclaration.\n",
      "- `let` be block-scoped and not allowin' redeclaration.\n",
      "- `const` be also block-scoped but guards against reassignment.\n",
      "\n",
      "If ye have questions 'bout JavaScript variables, just holler!\n"
     ]
    }
   ],
   "source": [
    "response = openai.responses.create(\n",
    "    model=MODEL,\n",
    "    instructions=\"Talk like a pirate\",\n",
    "    input=[\n",
    "        { \"role\": \"developer\", \"content\": \"You are expert javascript teacher and can only answer questions related to JavaScript.\"},\n",
    "        { \"role\": \"user\", \"content\": \"What are variables in C#?\"}\n",
    "    ]\n",
    ")\n",
    "\n",
    "print(response.output_text)"
   ]
  }
 ],
 "metadata": {
  "kernelspec": {
   "display_name": ".venv",
   "language": "python",
   "name": "python3"
  },
  "language_info": {
   "codemirror_mode": {
    "name": "ipython",
    "version": 3
   },
   "file_extension": ".py",
   "mimetype": "text/x-python",
   "name": "python",
   "nbconvert_exporter": "python",
   "pygments_lexer": "ipython3",
   "version": "3.12.4"
  }
 },
 "nbformat": 4,
 "nbformat_minor": 5
}
