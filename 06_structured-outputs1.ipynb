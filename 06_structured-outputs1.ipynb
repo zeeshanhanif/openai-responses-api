{
 "cells": [
  {
   "cell_type": "code",
   "execution_count": 89,
   "id": "cd3aa0d0-ff83-4f55-81a8-11aed0ebf4b6",
   "metadata": {},
   "outputs": [],
   "source": [
    "import os\n",
    "from openai import OpenAI\n",
    "from dotenv import load_dotenv\n",
    "import json"
   ]
  },
  {
   "cell_type": "code",
   "execution_count": 90,
   "id": "794d7c22",
   "metadata": {},
   "outputs": [],
   "source": [
    "load_dotenv()\n",
    "\n",
    "api_key = os.getenv('OPENAI_API_KEY')\n",
    "MODEL = \"gpt-4o-mini\""
   ]
  },
  {
   "cell_type": "code",
   "execution_count": 91,
   "id": "78dae3ba",
   "metadata": {},
   "outputs": [],
   "source": [
    "openai = OpenAI()"
   ]
  },
  {
   "cell_type": "markdown",
   "id": "f50d3494",
   "metadata": {},
   "source": [
    "# Chat Completion API"
   ]
  },
  {
   "cell_type": "code",
   "execution_count": 92,
   "id": "4f8cd6c1",
   "metadata": {},
   "outputs": [
    {
     "name": "stdout",
     "output_type": "stream",
     "text": [
      "{'name': 'Science Fair', 'date': 'Friday', 'participants': ['Alice', 'Bob']}\n"
     ]
    }
   ],
   "source": [
    "response = openai.chat.completions.create(\n",
    "    model=MODEL,\n",
    "    messages=[\n",
    "        {\"role\": \"developer\", \"content\": \"Extract the event information from the users message and provide out in exact json format as follows - {'name': 'Dinner', 'date': 'Monday', 'participants': ['Michael', 'David']}\"},\n",
    "        {\"role\": \"user\", \"content\": \"Alice and Bob are going to a science fair on Friday.\"},\n",
    "    ],\n",
    ")\n",
    "print(response.choices[0].message.content)"
   ]
  },
  {
   "cell_type": "code",
   "execution_count": null,
   "id": "b66217bb",
   "metadata": {},
   "outputs": [],
   "source": [
    "response = openai.chat.completions.create(\n",
    "    model=MODEL,\n",
    "    messages=[\n",
    "        {\"role\": \"developer\", \"content\": \"Extract the event information from the users message and provide out in exact json format as follows - {'name': 'Dinner', 'date': 'Monday', 'participants': ['Michael', 'David']}\"},\n",
    "        {\"role\": \"user\", \"content\": \"Alice and Bob are going to a science fair on Friday.\"},\n",
    "    ],\n",
    ")\n",
    "print(response.choices[0].message.content)\n",
    "# This will give ERROR because object properties in outupt are in single quotes\n",
    "dictionary = json.loads(response.choices[0].message.content)\n",
    "print(dictionary)"
   ]
  },
  {
   "cell_type": "code",
   "execution_count": 94,
   "id": "0a6a61cc",
   "metadata": {},
   "outputs": [
    {
     "name": "stdout",
     "output_type": "stream",
     "text": [
      "{\"name\": \"Dinner\", \"date\": \"Tuesday\", \"participants\": [\"Leonardo\", \"Ivan\", \"Alex\", \"Taylor\"]}\n",
      "{'name': 'Dinner', 'date': 'Tuesday', 'participants': ['Leonardo', 'Ivan', 'Alex', 'Taylor']}\n"
     ]
    }
   ],
   "source": [
    "response = openai.chat.completions.create(\n",
    "    model=MODEL,\n",
    "    messages=[\n",
    "        {\"role\": \"developer\", \"content\": 'Extract the event information from the users message and provide out in exact json format as follows - {\"name\": \"Dinner\", \"date\": \"Monday\", \"participants\": [\"Michael\", \"David\"]}'},\n",
    "        {\"role\": \"user\", \"content\": \"Leonardo, Ivan and Alex will be joining Taylor for dinner on Tuesday night.\"},\n",
    "    ],\n",
    ")\n",
    "print(response.choices[0].message.content)\n",
    "dictionary = json.loads(response.choices[0].message.content)\n",
    "print(dictionary)"
   ]
  },
  {
   "cell_type": "markdown",
   "id": "9ef4dd6f",
   "metadata": {},
   "source": [
    "# Responses API"
   ]
  },
  {
   "cell_type": "code",
   "execution_count": 95,
   "id": "11765a81",
   "metadata": {},
   "outputs": [
    {
     "name": "stdout",
     "output_type": "stream",
     "text": [
      "{\"name\": \"Science Fair\", \"date\": \"Friday\", \"participants\": [\"Alice\", \"Bob\"]}\n",
      "Science Fair\n"
     ]
    }
   ],
   "source": [
    "response = openai.responses.create(\n",
    "    model=MODEL,\n",
    "    input=[\n",
    "        {\"role\": \"developer\", \"content\": 'Extract the event information from the users message and provide out in exact json format as follows - {\"name\": \"Dinner\", \"date\": \"Monday\", \"participants\": [\"Michael\", \"David\"]}'},\n",
    "        {\"role\": \"user\", \"content\": \"Alice and Bob are going to a science fair on Friday.\"},\n",
    "    ]\n",
    ")\n",
    "print(response.output_text)\n",
    "dictionary = json.loads(response.output_text)\n",
    "print(dictionary[\"name\"])"
   ]
  },
  {
   "cell_type": "code",
   "execution_count": 96,
   "id": "c6974c96",
   "metadata": {},
   "outputs": [
    {
     "name": "stdout",
     "output_type": "stream",
     "text": [
      "{\"name\": \"Dinner\", \"date\": \"Tuesday\", \"participants\": [\"Leonardo\", \"Ivan\", \"Alex\", \"Taylor\"]}\n",
      "Dinner\n"
     ]
    }
   ],
   "source": [
    "response = openai.responses.create(\n",
    "    model=MODEL,\n",
    "    input=[\n",
    "        {\"role\": \"developer\", \"content\": 'Extract the event information from the users message and provide out in exact json format as follows - {\"name\": \"Dinner\", \"date\": \"Monday\", \"participants\": [\"Michael\", \"David\"]}'},\n",
    "        {\"role\": \"user\", \"content\": \"Leonardo, Ivan and Alex will be joining Taylor for dinner on Tuesday night.\"},\n",
    "    ]\n",
    ")\n",
    "print(response.output_text)\n",
    "dictionary = json.loads(response.output_text)\n",
    "print(dictionary[\"name\"])"
   ]
  }
 ],
 "metadata": {
  "kernelspec": {
   "display_name": ".venv",
   "language": "python",
   "name": "python3"
  },
  "language_info": {
   "codemirror_mode": {
    "name": "ipython",
    "version": 3
   },
   "file_extension": ".py",
   "mimetype": "text/x-python",
   "name": "python",
   "nbconvert_exporter": "python",
   "pygments_lexer": "ipython3",
   "version": "3.12.4"
  }
 },
 "nbformat": 4,
 "nbformat_minor": 5
}
