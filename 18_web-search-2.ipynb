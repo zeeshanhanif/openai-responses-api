{
 "cells": [
  {
   "cell_type": "code",
   "execution_count": 8,
   "id": "cd3aa0d0-ff83-4f55-81a8-11aed0ebf4b6",
   "metadata": {},
   "outputs": [],
   "source": [
    "import os\n",
    "from openai import OpenAI\n",
    "from dotenv import load_dotenv\n",
    "import rich"
   ]
  },
  {
   "cell_type": "code",
   "execution_count": 9,
   "id": "794d7c22",
   "metadata": {},
   "outputs": [],
   "source": [
    "load_dotenv()\n",
    "\n",
    "api_key = os.getenv('OPENAI_API_KEY')\n",
    "MODEL = \"gpt-4o-mini\"\n",
    "\n",
    "openai = OpenAI()"
   ]
  },
  {
   "cell_type": "markdown",
   "id": "168aed37",
   "metadata": {},
   "source": [
    "Search the web for the latest information before generating a response\n",
    "\n",
    "1) In Chat API, model always retrieves information from web before responding to your query\n",
    "2) In Responses API, you enable web search by configuring it in the tools, and model can choose to serach the web or not based on the content of the input prompt."
   ]
  },
  {
   "cell_type": "markdown",
   "id": "6b4a622a",
   "metadata": {},
   "source": [
    "In this example, the prompt for both the Chat API and the Responses API is a general question that the model can answer directly. However, in the case of the Chat API's `gpt-4o-search-preview` model, it will always perform a web search."
   ]
  },
  {
   "cell_type": "markdown",
   "id": "f50d3494",
   "metadata": {},
   "source": [
    "# Chat Completion API"
   ]
  },
  {
   "cell_type": "markdown",
   "id": "77edba2a",
   "metadata": {},
   "source": [
    "https://platform.openai.com/docs/guides/tools-web-search?api-mode=chat"
   ]
  },
  {
   "cell_type": "markdown",
   "id": "26a5ca10",
   "metadata": {},
   "source": [
    "Always search the web first"
   ]
  },
  {
   "cell_type": "markdown",
   "id": "4fbaf1f3",
   "metadata": {},
   "source": [
    "Note: The annotation object will contain links to the web pages from which the model extracted information to construct the output\n",
    "```\n",
    "{\n",
    "    type:'url_citation',\n",
    "    url_citation : {\n",
    "        end_index: 0,\n",
    "        start_index: 0,\n",
    "        title:\"title\",\n",
    "        url:'url'\n",
    "    }\n",
    "}\n",
    "```"
   ]
  },
  {
   "cell_type": "markdown",
   "id": "05914e87",
   "metadata": {},
   "source": [
    "In Chat API we have to use specific model that is fine tuned for web searches `gpt-4o-search-preview`"
   ]
  },
  {
   "cell_type": "code",
   "execution_count": 10,
   "id": "8ac98e02",
   "metadata": {},
   "outputs": [
    {
     "name": "stdout",
     "output_type": "stream",
     "text": [
      "Agentic AI refers to autonomous artificial intelligence systems capable of making decisions and performing tasks without human intervention. These systems perceive their environment, analyze data, and take actions to achieve specific goals, often improving their performance through continuous learning. ([en.wikipedia.org](https://en.wikipedia.org/wiki/Agentic_AI?utm_source=openai))\n",
      "\n",
      "Unlike traditional AI, which typically follows predefined rules or requires human oversight, agentic AI operates independently, adapting to new information and complex scenarios. This autonomy enables applications across various domains, including:\n",
      "\n",
      "- **Software Development**: Automating coding tasks and generating code snippets.\n",
      "- **Customer Support**: Enhancing chatbot capabilities to handle a broader range of inquiries.\n",
      "- **Cybersecurity**: Detecting and mitigating threats in real time.\n",
      "- **Business Intelligence**: Providing advanced analytics and insights through natural language processing. ([en.wikipedia.org](https://en.wikipedia.org/wiki/Agentic_AI?utm_source=openai))\n",
      "\n",
      "The evolution of agentic AI is considered a significant advancement in artificial intelligence, offering the potential to transform industries by automating complex processes and enabling more efficient decision-making. ([axios.com](https://www.axios.com/2025/01/27/agentic-ai-big-next-step-evolution?utm_source=openai))\n",
      "\n",
      "\n",
      "## Recent Developments in Agentic AI:\n",
      "- [AI agents have clear mission, hazy business model](https://www.reuters.com/breakingviews/ai-agents-have-clear-mission-hazy-business-model-2025-02-20/?utm_source=openai)\n",
      "- [How the Rise of New Digital Workers Will Lead to an Unlimited Age](https://time.com/7178872/agents-unlimited-age/?utm_source=openai)\n",
      "- [Microsoft pitches AI 'agents' that can perform tasks on their own at Ignite 2024](https://apnews.com/article/782119423e28a7d88e4a27c12ce4e11f?utm_source=openai) \n",
      "6\n"
     ]
    },
    {
     "data": {
      "text/html": [
       "<pre style=\"white-space:pre;overflow-x:auto;line-height:normal;font-family:Menlo,'DejaVu Sans Mono',consolas,'Courier New',monospace\"><span style=\"font-weight: bold\">[</span>\n",
       "    <span style=\"color: #800080; text-decoration-color: #800080; font-weight: bold\">Annotation</span><span style=\"font-weight: bold\">(</span>\n",
       "        <span style=\"color: #808000; text-decoration-color: #808000\">type</span>=<span style=\"color: #008000; text-decoration-color: #008000\">'url_citation'</span>,\n",
       "        <span style=\"color: #808000; text-decoration-color: #808000\">url_citation</span>=<span style=\"color: #800080; text-decoration-color: #800080; font-weight: bold\">AnnotationURLCitation</span><span style=\"font-weight: bold\">(</span>\n",
       "            <span style=\"color: #808000; text-decoration-color: #808000\">end_index</span>=<span style=\"color: #008080; text-decoration-color: #008080; font-weight: bold\">384</span>,\n",
       "            <span style=\"color: #808000; text-decoration-color: #808000\">start_index</span>=<span style=\"color: #008080; text-decoration-color: #008080; font-weight: bold\">304</span>,\n",
       "            <span style=\"color: #808000; text-decoration-color: #808000\">title</span>=<span style=\"color: #008000; text-decoration-color: #008000\">'Agentic AI'</span>,\n",
       "            <span style=\"color: #808000; text-decoration-color: #808000\">url</span>=<span style=\"color: #008000; text-decoration-color: #008000\">'https://en.wikipedia.org/wiki/Agentic_AI?utm_source=openai'</span>\n",
       "        <span style=\"font-weight: bold\">)</span>\n",
       "    <span style=\"font-weight: bold\">)</span>,\n",
       "    <span style=\"color: #800080; text-decoration-color: #800080; font-weight: bold\">Annotation</span><span style=\"font-weight: bold\">(</span>\n",
       "        <span style=\"color: #808000; text-decoration-color: #808000\">type</span>=<span style=\"color: #008000; text-decoration-color: #008000\">'url_citation'</span>,\n",
       "        <span style=\"color: #808000; text-decoration-color: #808000\">url_citation</span>=<span style=\"color: #800080; text-decoration-color: #800080; font-weight: bold\">AnnotationURLCitation</span><span style=\"font-weight: bold\">(</span>\n",
       "            <span style=\"color: #808000; text-decoration-color: #808000\">end_index</span>=<span style=\"color: #008080; text-decoration-color: #008080; font-weight: bold\">1069</span>,\n",
       "            <span style=\"color: #808000; text-decoration-color: #808000\">start_index</span>=<span style=\"color: #008080; text-decoration-color: #008080; font-weight: bold\">989</span>,\n",
       "            <span style=\"color: #808000; text-decoration-color: #808000\">title</span>=<span style=\"color: #008000; text-decoration-color: #008000\">'Agentic AI'</span>,\n",
       "            <span style=\"color: #808000; text-decoration-color: #808000\">url</span>=<span style=\"color: #008000; text-decoration-color: #008000\">'https://en.wikipedia.org/wiki/Agentic_AI?utm_source=openai'</span>\n",
       "        <span style=\"font-weight: bold\">)</span>\n",
       "    <span style=\"font-weight: bold\">)</span>,\n",
       "    <span style=\"color: #800080; text-decoration-color: #800080; font-weight: bold\">Annotation</span><span style=\"font-weight: bold\">(</span>\n",
       "        <span style=\"color: #808000; text-decoration-color: #808000\">type</span>=<span style=\"color: #008000; text-decoration-color: #008000\">'url_citation'</span>,\n",
       "        <span style=\"color: #808000; text-decoration-color: #808000\">url_citation</span>=<span style=\"color: #800080; text-decoration-color: #800080; font-weight: bold\">AnnotationURLCitation</span><span style=\"font-weight: bold\">(</span>\n",
       "            <span style=\"color: #808000; text-decoration-color: #808000\">end_index</span>=<span style=\"color: #008080; text-decoration-color: #008080; font-weight: bold\">1391</span>,\n",
       "            <span style=\"color: #808000; text-decoration-color: #808000\">start_index</span>=<span style=\"color: #008080; text-decoration-color: #008080; font-weight: bold\">1291</span>,\n",
       "            <span style=\"color: #808000; text-decoration-color: #808000\">title</span>=<span style=\"color: #008000; text-decoration-color: #008000\">'Agentic AI is a \"big next step\" in AI\\'s evolution, SAP CEO says'</span>,\n",
       "            <span style=\"color: #808000; text-decoration-color: #808000\">url</span>=<span style=\"color: #008000; text-decoration-color: #008000\">'https://www.axios.com/2025/01/27/agentic-ai-big-next-step-evolution?utm_source=openai'</span>\n",
       "        <span style=\"font-weight: bold\">)</span>\n",
       "    <span style=\"font-weight: bold\">)</span>,\n",
       "    <span style=\"color: #800080; text-decoration-color: #800080; font-weight: bold\">Annotation</span><span style=\"font-weight: bold\">(</span>\n",
       "        <span style=\"color: #808000; text-decoration-color: #808000\">type</span>=<span style=\"color: #008000; text-decoration-color: #008000\">'url_citation'</span>,\n",
       "        <span style=\"color: #808000; text-decoration-color: #808000\">url_citation</span>=<span style=\"color: #800080; text-decoration-color: #800080; font-weight: bold\">AnnotationURLCitation</span><span style=\"font-weight: bold\">(</span>\n",
       "            <span style=\"color: #808000; text-decoration-color: #808000\">end_index</span>=<span style=\"color: #008080; text-decoration-color: #008080; font-weight: bold\">1603</span>,\n",
       "            <span style=\"color: #808000; text-decoration-color: #808000\">start_index</span>=<span style=\"color: #008080; text-decoration-color: #008080; font-weight: bold\">1434</span>,\n",
       "            <span style=\"color: #808000; text-decoration-color: #808000\">title</span>=<span style=\"color: #008000; text-decoration-color: #008000\">'AI agents have clear mission, hazy business model'</span>,\n",
       "            <span style=\"color: #808000; text-decoration-color: #808000\">url</span>=<span style=\"color: #008000; text-decoration-color: #008000\">'https://www.reuters.com/breakingviews/ai-agents-have-clear-mission-hazy-business-model-2025-02-20/</span>\n",
       "<span style=\"color: #008000; text-decoration-color: #008000\">?utm_source=openai'</span>\n",
       "        <span style=\"font-weight: bold\">)</span>\n",
       "    <span style=\"font-weight: bold\">)</span>,\n",
       "    <span style=\"color: #800080; text-decoration-color: #800080; font-weight: bold\">Annotation</span><span style=\"font-weight: bold\">(</span>\n",
       "        <span style=\"color: #808000; text-decoration-color: #808000\">type</span>=<span style=\"color: #008000; text-decoration-color: #008000\">'url_citation'</span>,\n",
       "        <span style=\"color: #808000; text-decoration-color: #808000\">url_citation</span>=<span style=\"color: #800080; text-decoration-color: #800080; font-weight: bold\">AnnotationURLCitation</span><span style=\"font-weight: bold\">(</span>\n",
       "            <span style=\"color: #808000; text-decoration-color: #808000\">end_index</span>=<span style=\"color: #008080; text-decoration-color: #008080; font-weight: bold\">1739</span>,\n",
       "            <span style=\"color: #808000; text-decoration-color: #808000\">start_index</span>=<span style=\"color: #008080; text-decoration-color: #008080; font-weight: bold\">1606</span>,\n",
       "            <span style=\"color: #808000; text-decoration-color: #808000\">title</span>=<span style=\"color: #008000; text-decoration-color: #008000\">'How the Rise of New Digital Workers Will Lead to an Unlimited Age'</span>,\n",
       "            <span style=\"color: #808000; text-decoration-color: #808000\">url</span>=<span style=\"color: #008000; text-decoration-color: #008000\">'https://time.com/7178872/agents-unlimited-age/?utm_source=openai'</span>\n",
       "        <span style=\"font-weight: bold\">)</span>\n",
       "    <span style=\"font-weight: bold\">)</span>,\n",
       "    <span style=\"color: #800080; text-decoration-color: #800080; font-weight: bold\">Annotation</span><span style=\"font-weight: bold\">(</span>\n",
       "        <span style=\"color: #808000; text-decoration-color: #808000\">type</span>=<span style=\"color: #008000; text-decoration-color: #008000\">'url_citation'</span>,\n",
       "        <span style=\"color: #808000; text-decoration-color: #808000\">url_citation</span>=<span style=\"color: #800080; text-decoration-color: #800080; font-weight: bold\">AnnotationURLCitation</span><span style=\"font-weight: bold\">(</span>\n",
       "            <span style=\"color: #808000; text-decoration-color: #808000\">end_index</span>=<span style=\"color: #008080; text-decoration-color: #008080; font-weight: bold\">1903</span>,\n",
       "            <span style=\"color: #808000; text-decoration-color: #808000\">start_index</span>=<span style=\"color: #008080; text-decoration-color: #008080; font-weight: bold\">1742</span>,\n",
       "            <span style=\"color: #808000; text-decoration-color: #808000\">title</span>=<span style=\"color: #008000; text-decoration-color: #008000\">\"Microsoft pitches AI 'agents' that can perform tasks on their own at Ignite 2024\"</span>,\n",
       "            <span style=\"color: #808000; text-decoration-color: #808000\">url</span>=<span style=\"color: #008000; text-decoration-color: #008000\">'https://apnews.com/article/782119423e28a7d88e4a27c12ce4e11f?utm_source=openai'</span>\n",
       "        <span style=\"font-weight: bold\">)</span>\n",
       "    <span style=\"font-weight: bold\">)</span>\n",
       "<span style=\"font-weight: bold\">]</span>\n",
       "</pre>\n"
      ],
      "text/plain": [
       "\u001b[1m[\u001b[0m\n",
       "    \u001b[1;35mAnnotation\u001b[0m\u001b[1m(\u001b[0m\n",
       "        \u001b[33mtype\u001b[0m=\u001b[32m'url_citation'\u001b[0m,\n",
       "        \u001b[33murl_citation\u001b[0m=\u001b[1;35mAnnotationURLCitation\u001b[0m\u001b[1m(\u001b[0m\n",
       "            \u001b[33mend_index\u001b[0m=\u001b[1;36m384\u001b[0m,\n",
       "            \u001b[33mstart_index\u001b[0m=\u001b[1;36m304\u001b[0m,\n",
       "            \u001b[33mtitle\u001b[0m=\u001b[32m'Agentic AI'\u001b[0m,\n",
       "            \u001b[33murl\u001b[0m=\u001b[32m'https://en.wikipedia.org/wiki/Agentic_AI?\u001b[0m\u001b[32mutm_source\u001b[0m\u001b[32m=\u001b[0m\u001b[32mopenai\u001b[0m\u001b[32m'\u001b[0m\n",
       "        \u001b[1m)\u001b[0m\n",
       "    \u001b[1m)\u001b[0m,\n",
       "    \u001b[1;35mAnnotation\u001b[0m\u001b[1m(\u001b[0m\n",
       "        \u001b[33mtype\u001b[0m=\u001b[32m'url_citation'\u001b[0m,\n",
       "        \u001b[33murl_citation\u001b[0m=\u001b[1;35mAnnotationURLCitation\u001b[0m\u001b[1m(\u001b[0m\n",
       "            \u001b[33mend_index\u001b[0m=\u001b[1;36m1069\u001b[0m,\n",
       "            \u001b[33mstart_index\u001b[0m=\u001b[1;36m989\u001b[0m,\n",
       "            \u001b[33mtitle\u001b[0m=\u001b[32m'Agentic AI'\u001b[0m,\n",
       "            \u001b[33murl\u001b[0m=\u001b[32m'https://en.wikipedia.org/wiki/Agentic_AI?\u001b[0m\u001b[32mutm_source\u001b[0m\u001b[32m=\u001b[0m\u001b[32mopenai\u001b[0m\u001b[32m'\u001b[0m\n",
       "        \u001b[1m)\u001b[0m\n",
       "    \u001b[1m)\u001b[0m,\n",
       "    \u001b[1;35mAnnotation\u001b[0m\u001b[1m(\u001b[0m\n",
       "        \u001b[33mtype\u001b[0m=\u001b[32m'url_citation'\u001b[0m,\n",
       "        \u001b[33murl_citation\u001b[0m=\u001b[1;35mAnnotationURLCitation\u001b[0m\u001b[1m(\u001b[0m\n",
       "            \u001b[33mend_index\u001b[0m=\u001b[1;36m1391\u001b[0m,\n",
       "            \u001b[33mstart_index\u001b[0m=\u001b[1;36m1291\u001b[0m,\n",
       "            \u001b[33mtitle\u001b[0m=\u001b[32m'Agentic AI is a \"big next step\" in AI\\'s evolution, SAP CEO says'\u001b[0m,\n",
       "            \u001b[33murl\u001b[0m=\u001b[32m'https://www.axios.com/2025/01/27/agentic-ai-big-next-step-evolution?\u001b[0m\u001b[32mutm_source\u001b[0m\u001b[32m=\u001b[0m\u001b[32mopenai\u001b[0m\u001b[32m'\u001b[0m\n",
       "        \u001b[1m)\u001b[0m\n",
       "    \u001b[1m)\u001b[0m,\n",
       "    \u001b[1;35mAnnotation\u001b[0m\u001b[1m(\u001b[0m\n",
       "        \u001b[33mtype\u001b[0m=\u001b[32m'url_citation'\u001b[0m,\n",
       "        \u001b[33murl_citation\u001b[0m=\u001b[1;35mAnnotationURLCitation\u001b[0m\u001b[1m(\u001b[0m\n",
       "            \u001b[33mend_index\u001b[0m=\u001b[1;36m1603\u001b[0m,\n",
       "            \u001b[33mstart_index\u001b[0m=\u001b[1;36m1434\u001b[0m,\n",
       "            \u001b[33mtitle\u001b[0m=\u001b[32m'AI agents have clear mission, hazy business model'\u001b[0m,\n",
       "            \u001b[33murl\u001b[0m=\u001b[32m'https://www.reuters.com/breakingviews/ai-agents-have-clear-mission-hazy-business-model-2025-02-20/\u001b[0m\n",
       "\u001b[32m?\u001b[0m\u001b[32mutm_source\u001b[0m\u001b[32m=\u001b[0m\u001b[32mopenai\u001b[0m\u001b[32m'\u001b[0m\n",
       "        \u001b[1m)\u001b[0m\n",
       "    \u001b[1m)\u001b[0m,\n",
       "    \u001b[1;35mAnnotation\u001b[0m\u001b[1m(\u001b[0m\n",
       "        \u001b[33mtype\u001b[0m=\u001b[32m'url_citation'\u001b[0m,\n",
       "        \u001b[33murl_citation\u001b[0m=\u001b[1;35mAnnotationURLCitation\u001b[0m\u001b[1m(\u001b[0m\n",
       "            \u001b[33mend_index\u001b[0m=\u001b[1;36m1739\u001b[0m,\n",
       "            \u001b[33mstart_index\u001b[0m=\u001b[1;36m1606\u001b[0m,\n",
       "            \u001b[33mtitle\u001b[0m=\u001b[32m'How the Rise of New Digital Workers Will Lead to an Unlimited Age'\u001b[0m,\n",
       "            \u001b[33murl\u001b[0m=\u001b[32m'https://time.com/7178872/agents-unlimited-age/?\u001b[0m\u001b[32mutm_source\u001b[0m\u001b[32m=\u001b[0m\u001b[32mopenai\u001b[0m\u001b[32m'\u001b[0m\n",
       "        \u001b[1m)\u001b[0m\n",
       "    \u001b[1m)\u001b[0m,\n",
       "    \u001b[1;35mAnnotation\u001b[0m\u001b[1m(\u001b[0m\n",
       "        \u001b[33mtype\u001b[0m=\u001b[32m'url_citation'\u001b[0m,\n",
       "        \u001b[33murl_citation\u001b[0m=\u001b[1;35mAnnotationURLCitation\u001b[0m\u001b[1m(\u001b[0m\n",
       "            \u001b[33mend_index\u001b[0m=\u001b[1;36m1903\u001b[0m,\n",
       "            \u001b[33mstart_index\u001b[0m=\u001b[1;36m1742\u001b[0m,\n",
       "            \u001b[33mtitle\u001b[0m=\u001b[32m\"Microsoft\u001b[0m\u001b[32m pitches AI 'agents' that can perform tasks on their own at Ignite 2024\"\u001b[0m,\n",
       "            \u001b[33murl\u001b[0m=\u001b[32m'https://apnews.com/article/782119423e28a7d88e4a27c12ce4e11f?\u001b[0m\u001b[32mutm_source\u001b[0m\u001b[32m=\u001b[0m\u001b[32mopenai\u001b[0m\u001b[32m'\u001b[0m\n",
       "        \u001b[1m)\u001b[0m\n",
       "    \u001b[1m)\u001b[0m\n",
       "\u001b[1m]\u001b[0m\n"
      ]
     },
     "metadata": {},
     "output_type": "display_data"
    }
   ],
   "source": [
    "# Only Prompt is different\n",
    "response = openai.chat.completions.create(\n",
    "    model=\"gpt-4o-search-preview\",\n",
    "    web_search_options={},\n",
    "    messages=[\n",
    "        {\n",
    "            \"role\": \"user\",\n",
    "            # As we are using the search preview model, even for this question it will search the web\n",
    "            \"content\": \"What is Agentic AI?\", \n",
    "        }\n",
    "    ],\n",
    ")\n",
    "\n",
    "print(response.choices[0].message.content)\n",
    "# rich.print(response)\n",
    "print(len(response.choices[0].message.annotations))\n",
    "rich.print(response.choices[0].message.annotations)"
   ]
  },
  {
   "cell_type": "markdown",
   "id": "9ef4dd6f",
   "metadata": {},
   "source": [
    "# Responses API"
   ]
  },
  {
   "cell_type": "markdown",
   "id": "d9ed959b",
   "metadata": {},
   "source": [
    "https://platform.openai.com/docs/guides/tools-web-search?api-mode=responses"
   ]
  },
  {
   "cell_type": "markdown",
   "id": "c76e386c",
   "metadata": {},
   "source": [
    "Model will choose to search the web or not based on the content of the input prompt."
   ]
  },
  {
   "cell_type": "markdown",
   "id": "25192a78",
   "metadata": {},
   "source": [
    "Note: The annotation object will contain links to the web pages from which the model extracted information to construct the output.\n",
    "\n",
    "In the Responses API, you can see that the annotation object does not contain a nested `url_citation` object, unlike in the Chat API.\n",
    "```\n",
    "{\n",
    "    type:'url_citation',\n",
    "    end_index: 0,\n",
    "    start_index: 0,\n",
    "    title:\"title\",\n",
    "    url:'url'\n",
    "}\n",
    "```"
   ]
  },
  {
   "cell_type": "code",
   "execution_count": 11,
   "id": "6ff8ab61",
   "metadata": {},
   "outputs": [
    {
     "name": "stdout",
     "output_type": "stream",
     "text": [
      "Agentic AI refers to artificial intelligence systems that possess a degree of autonomy and agency, allowing them to make decisions, take actions, and learn from their environments in a way that resembles human decision-making. This concept encompasses systems that can operate independently to achieve specified goals, adapt to new situations, and interact with other agents or humans.\n",
      "\n",
      "Key characteristics of Agentic AI include:\n",
      "\n",
      "1. **Autonomy**: The ability to operate without direct human intervention.\n",
      "2. **Goal-oriented behavior**: The capability to pursue specific objectives based on programmed preferences or learned experiences.\n",
      "3. **Learning and Adaptation**: The ability to learn from interactions and improve performance over time.\n",
      "4. **Complex Interaction**: The capability to engage with other systems and humans meaningfully.\n",
      "  \n",
      "Agentic AI can be found in various applications, from intelligent virtual assistants to autonomous drones and sophisticated robotics. The ethical implications and potential risks of such systems are ongoing topics of discussion in the field of AI development.\n"
     ]
    },
    {
     "data": {
      "text/html": [
       "<pre style=\"white-space:pre;overflow-x:auto;line-height:normal;font-family:Menlo,'DejaVu Sans Mono',consolas,'Courier New',monospace\"><span style=\"font-weight: bold\">[</span>\n",
       "    <span style=\"color: #800080; text-decoration-color: #800080; font-weight: bold\">ResponseOutputMessage</span><span style=\"font-weight: bold\">(</span>\n",
       "        <span style=\"color: #808000; text-decoration-color: #808000\">id</span>=<span style=\"color: #008000; text-decoration-color: #008000\">'msg_67e377f002ac8192b6fe14a38cf38d6301d4053e6c292176'</span>,\n",
       "        <span style=\"color: #808000; text-decoration-color: #808000\">content</span>=<span style=\"font-weight: bold\">[</span>\n",
       "            <span style=\"color: #800080; text-decoration-color: #800080; font-weight: bold\">ResponseOutputText</span><span style=\"font-weight: bold\">(</span>\n",
       "                <span style=\"color: #808000; text-decoration-color: #808000\">annotations</span>=<span style=\"font-weight: bold\">[]</span>,\n",
       "                <span style=\"color: #808000; text-decoration-color: #808000\">text</span>=<span style=\"color: #008000; text-decoration-color: #008000\">'Agentic AI refers to artificial intelligence systems that possess a degree of autonomy and </span>\n",
       "<span style=\"color: #008000; text-decoration-color: #008000\">agency, allowing them to make decisions, take actions, and learn from their environments in a way that resembles </span>\n",
       "<span style=\"color: #008000; text-decoration-color: #008000\">human decision-making. This concept encompasses systems that can operate independently to achieve specified goals, </span>\n",
       "<span style=\"color: #008000; text-decoration-color: #008000\">adapt to new situations, and interact with other agents or humans.\\n\\nKey characteristics of Agentic AI </span>\n",
       "<span style=\"color: #008000; text-decoration-color: #008000\">include:\\n\\n1. **Autonomy**: The ability to operate without direct human intervention.\\n2. **Goal-oriented </span>\n",
       "<span style=\"color: #008000; text-decoration-color: #008000\">behavior**: The capability to pursue specific objectives based on programmed preferences or learned </span>\n",
       "<span style=\"color: #008000; text-decoration-color: #008000\">experiences.\\n3. **Learning and Adaptation**: The ability to learn from interactions and improve performance over </span>\n",
       "<span style=\"color: #008000; text-decoration-color: #008000\">time.\\n4. **Complex Interaction**: The capability to engage with other systems and humans meaningfully.\\n  </span>\n",
       "<span style=\"color: #008000; text-decoration-color: #008000\">\\nAgentic AI can be found in various applications, from intelligent virtual assistants to autonomous drones and </span>\n",
       "<span style=\"color: #008000; text-decoration-color: #008000\">sophisticated robotics. The ethical implications and potential risks of such systems are ongoing topics of </span>\n",
       "<span style=\"color: #008000; text-decoration-color: #008000\">discussion in the field of AI development.'</span>,\n",
       "                <span style=\"color: #808000; text-decoration-color: #808000\">type</span>=<span style=\"color: #008000; text-decoration-color: #008000\">'output_text'</span>\n",
       "            <span style=\"font-weight: bold\">)</span>\n",
       "        <span style=\"font-weight: bold\">]</span>,\n",
       "        <span style=\"color: #808000; text-decoration-color: #808000\">role</span>=<span style=\"color: #008000; text-decoration-color: #008000\">'assistant'</span>,\n",
       "        <span style=\"color: #808000; text-decoration-color: #808000\">status</span>=<span style=\"color: #008000; text-decoration-color: #008000\">'completed'</span>,\n",
       "        <span style=\"color: #808000; text-decoration-color: #808000\">type</span>=<span style=\"color: #008000; text-decoration-color: #008000\">'message'</span>\n",
       "    <span style=\"font-weight: bold\">)</span>\n",
       "<span style=\"font-weight: bold\">]</span>\n",
       "</pre>\n"
      ],
      "text/plain": [
       "\u001b[1m[\u001b[0m\n",
       "    \u001b[1;35mResponseOutputMessage\u001b[0m\u001b[1m(\u001b[0m\n",
       "        \u001b[33mid\u001b[0m=\u001b[32m'msg_67e377f002ac8192b6fe14a38cf38d6301d4053e6c292176'\u001b[0m,\n",
       "        \u001b[33mcontent\u001b[0m=\u001b[1m[\u001b[0m\n",
       "            \u001b[1;35mResponseOutputText\u001b[0m\u001b[1m(\u001b[0m\n",
       "                \u001b[33mannotations\u001b[0m=\u001b[1m[\u001b[0m\u001b[1m]\u001b[0m,\n",
       "                \u001b[33mtext\u001b[0m=\u001b[32m'Agentic AI refers to artificial intelligence systems that possess a degree of autonomy and \u001b[0m\n",
       "\u001b[32magency, allowing them to make decisions, take actions, and learn from their environments in a way that resembles \u001b[0m\n",
       "\u001b[32mhuman decision-making. This concept encompasses systems that can operate independently to achieve specified goals, \u001b[0m\n",
       "\u001b[32madapt to new situations, and interact with other agents or humans.\\n\\nKey characteristics of Agentic AI \u001b[0m\n",
       "\u001b[32minclude:\\n\\n1. **Autonomy**: The ability to operate without direct human intervention.\\n2. **Goal-oriented \u001b[0m\n",
       "\u001b[32mbehavior**: The capability to pursue specific objectives based on programmed preferences or learned \u001b[0m\n",
       "\u001b[32mexperiences.\\n3. **Learning and Adaptation**: The ability to learn from interactions and improve performance over \u001b[0m\n",
       "\u001b[32mtime.\\n4. **Complex Interaction**: The capability to engage with other systems and humans meaningfully.\\n  \u001b[0m\n",
       "\u001b[32m\\nAgentic AI can be found in various applications, from intelligent virtual assistants to autonomous drones and \u001b[0m\n",
       "\u001b[32msophisticated robotics. The ethical implications and potential risks of such systems are ongoing topics of \u001b[0m\n",
       "\u001b[32mdiscussion in the field of AI development.'\u001b[0m,\n",
       "                \u001b[33mtype\u001b[0m=\u001b[32m'output_text'\u001b[0m\n",
       "            \u001b[1m)\u001b[0m\n",
       "        \u001b[1m]\u001b[0m,\n",
       "        \u001b[33mrole\u001b[0m=\u001b[32m'assistant'\u001b[0m,\n",
       "        \u001b[33mstatus\u001b[0m=\u001b[32m'completed'\u001b[0m,\n",
       "        \u001b[33mtype\u001b[0m=\u001b[32m'message'\u001b[0m\n",
       "    \u001b[1m)\u001b[0m\n",
       "\u001b[1m]\u001b[0m\n"
      ]
     },
     "metadata": {},
     "output_type": "display_data"
    },
    {
     "data": {
      "text/html": [
       "<pre style=\"white-space:pre;overflow-x:auto;line-height:normal;font-family:Menlo,'DejaVu Sans Mono',consolas,'Courier New',monospace\"><span style=\"font-weight: bold\">[</span>\n",
       "    <span style=\"color: #800080; text-decoration-color: #800080; font-weight: bold\">WebSearchTool</span><span style=\"font-weight: bold\">(</span>\n",
       "        <span style=\"color: #808000; text-decoration-color: #808000\">type</span>=<span style=\"color: #008000; text-decoration-color: #008000\">'web_search_preview'</span>,\n",
       "        <span style=\"color: #808000; text-decoration-color: #808000\">search_context_size</span>=<span style=\"color: #008000; text-decoration-color: #008000\">'medium'</span>,\n",
       "        <span style=\"color: #808000; text-decoration-color: #808000\">user_location</span>=<span style=\"color: #800080; text-decoration-color: #800080; font-weight: bold\">UserLocation</span><span style=\"font-weight: bold\">(</span><span style=\"color: #808000; text-decoration-color: #808000\">type</span>=<span style=\"color: #008000; text-decoration-color: #008000\">'approximate'</span>, <span style=\"color: #808000; text-decoration-color: #808000\">city</span>=<span style=\"color: #800080; text-decoration-color: #800080; font-style: italic\">None</span>, <span style=\"color: #808000; text-decoration-color: #808000\">country</span>=<span style=\"color: #008000; text-decoration-color: #008000\">'US'</span>, <span style=\"color: #808000; text-decoration-color: #808000\">region</span>=<span style=\"color: #800080; text-decoration-color: #800080; font-style: italic\">None</span>, <span style=\"color: #808000; text-decoration-color: #808000\">timezone</span>=<span style=\"color: #800080; text-decoration-color: #800080; font-style: italic\">None</span><span style=\"font-weight: bold\">)</span>\n",
       "    <span style=\"font-weight: bold\">)</span>\n",
       "<span style=\"font-weight: bold\">]</span>\n",
       "</pre>\n"
      ],
      "text/plain": [
       "\u001b[1m[\u001b[0m\n",
       "    \u001b[1;35mWebSearchTool\u001b[0m\u001b[1m(\u001b[0m\n",
       "        \u001b[33mtype\u001b[0m=\u001b[32m'web_search_preview'\u001b[0m,\n",
       "        \u001b[33msearch_context_size\u001b[0m=\u001b[32m'medium'\u001b[0m,\n",
       "        \u001b[33muser_location\u001b[0m=\u001b[1;35mUserLocation\u001b[0m\u001b[1m(\u001b[0m\u001b[33mtype\u001b[0m=\u001b[32m'approximate'\u001b[0m, \u001b[33mcity\u001b[0m=\u001b[3;35mNone\u001b[0m, \u001b[33mcountry\u001b[0m=\u001b[32m'US'\u001b[0m, \u001b[33mregion\u001b[0m=\u001b[3;35mNone\u001b[0m, \u001b[33mtimezone\u001b[0m=\u001b[3;35mNone\u001b[0m\u001b[1m)\u001b[0m\n",
       "    \u001b[1m)\u001b[0m\n",
       "\u001b[1m]\u001b[0m\n"
      ]
     },
     "metadata": {},
     "output_type": "display_data"
    }
   ],
   "source": [
    "# Only Prompt is different\n",
    "response = openai.responses.create(\n",
    "    model=MODEL,  # using standard model\n",
    "    tools=[{\"type\": \"web_search_preview\"}],\n",
    "    # As we are using the web search preview as tool, model will decide to use the web search or not\n",
    "    input=\"What is Agentic AI?\"\n",
    ")\n",
    "\n",
    "print(response.output_text)\n",
    "rich.print(response.output)\n",
    "rich.print(response.tools)\n",
    "# rich.print(response)"
   ]
  }
 ],
 "metadata": {
  "kernelspec": {
   "display_name": ".venv",
   "language": "python",
   "name": "python3"
  },
  "language_info": {
   "codemirror_mode": {
    "name": "ipython",
    "version": 3
   },
   "file_extension": ".py",
   "mimetype": "text/x-python",
   "name": "python",
   "nbconvert_exporter": "python",
   "pygments_lexer": "ipython3",
   "version": "3.12.4"
  }
 },
 "nbformat": 4,
 "nbformat_minor": 5
}
