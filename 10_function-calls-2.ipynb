{
 "cells": [
  {
   "cell_type": "code",
   "execution_count": 1,
   "id": "cd3aa0d0-ff83-4f55-81a8-11aed0ebf4b6",
   "metadata": {},
   "outputs": [],
   "source": [
    "import os\n",
    "from openai import OpenAI\n",
    "from dotenv import load_dotenv\n",
    "import rich\n",
    "import requests\n",
    "import json"
   ]
  },
  {
   "cell_type": "code",
   "execution_count": 3,
   "id": "794d7c22",
   "metadata": {},
   "outputs": [],
   "source": [
    "load_dotenv()\n",
    "\n",
    "api_key = os.getenv('OPENAI_API_KEY')\n",
    "MODEL = \"gpt-4o-mini\"\n",
    "\n",
    "openai = OpenAI()"
   ]
  },
  {
   "cell_type": "markdown",
   "id": "22095eb8",
   "metadata": {},
   "source": [
    "**Calling a function and sending the result back to Chat API and Responses API**"
   ]
  },
  {
   "cell_type": "markdown",
   "id": "8325704b",
   "metadata": {},
   "source": [
    "Defining function that fetch current weather from API"
   ]
  },
  {
   "cell_type": "code",
   "execution_count": 4,
   "id": "c29278a5",
   "metadata": {},
   "outputs": [],
   "source": [
    "def get_weather(latitude, longitude):\n",
    "    response = requests.get(f\"https://api.open-meteo.com/v1/forecast?latitude={latitude}&longitude={longitude}&current=temperature_2m,wind_speed_10m&hourly=temperature_2m,relative_humidity_2m,wind_speed_10m\")\n",
    "    data = response.json()\n",
    "    print(f\"get_weather function called to get weather for latitude = {latitude}, longitude = {longitude}\")\n",
    "    print(f\"And result is  = {data['current']['temperature_2m']}\")\n",
    "    return data['current']['temperature_2m']"
   ]
  },
  {
   "cell_type": "markdown",
   "id": "f50d3494",
   "metadata": {},
   "source": [
    "# Chat Completion API"
   ]
  },
  {
   "cell_type": "markdown",
   "id": "3a5dddfa",
   "metadata": {},
   "source": [
    "https://platform.openai.com/docs/guides/function-calling?api-mode=chat"
   ]
  },
  {
   "cell_type": "markdown",
   "id": "30c849c5",
   "metadata": {},
   "source": [
    "Defining the structure schema of the function to be passed as a tool in the API."
   ]
  },
  {
   "cell_type": "code",
   "execution_count": 5,
   "id": "7e4fbab0",
   "metadata": {},
   "outputs": [],
   "source": [
    "def get_weather_function_chat():\n",
    "    return {\n",
    "        \"type\": \"function\",\n",
    "        \"function\": { # This property is removed from responses API\n",
    "            \"name\": \"get_weather\",\n",
    "            \"description\": \"Get the weather for a location. Call this whenever you need to know the weather, for example when a customer asks 'What's the weather like in this city'\",\n",
    "            \"parameters\": {\n",
    "                \"type\": \"object\",\n",
    "                \"properties\": {\n",
    "                    \"latitude\": {\n",
    "                        \"type\": \"number\",\n",
    "                        \"description\": \"Latitude of the location\"\n",
    "                    },\n",
    "                    \"longitude\": {\n",
    "                        \"type\": \"number\",\n",
    "                        \"description\": \"Longitude of the location\"\n",
    "                    }\n",
    "                },\n",
    "                \"required\": [\"latitude\", \"longitude\"],\n",
    "                \"additionalProperties\": False\n",
    "            },\n",
    "            \"strict\": True\n",
    "        }\n",
    "    }"
   ]
  },
  {
   "cell_type": "markdown",
   "id": "4bdc3c16",
   "metadata": {},
   "source": [
    "First Step where model will responed with tool call request"
   ]
  },
  {
   "cell_type": "code",
   "execution_count": null,
   "id": "c38479a5",
   "metadata": {},
   "outputs": [
    {
     "data": {
      "text/html": [
       "<pre style=\"white-space:pre;overflow-x:auto;line-height:normal;font-family:Menlo,'DejaVu Sans Mono',consolas,'Courier New',monospace\"><span style=\"color: #800080; text-decoration-color: #800080; font-weight: bold\">Choice</span><span style=\"font-weight: bold\">(</span>\n",
       "    <span style=\"color: #808000; text-decoration-color: #808000\">finish_reason</span>=<span style=\"color: #008000; text-decoration-color: #008000\">'tool_calls'</span>,\n",
       "    <span style=\"color: #808000; text-decoration-color: #808000\">index</span>=<span style=\"color: #008080; text-decoration-color: #008080; font-weight: bold\">0</span>,\n",
       "    <span style=\"color: #808000; text-decoration-color: #808000\">logprobs</span>=<span style=\"color: #800080; text-decoration-color: #800080; font-style: italic\">None</span>,\n",
       "    <span style=\"color: #808000; text-decoration-color: #808000\">message</span>=<span style=\"color: #800080; text-decoration-color: #800080; font-weight: bold\">ChatCompletionMessage</span><span style=\"font-weight: bold\">(</span>\n",
       "        <span style=\"color: #808000; text-decoration-color: #808000\">content</span>=<span style=\"color: #800080; text-decoration-color: #800080; font-style: italic\">None</span>,\n",
       "        <span style=\"color: #808000; text-decoration-color: #808000\">refusal</span>=<span style=\"color: #800080; text-decoration-color: #800080; font-style: italic\">None</span>,\n",
       "        <span style=\"color: #808000; text-decoration-color: #808000\">role</span>=<span style=\"color: #008000; text-decoration-color: #008000\">'assistant'</span>,\n",
       "        <span style=\"color: #808000; text-decoration-color: #808000\">annotations</span>=<span style=\"font-weight: bold\">[]</span>,\n",
       "        <span style=\"color: #808000; text-decoration-color: #808000\">audio</span>=<span style=\"color: #800080; text-decoration-color: #800080; font-style: italic\">None</span>,\n",
       "        <span style=\"color: #808000; text-decoration-color: #808000\">function_call</span>=<span style=\"color: #800080; text-decoration-color: #800080; font-style: italic\">None</span>,\n",
       "        <span style=\"color: #808000; text-decoration-color: #808000\">tool_calls</span>=<span style=\"font-weight: bold\">[</span>\n",
       "            <span style=\"color: #800080; text-decoration-color: #800080; font-weight: bold\">ChatCompletionMessageToolCall</span><span style=\"font-weight: bold\">(</span>\n",
       "                <span style=\"color: #808000; text-decoration-color: #808000\">id</span>=<span style=\"color: #008000; text-decoration-color: #008000\">'call_WIJxZuXEq6lPeP68SsyeCGdW'</span>,\n",
       "                <span style=\"color: #808000; text-decoration-color: #808000\">function</span>=<span style=\"color: #800080; text-decoration-color: #800080; font-weight: bold\">Function</span><span style=\"font-weight: bold\">(</span><span style=\"color: #808000; text-decoration-color: #808000\">arguments</span>=<span style=\"color: #008000; text-decoration-color: #008000\">'{\"latitude\":24.8607,\"longitude\":67.0011}'</span>, <span style=\"color: #808000; text-decoration-color: #808000\">name</span>=<span style=\"color: #008000; text-decoration-color: #008000\">'get_weather'</span><span style=\"font-weight: bold\">)</span>,\n",
       "                <span style=\"color: #808000; text-decoration-color: #808000\">type</span>=<span style=\"color: #008000; text-decoration-color: #008000\">'function'</span>\n",
       "            <span style=\"font-weight: bold\">)</span>\n",
       "        <span style=\"font-weight: bold\">]</span>\n",
       "    <span style=\"font-weight: bold\">)</span>\n",
       "<span style=\"font-weight: bold\">)</span>\n",
       "</pre>\n"
      ],
      "text/plain": [
       "\u001b[1;35mChoice\u001b[0m\u001b[1m(\u001b[0m\n",
       "    \u001b[33mfinish_reason\u001b[0m=\u001b[32m'tool_calls'\u001b[0m,\n",
       "    \u001b[33mindex\u001b[0m=\u001b[1;36m0\u001b[0m,\n",
       "    \u001b[33mlogprobs\u001b[0m=\u001b[3;35mNone\u001b[0m,\n",
       "    \u001b[33mmessage\u001b[0m=\u001b[1;35mChatCompletionMessage\u001b[0m\u001b[1m(\u001b[0m\n",
       "        \u001b[33mcontent\u001b[0m=\u001b[3;35mNone\u001b[0m,\n",
       "        \u001b[33mrefusal\u001b[0m=\u001b[3;35mNone\u001b[0m,\n",
       "        \u001b[33mrole\u001b[0m=\u001b[32m'assistant'\u001b[0m,\n",
       "        \u001b[33mannotations\u001b[0m=\u001b[1m[\u001b[0m\u001b[1m]\u001b[0m,\n",
       "        \u001b[33maudio\u001b[0m=\u001b[3;35mNone\u001b[0m,\n",
       "        \u001b[33mfunction_call\u001b[0m=\u001b[3;35mNone\u001b[0m,\n",
       "        \u001b[33mtool_calls\u001b[0m=\u001b[1m[\u001b[0m\n",
       "            \u001b[1;35mChatCompletionMessageToolCall\u001b[0m\u001b[1m(\u001b[0m\n",
       "                \u001b[33mid\u001b[0m=\u001b[32m'call_WIJxZuXEq6lPeP68SsyeCGdW'\u001b[0m,\n",
       "                \u001b[33mfunction\u001b[0m=\u001b[1;35mFunction\u001b[0m\u001b[1m(\u001b[0m\u001b[33marguments\u001b[0m=\u001b[32m'\u001b[0m\u001b[32m{\u001b[0m\u001b[32m\"latitude\":24.8607,\"longitude\":67.0011\u001b[0m\u001b[32m}\u001b[0m\u001b[32m'\u001b[0m, \u001b[33mname\u001b[0m=\u001b[32m'get_weather'\u001b[0m\u001b[1m)\u001b[0m,\n",
       "                \u001b[33mtype\u001b[0m=\u001b[32m'function'\u001b[0m\n",
       "            \u001b[1m)\u001b[0m\n",
       "        \u001b[1m]\u001b[0m\n",
       "    \u001b[1m)\u001b[0m\n",
       "\u001b[1m)\u001b[0m\n"
      ]
     },
     "metadata": {},
     "output_type": "display_data"
    },
    {
     "name": "stdout",
     "output_type": "stream",
     "text": [
      "Finish Reason =  tool_calls\n"
     ]
    },
    {
     "data": {
      "text/html": [
       "<pre style=\"white-space:pre;overflow-x:auto;line-height:normal;font-family:Menlo,'DejaVu Sans Mono',consolas,'Courier New',monospace\"><span style=\"font-weight: bold\">[</span>\n",
       "    <span style=\"color: #800080; text-decoration-color: #800080; font-weight: bold\">ChatCompletionMessageToolCall</span><span style=\"font-weight: bold\">(</span>\n",
       "        <span style=\"color: #808000; text-decoration-color: #808000\">id</span>=<span style=\"color: #008000; text-decoration-color: #008000\">'call_WIJxZuXEq6lPeP68SsyeCGdW'</span>,\n",
       "        <span style=\"color: #808000; text-decoration-color: #808000\">function</span>=<span style=\"color: #800080; text-decoration-color: #800080; font-weight: bold\">Function</span><span style=\"font-weight: bold\">(</span><span style=\"color: #808000; text-decoration-color: #808000\">arguments</span>=<span style=\"color: #008000; text-decoration-color: #008000\">'{\"latitude\":24.8607,\"longitude\":67.0011}'</span>, <span style=\"color: #808000; text-decoration-color: #808000\">name</span>=<span style=\"color: #008000; text-decoration-color: #008000\">'get_weather'</span><span style=\"font-weight: bold\">)</span>,\n",
       "        <span style=\"color: #808000; text-decoration-color: #808000\">type</span>=<span style=\"color: #008000; text-decoration-color: #008000\">'function'</span>\n",
       "    <span style=\"font-weight: bold\">)</span>\n",
       "<span style=\"font-weight: bold\">]</span>\n",
       "</pre>\n"
      ],
      "text/plain": [
       "\u001b[1m[\u001b[0m\n",
       "    \u001b[1;35mChatCompletionMessageToolCall\u001b[0m\u001b[1m(\u001b[0m\n",
       "        \u001b[33mid\u001b[0m=\u001b[32m'call_WIJxZuXEq6lPeP68SsyeCGdW'\u001b[0m,\n",
       "        \u001b[33mfunction\u001b[0m=\u001b[1;35mFunction\u001b[0m\u001b[1m(\u001b[0m\u001b[33marguments\u001b[0m=\u001b[32m'\u001b[0m\u001b[32m{\u001b[0m\u001b[32m\"latitude\":24.8607,\"longitude\":67.0011\u001b[0m\u001b[32m}\u001b[0m\u001b[32m'\u001b[0m, \u001b[33mname\u001b[0m=\u001b[32m'get_weather'\u001b[0m\u001b[1m)\u001b[0m,\n",
       "        \u001b[33mtype\u001b[0m=\u001b[32m'function'\u001b[0m\n",
       "    \u001b[1m)\u001b[0m\n",
       "\u001b[1m]\u001b[0m\n"
      ]
     },
     "metadata": {},
     "output_type": "display_data"
    }
   ],
   "source": [
    "messages=[\n",
    "    {\"role\": \"developer\", \"content\": \"You are a helpful assistant and provide update on weather in a city.\"},\n",
    "    {\"role\": \"user\", \"content\": \"What's the weather like in Karachi, Pakistan?\"}\n",
    "    # {\"role\": \"user\", \"content\": \"NYC\"}\n",
    "]\n",
    "tools = [get_weather_function_chat()]\n",
    "response = openai.chat.completions.create(\n",
    "    model=MODEL,\n",
    "    messages=messages,\n",
    "    tools = tools\n",
    ")\n",
    "\n",
    "rich.print(response.choices[0])\n",
    "print(\"Finish Reason = \", response.choices[0].finish_reason)\n",
    "rich.print(response.choices[0].message.tool_calls)\n"
   ]
  },
  {
   "cell_type": "markdown",
   "id": "581cf56f",
   "metadata": {},
   "source": [
    "Second Step where we are calling the `get_weather` function and sending the response back to Chat API"
   ]
  },
  {
   "cell_type": "markdown",
   "id": "362f8cff",
   "metadata": {},
   "source": [
    "To send the result of function call we need to send specific format object into Chat API call\n",
    "\n",
    "```\n",
    "new_message = {\n",
    "    \"role\": \"tool\",\n",
    "    \"content\": <output of function call>,\n",
    "    \"tool_call_id\": tool_call.id\n",
    "}\n",
    "```"
   ]
  },
  {
   "cell_type": "code",
   "execution_count": null,
   "id": "c89268a3",
   "metadata": {},
   "outputs": [
    {
     "name": "stdout",
     "output_type": "stream",
     "text": [
      "get_weather function called to get weather for latitude = 24.8607, longitude = 67.0011\n",
      "And result is  = 25.8\n",
      "Model Response2 =  The current weather in Karachi, Pakistan, is approximately 25.8°C.\n",
      "Finish Reason =  stop\n"
     ]
    }
   ],
   "source": [
    "if response.choices[0].finish_reason == \"tool_calls\": # Check if finish_reason is tool_calls\n",
    "    tool_call = response.choices[0].message.tool_calls[0]\n",
    "    arguments = json.loads(tool_call.function.arguments)\n",
    "    latitude = arguments.get(\"latitude\")\n",
    "    longitude = arguments.get(\"longitude\")\n",
    "    # weather = get_weather(latitude, longitude) # Both will work\n",
    "    weather = get_weather(**arguments)\n",
    "    new_message = { # Properties of this object will be different in responses API\n",
    "        \"role\": \"tool\",\n",
    "        \"content\": json.dumps({\"latitude\": latitude, \"longitude\": longitude, \"weather\": weather}),\n",
    "        \"tool_call_id\": tool_call.id\n",
    "    }\n",
    "    # Important: we will append the previous message (response.choices[0].message)\n",
    "    messages.append(response.choices[0].message)\n",
    "    messages.append(new_message)\n",
    "    # Calling the Chat API again with all the history messages and the new message\n",
    "    response2 = openai.chat.completions.create(model=MODEL, messages=messages, tools=tools)\n",
    "    print(\"Model Response2 = \",response2.choices[0].message.content)\n",
    "    # Notice the finish_reason of the response, it value is \"stop\"\n",
    "    print(\"Finish Reason = \",response2.choices[0].finish_reason)"
   ]
  },
  {
   "cell_type": "markdown",
   "id": "9ef4dd6f",
   "metadata": {},
   "source": [
    "# Responses API"
   ]
  },
  {
   "cell_type": "markdown",
   "id": "d9ed959b",
   "metadata": {},
   "source": [
    "https://platform.openai.com/docs/guides/function-calling?api-mode=responses\n",
    "\n",
    "\n",
    "Note: Check the difference between json objects for function"
   ]
  },
  {
   "cell_type": "code",
   "execution_count": 8,
   "id": "704854ec",
   "metadata": {},
   "outputs": [],
   "source": [
    "def get_weather_function_response():\n",
    "    return {\n",
    "        \"type\": \"function\",  # There is no function property in the response API\n",
    "        \"name\": \"get_weather\",\n",
    "        \"description\": \"Get the weather for a location. Call this whenever you need to know the weather, for example when a customer asks 'What's the weather like in this city'\",\n",
    "        \"parameters\": {\n",
    "            \"type\": \"object\",\n",
    "            \"properties\": {\n",
    "                \"latitude\": {\n",
    "                    \"type\": \"number\",\n",
    "                    \"description\": \"Latitude of the location\"\n",
    "                },\n",
    "                \"longitude\": {\n",
    "                    \"type\": \"number\",\n",
    "                    \"description\": \"Longitude of the location\"\n",
    "                }\n",
    "            },\n",
    "            \"required\": [\"latitude\", \"longitude\"],\n",
    "            \"additionalProperties\": False\n",
    "        },\n",
    "        \"strict\": True\n",
    "    }"
   ]
  },
  {
   "cell_type": "markdown",
   "id": "eb0e1a85",
   "metadata": {},
   "source": [
    "### Using old way of sending history messages in every call"
   ]
  },
  {
   "cell_type": "markdown",
   "id": "28c23f11",
   "metadata": {},
   "source": [
    "First Step where model will responed with tool call request"
   ]
  },
  {
   "cell_type": "code",
   "execution_count": 13,
   "id": "21e4f32c",
   "metadata": {},
   "outputs": [
    {
     "name": "stdout",
     "output_type": "stream",
     "text": [
      "Status =  completed\n",
      "\n"
     ]
    },
    {
     "data": {
      "text/html": [
       "<pre style=\"white-space:pre;overflow-x:auto;line-height:normal;font-family:Menlo,'DejaVu Sans Mono',consolas,'Courier New',monospace\"><span style=\"font-weight: bold\">[</span>\n",
       "    <span style=\"color: #800080; text-decoration-color: #800080; font-weight: bold\">ResponseFunctionToolCall</span><span style=\"font-weight: bold\">(</span>\n",
       "        <span style=\"color: #808000; text-decoration-color: #808000\">id</span>=<span style=\"color: #008000; text-decoration-color: #008000\">'fc_67e230281204819292cace355b999c8d09aa4c04c6f3dc50'</span>,\n",
       "        <span style=\"color: #808000; text-decoration-color: #808000\">arguments</span>=<span style=\"color: #008000; text-decoration-color: #008000\">'{\"latitude\":52.52,\"longitude\":13.405}'</span>,\n",
       "        <span style=\"color: #808000; text-decoration-color: #808000\">call_id</span>=<span style=\"color: #008000; text-decoration-color: #008000\">'call_Kzkp8zTpWvRYdXHAO3dtpwtO'</span>,\n",
       "        <span style=\"color: #808000; text-decoration-color: #808000\">name</span>=<span style=\"color: #008000; text-decoration-color: #008000\">'get_weather'</span>,\n",
       "        <span style=\"color: #808000; text-decoration-color: #808000\">type</span>=<span style=\"color: #008000; text-decoration-color: #008000\">'function_call'</span>,\n",
       "        <span style=\"color: #808000; text-decoration-color: #808000\">status</span>=<span style=\"color: #008000; text-decoration-color: #008000\">'completed'</span>\n",
       "    <span style=\"font-weight: bold\">)</span>\n",
       "<span style=\"font-weight: bold\">]</span>\n",
       "</pre>\n"
      ],
      "text/plain": [
       "\u001b[1m[\u001b[0m\n",
       "    \u001b[1;35mResponseFunctionToolCall\u001b[0m\u001b[1m(\u001b[0m\n",
       "        \u001b[33mid\u001b[0m=\u001b[32m'fc_67e230281204819292cace355b999c8d09aa4c04c6f3dc50'\u001b[0m,\n",
       "        \u001b[33marguments\u001b[0m=\u001b[32m'\u001b[0m\u001b[32m{\u001b[0m\u001b[32m\"latitude\":52.52,\"longitude\":13.405\u001b[0m\u001b[32m}\u001b[0m\u001b[32m'\u001b[0m,\n",
       "        \u001b[33mcall_id\u001b[0m=\u001b[32m'call_Kzkp8zTpWvRYdXHAO3dtpwtO'\u001b[0m,\n",
       "        \u001b[33mname\u001b[0m=\u001b[32m'get_weather'\u001b[0m,\n",
       "        \u001b[33mtype\u001b[0m=\u001b[32m'function_call'\u001b[0m,\n",
       "        \u001b[33mstatus\u001b[0m=\u001b[32m'completed'\u001b[0m\n",
       "    \u001b[1m)\u001b[0m\n",
       "\u001b[1m]\u001b[0m\n"
      ]
     },
     "metadata": {},
     "output_type": "display_data"
    }
   ],
   "source": [
    "messages=[\n",
    "    {\"role\": \"developer\", \"content\": \"You are a helpful assistant and provide update on weather in a city.\"},\n",
    "    # {\"role\": \"user\", \"content\": \"What's the weather like in Karachi, Pakistan?\"}\n",
    "    # {\"role\": \"user\", \"content\": \"NYC\"}\n",
    "     {\"role\": \"user\", \"content\": \"Berlin\"}\n",
    "]\n",
    "tools = [get_weather_function_response()]\n",
    "\n",
    "response = openai.responses.create(\n",
    "    model=MODEL,\n",
    "    input=messages,\n",
    "    tools = tools\n",
    ")\n",
    "\n",
    "print(\"Status = \",response.status) # Status will not indicate the tool call\n",
    "print(response.output_text) # Empty\n",
    "rich.print(response.output)\n",
    "# rich.print(response)"
   ]
  },
  {
   "cell_type": "markdown",
   "id": "77c48309",
   "metadata": {},
   "source": [
    "Second Step where we are calling the `get_weather` function and sending the response back to Responses API"
   ]
  },
  {
   "cell_type": "markdown",
   "id": "85cb1047",
   "metadata": {},
   "source": [
    "To send the result of function call we need to send specific format object into Responses API call\n",
    "\n",
    "Note: object has different property names.\n",
    "\n",
    "```\n",
    "{\n",
    "    \"type\": \"function_call_output\",\n",
    "    \"call_id\": tool_call.call_id,\n",
    "    \"output\": <output of function call>,\n",
    "}\n",
    "```"
   ]
  },
  {
   "cell_type": "code",
   "execution_count": null,
   "id": "7b977ede",
   "metadata": {},
   "outputs": [
    {
     "name": "stdout",
     "output_type": "stream",
     "text": [
      "get_weather function called to get weather for latitude = 52.52, longitude = 13.405\n",
      "And result is  = 8.1\n",
      "Model Response2 =  The current weather in Berlin is approximately 8.1°C. If you're looking for more details, such as conditions or forecasts, let me know!\n",
      "Status =  completed\n"
     ]
    }
   ],
   "source": [
    "if response.output[0].type == \"function_call\": # Check if output type is function_call\n",
    "    tool_call = response.output[0]\n",
    "    arguments = json.loads(tool_call.arguments)\n",
    "    latitude = arguments.get(\"latitude\")\n",
    "    longitude = arguments.get(\"longitude\")\n",
    "    # weather = get_weather(latitude, longitude) # Both will work\n",
    "    weather = get_weather(**arguments)\n",
    "    new_message = {\n",
    "        \"type\": \"function_call_output\",\n",
    "        \"call_id\": tool_call.call_id,\n",
    "        # \"output\": str(weather)\n",
    "        # Because of json object in output Responses API sometimes does not generate expected output\n",
    "        \"output\":  json.dumps({\"latitude\": latitude, \"longitude\": longitude, \"weather\": weather}),\n",
    "    }\n",
    "    # Important: we will append the tool call (response.output[0])\n",
    "    messages.append(response.output[0]) \n",
    "    messages.append(new_message)\n",
    "    # Calling the Responses API again with all the history messages and the new message\n",
    "    response2 = openai.responses.create(model=MODEL, input=messages,tools = tools)\n",
    "    print(\"Model Response2 = \",response2.output_text)\n",
    "    print(\"Status = \",response2.status)\n",
    "    # rich.print(response2)"
   ]
  },
  {
   "cell_type": "markdown",
   "id": "8023b605",
   "metadata": {},
   "source": [
    "### Using new way of conversation state by sending perivous reponse id"
   ]
  },
  {
   "cell_type": "markdown",
   "id": "7db6801e",
   "metadata": {},
   "source": [
    "First Step where model will responed with tool call request"
   ]
  },
  {
   "cell_type": "code",
   "execution_count": 22,
   "id": "7957d6b0",
   "metadata": {},
   "outputs": [
    {
     "name": "stdout",
     "output_type": "stream",
     "text": [
      "Status =  completed\n",
      "\n"
     ]
    },
    {
     "data": {
      "text/html": [
       "<pre style=\"white-space:pre;overflow-x:auto;line-height:normal;font-family:Menlo,'DejaVu Sans Mono',consolas,'Courier New',monospace\"><span style=\"font-weight: bold\">[</span>\n",
       "    <span style=\"color: #800080; text-decoration-color: #800080; font-weight: bold\">ResponseFunctionToolCall</span><span style=\"font-weight: bold\">(</span>\n",
       "        <span style=\"color: #808000; text-decoration-color: #808000\">id</span>=<span style=\"color: #008000; text-decoration-color: #008000\">'fc_67e2374cff648192bcf480d060d5728908f4aeccc0ee5c44'</span>,\n",
       "        <span style=\"color: #808000; text-decoration-color: #808000\">arguments</span>=<span style=\"color: #008000; text-decoration-color: #008000\">'{\"latitude\":52.520008,\"longitude\":13.404954}'</span>,\n",
       "        <span style=\"color: #808000; text-decoration-color: #808000\">call_id</span>=<span style=\"color: #008000; text-decoration-color: #008000\">'call_89OrUyvdC6ih3Indl0HFq1iQ'</span>,\n",
       "        <span style=\"color: #808000; text-decoration-color: #808000\">name</span>=<span style=\"color: #008000; text-decoration-color: #008000\">'get_weather'</span>,\n",
       "        <span style=\"color: #808000; text-decoration-color: #808000\">type</span>=<span style=\"color: #008000; text-decoration-color: #008000\">'function_call'</span>,\n",
       "        <span style=\"color: #808000; text-decoration-color: #808000\">status</span>=<span style=\"color: #008000; text-decoration-color: #008000\">'completed'</span>\n",
       "    <span style=\"font-weight: bold\">)</span>\n",
       "<span style=\"font-weight: bold\">]</span>\n",
       "</pre>\n"
      ],
      "text/plain": [
       "\u001b[1m[\u001b[0m\n",
       "    \u001b[1;35mResponseFunctionToolCall\u001b[0m\u001b[1m(\u001b[0m\n",
       "        \u001b[33mid\u001b[0m=\u001b[32m'fc_67e2374cff648192bcf480d060d5728908f4aeccc0ee5c44'\u001b[0m,\n",
       "        \u001b[33marguments\u001b[0m=\u001b[32m'\u001b[0m\u001b[32m{\u001b[0m\u001b[32m\"latitude\":52.520008,\"longitude\":13.404954\u001b[0m\u001b[32m}\u001b[0m\u001b[32m'\u001b[0m,\n",
       "        \u001b[33mcall_id\u001b[0m=\u001b[32m'call_89OrUyvdC6ih3Indl0HFq1iQ'\u001b[0m,\n",
       "        \u001b[33mname\u001b[0m=\u001b[32m'get_weather'\u001b[0m,\n",
       "        \u001b[33mtype\u001b[0m=\u001b[32m'function_call'\u001b[0m,\n",
       "        \u001b[33mstatus\u001b[0m=\u001b[32m'completed'\u001b[0m\n",
       "    \u001b[1m)\u001b[0m\n",
       "\u001b[1m]\u001b[0m\n"
      ]
     },
     "metadata": {},
     "output_type": "display_data"
    }
   ],
   "source": [
    "# This section is same as above\n",
    "\n",
    "messages=[\n",
    "    {\"role\": \"developer\", \"content\": \"You are a helpful assistant and provide update on weather in a city.\"},\n",
    "    # {\"role\": \"user\", \"content\": \"What's the weather like in Karachi, Pakistan?\"}\n",
    "    # {\"role\": \"user\", \"content\": \"NYC\"}\n",
    "     {\"role\": \"user\", \"content\": \"Berline\"}\n",
    "]\n",
    "tools = [get_weather_function_response()]\n",
    "\n",
    "response = openai.responses.create(\n",
    "    model=MODEL,\n",
    "    input=messages,\n",
    "    tools = tools\n",
    ")\n",
    "\n",
    "print(\"Status = \",response.status) # Status will not indicate the tool call\n",
    "print(response.output_text) # Empty\n",
    "rich.print(response.output)"
   ]
  },
  {
   "cell_type": "markdown",
   "id": "f307b4db",
   "metadata": {},
   "source": [
    "Second Step where we are calling the `get_weather` function and sending the response back to Responses API"
   ]
  },
  {
   "cell_type": "markdown",
   "id": "f113f648",
   "metadata": {},
   "source": [
    "The only difference in below section is how messages are sent."
   ]
  },
  {
   "cell_type": "code",
   "execution_count": null,
   "id": "e46cba27",
   "metadata": {},
   "outputs": [
    {
     "name": "stdout",
     "output_type": "stream",
     "text": [
      "get_weather function called to get weather for latitude = 52.520008, longitude = 13.404954\n",
      "And result is  = 7.4\n",
      "Model Response2 =  The current temperature in Berlin is approximately 7.4°C. If you need more specific weather details, feel free to ask!\n",
      "Status =  completed\n"
     ]
    }
   ],
   "source": [
    "if response.output[0].type == \"function_call\": # Check if output type is function_call\n",
    "    tool_call = response.output[0]\n",
    "    arguments = json.loads(tool_call.arguments)\n",
    "    latitude = arguments.get(\"latitude\")\n",
    "    longitude = arguments.get(\"longitude\")\n",
    "    # weather = get_weather(latitude, longitude) # Both will work\n",
    "    weather = get_weather(**arguments)\n",
    "    new_message = {\n",
    "        \"type\": \"function_call_output\",\n",
    "        \"call_id\": tool_call.call_id,\n",
    "        # \"output\": str(weather)\n",
    "        # Because of json object in output Responses API sometimes does not generate expected output\n",
    "        \"output\":  json.dumps({\"latitude\": latitude, \"longitude\": longitude, \"weather\": weather}),\n",
    "    }\n",
    "    # Not needed now, because we are sending the previous response id\n",
    "    # messages.append(response.output[0])\n",
    "\n",
    "    # Emptying the messages array because we are sending the previous response id, \n",
    "    # therefore we don't need to send the previous message\n",
    "    messages = [] \n",
    "    messages.append(new_message)\n",
    "    # Note the previous_response_id\n",
    "    response2 = openai.responses.create(model=MODEL, input=messages,tools = tools, previous_response_id=response.id)\n",
    "    print(\"Model Response2 = \",response2.output_text)\n",
    "    print(\"Status = \",response2.status)"
   ]
  }
 ],
 "metadata": {
  "kernelspec": {
   "display_name": ".venv",
   "language": "python",
   "name": "python3"
  },
  "language_info": {
   "codemirror_mode": {
    "name": "ipython",
    "version": 3
   },
   "file_extension": ".py",
   "mimetype": "text/x-python",
   "name": "python",
   "nbconvert_exporter": "python",
   "pygments_lexer": "ipython3",
   "version": "3.12.4"
  }
 },
 "nbformat": 4,
 "nbformat_minor": 5
}
