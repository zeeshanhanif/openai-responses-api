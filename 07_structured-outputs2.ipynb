{
 "cells": [
  {
   "cell_type": "code",
   "execution_count": 2,
   "id": "cd3aa0d0-ff83-4f55-81a8-11aed0ebf4b6",
   "metadata": {},
   "outputs": [],
   "source": [
    "import os\n",
    "from openai import OpenAI\n",
    "from dotenv import load_dotenv\n",
    "from pydantic import BaseModel\n",
    "import json\n",
    "from typing import List\n",
    "import rich"
   ]
  },
  {
   "cell_type": "code",
   "execution_count": 3,
   "id": "794d7c22",
   "metadata": {},
   "outputs": [],
   "source": [
    "load_dotenv()\n",
    "\n",
    "api_key = os.getenv('OPENAI_API_KEY')\n",
    "MODEL = \"gpt-4o-mini\""
   ]
  },
  {
   "cell_type": "code",
   "execution_count": 4,
   "id": "78dae3ba",
   "metadata": {},
   "outputs": [],
   "source": [
    "openai = OpenAI()"
   ]
  },
  {
   "cell_type": "markdown",
   "id": "f50d3494",
   "metadata": {},
   "source": [
    "# Chat Completion API"
   ]
  },
  {
   "cell_type": "code",
   "execution_count": 5,
   "id": "c38479a5",
   "metadata": {},
   "outputs": [
    {
     "name": "stdout",
     "output_type": "stream",
     "text": [
      "{\"name\":\"Science Fair\",\"date\":\"Friday\",\"participants\":[\"Alice\",\"Bob\"]}\n",
      "Science Fair\n",
      "\n",
      "None\n"
     ]
    }
   ],
   "source": [
    "response = openai.beta.chat.completions.parse(\n",
    "    model=MODEL,\n",
    "    messages=[\n",
    "        {\"role\": \"developer\", \"content\": \"Extract the event information. \"},\n",
    "        {\"role\": \"user\", \"content\": \"Alice and Bob are going to a science fair on Friday.\"},\n",
    "    ],\n",
    "    # response_format property is different in chat and responses api\n",
    "    response_format={\n",
    "        # schema format is also bit different in chat and responses api\n",
    "        \"type\": \"json_schema\",\n",
    "        \"json_schema\": {\n",
    "            \"name\": \"calendar_event\",\n",
    "            \"schema\": {\n",
    "                \"type\": \"object\",\n",
    "                \"properties\": {\n",
    "                    \"name\": { \"type\": \"string\"},\n",
    "                    \"date\": { \"type\": \"string\" },\n",
    "                    \"participants\": { \"type\": \"array\", \"items\": { \"type\": \"string\" }},\n",
    "                },\n",
    "                \"required\": [\"name\", \"date\", \"participants\"],\n",
    "                \"additionalProperties\": False\n",
    "            },\n",
    "            \"strict\": True\n",
    "        }\n",
    "    }\n",
    ")\n",
    "print(response.choices[0].message.content)\n",
    "dictionary = json.loads(response.choices[0].message.content)\n",
    "print(dictionary[\"name\"])\n",
    "\n",
    "print()\n",
    "print(response.choices[0].message.parsed) # This will return None, but if we provide pydantic's BaseModel object then we will get parsed object. See example below"
   ]
  },
  {
   "cell_type": "code",
   "execution_count": 6,
   "id": "5b57beb4",
   "metadata": {},
   "outputs": [
    {
     "name": "stdout",
     "output_type": "stream",
     "text": [
      "{\"name\":\"Dinner with Taylor\",\"date\":\"Tuesday night\",\"participants\":[\"Leonardo\",\"Ivan\",\"Alex\",\"Taylor\"]}\n",
      "Dinner with Taylor\n"
     ]
    }
   ],
   "source": [
    "response = openai.beta.chat.completions.parse(\n",
    "    model=MODEL,\n",
    "    messages=[\n",
    "        {\"role\": \"developer\", \"content\": \"Extract the event information. \"},\n",
    "        {\"role\": \"user\", \"content\": \"Leonardo, Ivan and Alex will be joining Taylor for dinner on Tuesday night.\"},\n",
    "    ],\n",
    "    response_format={\n",
    "        \"type\": \"json_schema\",\n",
    "        \"json_schema\": {\n",
    "            \"name\": \"calendar_event\",\n",
    "            \"schema\": {\n",
    "                \"type\": \"object\",\n",
    "                \"properties\": {\n",
    "                    \"name\": { \"type\": \"string\"},\n",
    "                    \"date\": { \"type\": \"string\" },\n",
    "                    \"participants\": { \"type\": \"array\", \"items\": { \"type\": \"string\" }},\n",
    "                },\n",
    "                \"required\": [\"name\", \"date\", \"participants\"],\n",
    "                \"additionalProperties\": False\n",
    "            },\n",
    "            \"strict\": True\n",
    "        }\n",
    "    }\n",
    ")\n",
    "print(response.choices[0].message.content)\n",
    "dictionary = json.loads(response.choices[0].message.content)\n",
    "print(dictionary[\"name\"])"
   ]
  },
  {
   "cell_type": "markdown",
   "id": "52254c7b",
   "metadata": {},
   "source": [
    "Note: `response.choices[0].message.parsed` directly returns object"
   ]
  },
  {
   "cell_type": "code",
   "execution_count": 7,
   "id": "37c0cce5",
   "metadata": {},
   "outputs": [
    {
     "name": "stdout",
     "output_type": "stream",
     "text": [
      "{\"name\":\"Dinner with Taylor\",\"date\":\"Tuesday\",\"participants\":[\"Leonardo\",\"Ivan\",\"Alex\",\"Taylor\"]}\n",
      "Dinner with Taylor\n",
      "\n",
      "name='Dinner with Taylor' date='Tuesday' participants=['Leonardo', 'Ivan', 'Alex', 'Taylor']\n",
      "Dinner with Taylor\n"
     ]
    }
   ],
   "source": [
    "class CalendarEvent(BaseModel):\n",
    "    name: str\n",
    "    date: str\n",
    "    participants: list[str]\n",
    "    \n",
    "response = openai.beta.chat.completions.parse(\n",
    "    model=MODEL,\n",
    "    messages=[\n",
    "        {\"role\": \"developer\", \"content\": \"Extract the event information. \"},\n",
    "        {\"role\": \"user\", \"content\": \"Leonardo, Ivan and Alex will be joining Taylor for dinner on Tuesday night.\"},\n",
    "    ],\n",
    "    response_format=CalendarEvent\n",
    ")\n",
    "print(response.choices[0].message.content)\n",
    "dictionary = json.loads(response.choices[0].message.content)\n",
    "print(dictionary[\"name\"])\n",
    "\n",
    "print()\n",
    "print(response.choices[0].message.parsed)\n",
    "obj = response.choices[0].message.parsed\n",
    "print(obj.name)"
   ]
  },
  {
   "cell_type": "markdown",
   "id": "9ef4dd6f",
   "metadata": {},
   "source": [
    "# Responses API"
   ]
  },
  {
   "cell_type": "code",
   "execution_count": 8,
   "id": "21e4f32c",
   "metadata": {},
   "outputs": [
    {
     "name": "stdout",
     "output_type": "stream",
     "text": [
      "{\"name\":\"Dinner with Taylor\",\"date\":\"Tuesday night\",\"participants\":[\"Leonardo\",\"Ivan\",\"Alex\",\"Taylor\"]}\n",
      "Dinner with Taylor\n"
     ]
    }
   ],
   "source": [
    "response = openai.responses.create(\n",
    "    model=MODEL,\n",
    "    input=[\n",
    "        {\"role\": \"developer\", \"content\": \"Extract the event information. \"},\n",
    "        {\"role\": \"user\", \"content\": \"Leonardo, Ivan and Alex will be joining Taylor for dinner on Tuesday night.\"},\n",
    "    ],\n",
    "    # text property is different in chat and responses api\n",
    "    text={\n",
    "        # schema format is also bit different in chat and responses api\n",
    "        \"format\": {\n",
    "            \"type\": \"json_schema\",\n",
    "            \"name\": \"calendar_event\",\n",
    "            \"schema\": {\n",
    "                \"type\": \"object\",\n",
    "                \"properties\": {\n",
    "                    \"name\": { \"type\": \"string\"},\n",
    "                    \"date\": { \"type\": \"string\" },\n",
    "                    \"participants\": { \"type\": \"array\", \"items\": { \"type\": \"string\" }},\n",
    "                },\n",
    "                \"required\": [\"name\", \"date\", \"participants\"],\n",
    "                \"additionalProperties\": False\n",
    "            },\n",
    "            \"strict\": True\n",
    "        }\n",
    "    }\n",
    ")\n",
    "print(response.output_text)\n",
    "dictionary = json.loads(response.output_text)\n",
    "print(dictionary[\"name\"])"
   ]
  },
  {
   "cell_type": "markdown",
   "id": "ca6583e7",
   "metadata": {},
   "source": [
    "Note: In below example we use `openai.responses.parse()` and property for format is `text_format` instead of `text`"
   ]
  },
  {
   "cell_type": "markdown",
   "id": "b9f3d760",
   "metadata": {},
   "source": [
    "https://github.com/openai/openai-python/blob/main/examples/responses/structured_outputs.py"
   ]
  },
  {
   "cell_type": "code",
   "execution_count": 9,
   "id": "0bdde620",
   "metadata": {},
   "outputs": [
    {
     "name": "stdout",
     "output_type": "stream",
     "text": [
      "{\"name\":\"Dinner with Taylor\",\"date\":\"Tuesday night\",\"participants\":[\"Leonardo\",\"Ivan\",\"Alex\",\"Taylor\"]}\n",
      "Dinner with Taylor\n"
     ]
    }
   ],
   "source": [
    "class CalendarEvent(BaseModel):\n",
    "    name: str\n",
    "    date: str\n",
    "    participants: list[str]\n",
    "    \n",
    "response = openai.responses.parse(\n",
    "    model=MODEL,\n",
    "    input=[\n",
    "        {\"role\": \"developer\", \"content\": \"Extract the event information. \"},\n",
    "        {\"role\": \"user\", \"content\": \"Leonardo, Ivan and Alex will be joining Taylor for dinner on Tuesday night.\"},\n",
    "    ],\n",
    "    text_format=CalendarEvent\n",
    ")\n",
    "print(response.output_text)\n",
    "dictionary = json.loads(response.output_text)\n",
    "print(dictionary[\"name\"])"
   ]
  },
  {
   "cell_type": "markdown",
   "id": "62b2d5c7",
   "metadata": {},
   "source": [
    "Note: `response.output[0].content[0].parsed` directly returns object"
   ]
  },
  {
   "cell_type": "code",
   "execution_count": 10,
   "id": "1efb21a6",
   "metadata": {},
   "outputs": [
    {
     "name": "stdout",
     "output_type": "stream",
     "text": [
      "{\"name\":\"Dinner with Taylor\",\"date\":\"Tuesday night\",\"participants\":[\"Leonardo\",\"Ivan\",\"Alex\",\"Taylor\"]}\n",
      "\n",
      "ParsedResponse[CalendarEvent](id='resp_67d7c52cfe8081928198e754f6051e7a0f5eb5f391530b8f', created_at=1742193964.0, error=None, incomplete_details=None, instructions=None, metadata={}, model='gpt-4o-mini-2024-07-18', object='response', output=[ParsedResponseOutputMessage[CalendarEvent](id='msg_67d7c52d58008192a53c8b50182bd69e0f5eb5f391530b8f', content=[ParsedResponseOutputText[CalendarEvent](annotations=[], text='{\"name\":\"Dinner with Taylor\",\"date\":\"Tuesday night\",\"participants\":[\"Leonardo\",\"Ivan\",\"Alex\",\"Taylor\"]}', type='output_text', parsed=CalendarEvent(name='Dinner with Taylor', date='Tuesday night', participants=['Leonardo', 'Ivan', 'Alex', 'Taylor']))], role='assistant', status='completed', type='message')], parallel_tool_calls=True, temperature=1.0, tool_choice='auto', tools=[], top_p=1.0, max_output_tokens=None, previous_response_id=None, reasoning=Reasoning(effort=None, generate_summary=None), status='completed', text=ResponseTextConfig(format=ResponseFormatTextJSONSchemaConfig(schema_={'properties': {'name': {'title': 'Name', 'type': 'string'}, 'date': {'title': 'Date', 'type': 'string'}, 'participants': {'items': {'type': 'string'}, 'title': 'Participants', 'type': 'array'}}, 'required': ['name', 'date', 'participants'], 'title': 'CalendarEvent', 'type': 'object', 'additionalProperties': False}, type='json_schema', description=None, name='CalendarEvent', strict=True)), truncation='disabled', usage=ResponseUsage(input_tokens=112, output_tokens=25, output_tokens_details=OutputTokensDetails(reasoning_tokens=0), total_tokens=137, input_tokens_details={'cached_tokens': 0}), user=None, store=True)\n",
      "\n",
      "name='Dinner with Taylor' date='Tuesday night' participants=['Leonardo', 'Ivan', 'Alex', 'Taylor']\n",
      "\n",
      "Tuesday night\n"
     ]
    }
   ],
   "source": [
    "class CalendarEvent(BaseModel):\n",
    "    name: str\n",
    "    date: str\n",
    "    participants: list[str]\n",
    "    \n",
    "response = openai.responses.parse(\n",
    "    model=MODEL,\n",
    "    input=[\n",
    "        {\"role\": \"developer\", \"content\": \"Extract the event information. \"},\n",
    "        {\"role\": \"user\", \"content\": \"Leonardo, Ivan and Alex will be joining Taylor for dinner on Tuesday night.\"},\n",
    "    ],\n",
    "    text_format=CalendarEvent\n",
    ")\n",
    "print(response.output_text)\n",
    "print()\n",
    "print(response)\n",
    "print()\n",
    "print(response.output[0].content[0].parsed)\n",
    "print()\n",
    "obj = response.output[0].content[0].parsed\n",
    "print(obj.date)"
   ]
  },
  {
   "cell_type": "code",
   "execution_count": 12,
   "id": "1c002bd5",
   "metadata": {},
   "outputs": [
    {
     "name": "stdout",
     "output_type": "stream",
     "text": [
      "steps=[Step(explanation='Start by isolating the term with the variable (8x). You can do this by subtracting 7 from both sides of the equation.', output='8x + 7 - 7 = -23 - 7 => 8x = -30'), Step(explanation='Next, divide both sides of the equation by 8 to solve for x.', output='8x / 8 = -30 / 8 => x = -30/8'), Step(explanation='Simplify the fraction -30/8 to its simplest form. Both 30 and 8 can be divided by 2.', output='x = -15/4')] final_answer='x = -15/4'\n",
      "\n",
      "x = -15/4\n",
      "\n"
     ]
    },
    {
     "data": {
      "text/html": [
       "<pre style=\"white-space:pre;overflow-x:auto;line-height:normal;font-family:Menlo,'DejaVu Sans Mono',consolas,'Courier New',monospace\"><span style=\"color: #800080; text-decoration-color: #800080; font-weight: bold\">MathResponse</span><span style=\"font-weight: bold\">(</span>\n",
       "    <span style=\"color: #808000; text-decoration-color: #808000\">steps</span>=<span style=\"font-weight: bold\">[</span>\n",
       "        <span style=\"color: #800080; text-decoration-color: #800080; font-weight: bold\">Step</span><span style=\"font-weight: bold\">(</span>\n",
       "            <span style=\"color: #808000; text-decoration-color: #808000\">explanation</span>=<span style=\"color: #008000; text-decoration-color: #008000\">'Start by isolating the term with the variable (8x). You can do this by subtracting 7 from </span>\n",
       "<span style=\"color: #008000; text-decoration-color: #008000\">both sides of the equation.'</span>,\n",
       "            <span style=\"color: #808000; text-decoration-color: #808000\">output</span>=<span style=\"color: #008000; text-decoration-color: #008000\">'8x + 7 - 7 = -23 - 7 =&gt; 8x = -30'</span>\n",
       "        <span style=\"font-weight: bold\">)</span>,\n",
       "        <span style=\"color: #800080; text-decoration-color: #800080; font-weight: bold\">Step</span><span style=\"font-weight: bold\">(</span>\n",
       "            <span style=\"color: #808000; text-decoration-color: #808000\">explanation</span>=<span style=\"color: #008000; text-decoration-color: #008000\">'Next, divide both sides of the equation by 8 to solve for x.'</span>,\n",
       "            <span style=\"color: #808000; text-decoration-color: #808000\">output</span>=<span style=\"color: #008000; text-decoration-color: #008000\">'8x / 8 = -30 / 8 =&gt; x = -30/8'</span>\n",
       "        <span style=\"font-weight: bold\">)</span>,\n",
       "        <span style=\"color: #800080; text-decoration-color: #800080; font-weight: bold\">Step</span><span style=\"font-weight: bold\">(</span>\n",
       "            <span style=\"color: #808000; text-decoration-color: #808000\">explanation</span>=<span style=\"color: #008000; text-decoration-color: #008000\">'Simplify the fraction -30/8 to its simplest form. Both 30 and 8 can be divided by 2.'</span>,\n",
       "            <span style=\"color: #808000; text-decoration-color: #808000\">output</span>=<span style=\"color: #008000; text-decoration-color: #008000\">'x = -15/4'</span>\n",
       "        <span style=\"font-weight: bold\">)</span>\n",
       "    <span style=\"font-weight: bold\">]</span>,\n",
       "    <span style=\"color: #808000; text-decoration-color: #808000\">final_answer</span>=<span style=\"color: #008000; text-decoration-color: #008000\">'x = -15/4'</span>\n",
       "<span style=\"font-weight: bold\">)</span>\n",
       "</pre>\n"
      ],
      "text/plain": [
       "\u001b[1;35mMathResponse\u001b[0m\u001b[1m(\u001b[0m\n",
       "    \u001b[33msteps\u001b[0m=\u001b[1m[\u001b[0m\n",
       "        \u001b[1;35mStep\u001b[0m\u001b[1m(\u001b[0m\n",
       "            \u001b[33mexplanation\u001b[0m=\u001b[32m'Start by isolating the term with the variable \u001b[0m\u001b[32m(\u001b[0m\u001b[32m8x\u001b[0m\u001b[32m)\u001b[0m\u001b[32m. You can do this by subtracting 7 from \u001b[0m\n",
       "\u001b[32mboth sides of the equation.'\u001b[0m,\n",
       "            \u001b[33moutput\u001b[0m=\u001b[32m'8x + 7 - 7 = -23 - 7 => 8x = -30'\u001b[0m\n",
       "        \u001b[1m)\u001b[0m,\n",
       "        \u001b[1;35mStep\u001b[0m\u001b[1m(\u001b[0m\n",
       "            \u001b[33mexplanation\u001b[0m=\u001b[32m'Next, divide both sides of the equation by 8 to solve for x.'\u001b[0m,\n",
       "            \u001b[33moutput\u001b[0m=\u001b[32m'8x / 8 = -30 / 8 => x = -30/8'\u001b[0m\n",
       "        \u001b[1m)\u001b[0m,\n",
       "        \u001b[1;35mStep\u001b[0m\u001b[1m(\u001b[0m\n",
       "            \u001b[33mexplanation\u001b[0m=\u001b[32m'Simplify the fraction -30/8 to its simplest form. Both 30 and 8 can be divided by 2.'\u001b[0m,\n",
       "            \u001b[33moutput\u001b[0m=\u001b[32m'x = -15/4'\u001b[0m\n",
       "        \u001b[1m)\u001b[0m\n",
       "    \u001b[1m]\u001b[0m,\n",
       "    \u001b[33mfinal_answer\u001b[0m=\u001b[32m'x = -15/4'\u001b[0m\n",
       "\u001b[1m)\u001b[0m\n"
      ]
     },
     "metadata": {},
     "output_type": "display_data"
    }
   ],
   "source": [
    "class Step(BaseModel):\n",
    "    explanation: str\n",
    "    output: str\n",
    "\n",
    "\n",
    "class MathResponse(BaseModel):\n",
    "    steps: List[Step]\n",
    "    final_answer: str\n",
    "\n",
    "response = openai.responses.parse(\n",
    "    model=MODEL,\n",
    "    input=[\n",
    "        {\"role\": \"developer\", \"content\": \"You are a helpful math tutor. Guide the user through the solution step by step.\"},\n",
    "        {\"role\": \"user\", \"content\": \"how can I solve 8x + 7 = -23\"},\n",
    "    ],\n",
    "    text_format=MathResponse\n",
    ")\n",
    "\n",
    "math_reasoning = response.output[0].content[0].parsed\n",
    "print(math_reasoning)\n",
    "print()\n",
    "print(math_reasoning.final_answer)\n",
    "print()\n",
    "rich.print(math_reasoning)"
   ]
  }
 ],
 "metadata": {
  "kernelspec": {
   "display_name": ".venv",
   "language": "python",
   "name": "python3"
  },
  "language_info": {
   "codemirror_mode": {
    "name": "ipython",
    "version": 3
   },
   "file_extension": ".py",
   "mimetype": "text/x-python",
   "name": "python",
   "nbconvert_exporter": "python",
   "pygments_lexer": "ipython3",
   "version": "3.12.4"
  }
 },
 "nbformat": 4,
 "nbformat_minor": 5
}
