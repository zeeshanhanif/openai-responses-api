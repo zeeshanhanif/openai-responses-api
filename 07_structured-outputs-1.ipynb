{
 "cells": [
  {
   "cell_type": "code",
   "execution_count": 1,
   "id": "cd3aa0d0-ff83-4f55-81a8-11aed0ebf4b6",
   "metadata": {},
   "outputs": [],
   "source": [
    "import os\n",
    "from openai import OpenAI\n",
    "from dotenv import load_dotenv\n",
    "import json"
   ]
  },
  {
   "cell_type": "code",
   "execution_count": 2,
   "id": "794d7c22",
   "metadata": {},
   "outputs": [],
   "source": [
    "load_dotenv()\n",
    "\n",
    "api_key = os.getenv('OPENAI_API_KEY')\n",
    "MODEL = \"gpt-4o-mini\"\n",
    "\n",
    "openai = OpenAI()"
   ]
  },
  {
   "cell_type": "markdown",
   "id": "c94b5892",
   "metadata": {},
   "source": [
    "Using system prompt to generate structured output"
   ]
  },
  {
   "cell_type": "markdown",
   "id": "f50d3494",
   "metadata": {},
   "source": [
    "# Chat Completion API"
   ]
  },
  {
   "cell_type": "markdown",
   "id": "c2f138ac",
   "metadata": {},
   "source": [
    "https://platform.openai.com/docs/guides/structured-outputs?api-mode=chat"
   ]
  },
  {
   "cell_type": "code",
   "execution_count": null,
   "id": "4f8cd6c1",
   "metadata": {},
   "outputs": [
    {
     "name": "stdout",
     "output_type": "stream",
     "text": [
      "{'name': 'Science Fair', 'date': 'Friday', 'participants': ['Alice', 'Bob']}\n"
     ]
    }
   ],
   "source": [
    "system_prompt = \"\"\"\n",
    "Extract the event information from the users message and provide output in \n",
    "exact json format as follows - \n",
    "{'name': 'Dinner', 'date': 'Monday', 'participants': ['Michael', 'David']}\n",
    "\"\"\"\n",
    "response = openai.chat.completions.create(\n",
    "    model=MODEL,\n",
    "    messages=[\n",
    "        {\"role\": \"developer\", \"content\": system_prompt},\n",
    "        {\"role\": \"user\", \"content\": \"Alice and Bob are going to a science fair on Friday.\"},\n",
    "    ],\n",
    ")\n",
    "# Response is string not json\n",
    "print(response.choices[0].message.content) "
   ]
  },
  {
   "cell_type": "markdown",
   "id": "99d75216",
   "metadata": {},
   "source": [
    "This will give ERROR because object properties in outupt are in single quotes"
   ]
  },
  {
   "cell_type": "code",
   "execution_count": null,
   "id": "b66217bb",
   "metadata": {},
   "outputs": [],
   "source": [
    "system_prompt = \"\"\"\n",
    "Extract the event information from the users message and provide output in \n",
    "exact json format as follows - \n",
    "{'name': 'Dinner', 'date': 'Monday', 'participants': ['Michael', 'David']}\n",
    "\"\"\"\n",
    "response = openai.chat.completions.create(\n",
    "    model=MODEL,\n",
    "    messages=[\n",
    "        {\"role\": \"developer\", \"content\": system_prompt},\n",
    "        {\"role\": \"user\", \"content\": \"Alice and Bob are going to a science fair on Friday.\"},\n",
    "    ],\n",
    ")\n",
    "print(response.choices[0].message.content)\n",
    "# This will give ERROR because object properties in outupt are in single quotes\n",
    "dictionary = json.loads(response.choices[0].message.content)\n",
    "print(dictionary)"
   ]
  },
  {
   "cell_type": "markdown",
   "id": "978c775a",
   "metadata": {},
   "source": [
    "After JSON parsing, you will receive a JSON key-value pair dictionary, not an object."
   ]
  },
  {
   "cell_type": "code",
   "execution_count": 9,
   "id": "0a6a61cc",
   "metadata": {},
   "outputs": [
    {
     "name": "stdout",
     "output_type": "stream",
     "text": [
      "{\"name\": \"Dinner\", \"date\": \"Tuesday\", \"participants\": [\"Leonardo\", \"Ivan\", \"Alex\", \"Taylor\"]}\n",
      "{'name': 'Dinner', 'date': 'Tuesday', 'participants': ['Leonardo', 'Ivan', 'Alex', 'Taylor']}\n",
      "Dinner\n"
     ]
    }
   ],
   "source": [
    "system_prompt = \"\"\"\n",
    "Extract the event information from the users message and provide output in \n",
    "exact json format as follows - \n",
    "{\"name\": \"Dinner\", \"date\": \"Monday\", \"participants\": [\"Michael\", \"David\"]}\n",
    "\"\"\"\n",
    "response = openai.chat.completions.create(\n",
    "    model=MODEL,\n",
    "    messages=[\n",
    "        {\"role\": \"developer\", \"content\": system_prompt},\n",
    "        {\"role\": \"user\", \"content\": \"Leonardo, Ivan and Alex will be joining Taylor for dinner on Tuesday night.\"},\n",
    "    ],\n",
    ")\n",
    "print(response.choices[0].message.content)\n",
    "dictionary = json.loads(response.choices[0].message.content) # Convert string to json\n",
    "print(dictionary)\n",
    "print(dictionary[\"name\"])\n",
    "# print(dictionary.name) # Will not work because dictionary is not an object"
   ]
  },
  {
   "cell_type": "markdown",
   "id": "9ef4dd6f",
   "metadata": {},
   "source": [
    "# Responses API"
   ]
  },
  {
   "cell_type": "markdown",
   "id": "e62f8f7f",
   "metadata": {},
   "source": [
    "https://platform.openai.com/docs/guides/structured-outputs?api-mode=responses"
   ]
  },
  {
   "cell_type": "code",
   "execution_count": null,
   "id": "11765a81",
   "metadata": {},
   "outputs": [
    {
     "name": "stdout",
     "output_type": "stream",
     "text": [
      "{\"name\": \"Science Fair\", \"date\": \"Friday\", \"participants\": [\"Alice\", \"Bob\"]}\n",
      "Science Fair\n"
     ]
    }
   ],
   "source": [
    "system_prompt = \"\"\"\n",
    "Extract the event information from the users message and provide output in \n",
    "exact json format as follows - \n",
    "{\"name\": \"Dinner\", \"date\": \"Monday\", \"participants\": [\"Michael\", \"David\"]}\n",
    "\"\"\"\n",
    "response = openai.responses.create(\n",
    "    model=MODEL,\n",
    "    input=[\n",
    "        {\"role\": \"developer\", \"content\": system_prompt},\n",
    "        {\"role\": \"user\", \"content\": \"Alice and Bob are going to a science fair on Friday.\"},\n",
    "    ]\n",
    ")\n",
    "\n",
    "# Response is string not json\n",
    "print(response.output_text)\n",
    "dictionary = json.loads(response.output_text)\n",
    "print(dictionary[\"name\"])\n",
    "# print(dictionary.name) # Will not work because dictionary is not an object"
   ]
  },
  {
   "cell_type": "markdown",
   "id": "12705c06",
   "metadata": {},
   "source": [
    "A similar example, except for the user input."
   ]
  },
  {
   "cell_type": "code",
   "execution_count": 10,
   "id": "c6974c96",
   "metadata": {},
   "outputs": [
    {
     "name": "stdout",
     "output_type": "stream",
     "text": [
      "{\"name\": \"Dinner\", \"date\": \"Tuesday\", \"participants\": [\"Taylor\", \"Leonardo\", \"Ivan\", \"Alex\"]}\n",
      "Dinner\n"
     ]
    }
   ],
   "source": [
    "system_prompt = \"\"\"\n",
    "Extract the event information from the users message and provide output in \n",
    "exact json format as follows - \n",
    "{\"name\": \"Dinner\", \"date\": \"Monday\", \"participants\": [\"Michael\", \"David\"]}\n",
    "\"\"\"\n",
    "response = openai.responses.create(\n",
    "    model=MODEL,\n",
    "    input=[\n",
    "        {\"role\": \"developer\", \"content\": system_prompt},\n",
    "        {\"role\": \"user\", \"content\": \"Leonardo, Ivan and Alex will be joining Taylor for dinner on Tuesday night.\"},\n",
    "    ]\n",
    ")\n",
    "print(response.output_text)\n",
    "dictionary = json.loads(response.output_text)\n",
    "print(dictionary[\"name\"])"
   ]
  }
 ],
 "metadata": {
  "kernelspec": {
   "display_name": ".venv",
   "language": "python",
   "name": "python3"
  },
  "language_info": {
   "codemirror_mode": {
    "name": "ipython",
    "version": 3
   },
   "file_extension": ".py",
   "mimetype": "text/x-python",
   "name": "python",
   "nbconvert_exporter": "python",
   "pygments_lexer": "ipython3",
   "version": "3.12.4"
  }
 },
 "nbformat": 4,
 "nbformat_minor": 5
}
