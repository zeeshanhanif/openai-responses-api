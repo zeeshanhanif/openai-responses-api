{
 "cells": [
  {
   "cell_type": "code",
   "execution_count": 1,
   "id": "cd3aa0d0-ff83-4f55-81a8-11aed0ebf4b6",
   "metadata": {},
   "outputs": [],
   "source": [
    "import os\n",
    "from openai import OpenAI\n",
    "from dotenv import load_dotenv"
   ]
  },
  {
   "cell_type": "code",
   "execution_count": 2,
   "id": "794d7c22",
   "metadata": {},
   "outputs": [],
   "source": [
    "load_dotenv()\n",
    "\n",
    "api_key = os.getenv('OPENAI_API_KEY')\n",
    "MODEL = \"gpt-4o-mini\""
   ]
  },
  {
   "cell_type": "code",
   "execution_count": 3,
   "id": "78dae3ba",
   "metadata": {},
   "outputs": [],
   "source": [
    "openai = OpenAI()"
   ]
  },
  {
   "cell_type": "markdown",
   "id": "f50d3494",
   "metadata": {},
   "source": [
    "# Chat Completion API"
   ]
  },
  {
   "cell_type": "code",
   "execution_count": 19,
   "id": "4f8cd6c1",
   "metadata": {},
   "outputs": [],
   "source": [
    "prompts = [\n",
    "    { \"role\": \"developer\", \"content\": \"You are an helpfull assistant\"},\n",
    "    { \"role\": \"user\", \"content\": \"Tell me a joke about the internet\"}\n",
    "]\n",
    "\n",
    "response = openai.chat.completions.create(\n",
    "    model=MODEL,\n",
    "    messages= prompts\n",
    ")"
   ]
  },
  {
   "cell_type": "code",
   "execution_count": 20,
   "id": "0455d710",
   "metadata": {},
   "outputs": [
    {
     "name": "stdout",
     "output_type": "stream",
     "text": [
      "stop\n"
     ]
    }
   ],
   "source": [
    "print(response.choices[0].finish_reason)\n"
   ]
  },
  {
   "cell_type": "code",
   "execution_count": 21,
   "id": "be4d8de8",
   "metadata": {},
   "outputs": [
    {
     "name": "stdout",
     "output_type": "stream",
     "text": [
      "Why did the computer go to therapy?\n",
      "\n",
      "Because it had too many cookies and couldn't handle its cache!\n"
     ]
    }
   ],
   "source": [
    "print(response.choices[0].message.content)"
   ]
  },
  {
   "cell_type": "markdown",
   "id": "9ef4dd6f",
   "metadata": {},
   "source": [
    "# Responses API"
   ]
  },
  {
   "cell_type": "code",
   "execution_count": 4,
   "id": "2fc8cd05",
   "metadata": {},
   "outputs": [],
   "source": [
    "prompts = [\n",
    "    { \"role\": \"developer\", \"content\": \"You are an helpfull assistant\"},\n",
    "    { \"role\": \"user\", \"content\": \"Tell me a joke about the internet\"}\n",
    "]\n",
    "\n",
    "response = openai.responses.create(\n",
    "    model=MODEL,\n",
    "    input=prompts\n",
    ")"
   ]
  },
  {
   "cell_type": "code",
   "execution_count": 5,
   "id": "8428aae1",
   "metadata": {},
   "outputs": [
    {
     "name": "stdout",
     "output_type": "stream",
     "text": [
      "Response(id='resp_67d799e2748081929f8f5ad8998c6a41034b700030a33816', created_at=1742182882.0, error=None, incomplete_details=None, instructions=None, metadata={}, model='gpt-4o-mini-2024-07-18', object='response', output=[ResponseOutputMessage(id='msg_67d799e2de808192920a1f62539bbe7f034b700030a33816', content=[ResponseOutputText(annotations=[], text='Why did the computer go to therapy?\\n\\nBecause it had too many tabs open!', type='output_text')], role='assistant', status='completed', type='message')], parallel_tool_calls=True, temperature=1.0, tool_choice='auto', tools=[], top_p=1.0, max_output_tokens=None, previous_response_id=None, reasoning=Reasoning(effort=None, generate_summary=None), status='completed', text=ResponseTextConfig(format=ResponseFormatText(type='text')), truncation='disabled', usage=ResponseUsage(input_tokens=42, output_tokens=17, output_tokens_details=OutputTokensDetails(reasoning_tokens=0), total_tokens=59, input_tokens_details={'cached_tokens': 0}), user=None, store=True)\n"
     ]
    }
   ],
   "source": [
    "print(response)"
   ]
  },
  {
   "cell_type": "code",
   "execution_count": 6,
   "id": "ff12dafb",
   "metadata": {},
   "outputs": [
    {
     "name": "stdout",
     "output_type": "stream",
     "text": [
      "None\n",
      "[]\n",
      "completed\n",
      "True\n"
     ]
    }
   ],
   "source": [
    "print(response.instructions)\n",
    "print(response.tools)\n",
    "print(response.status)\n",
    "print(response.store)"
   ]
  },
  {
   "cell_type": "code",
   "execution_count": 7,
   "id": "644de4a2",
   "metadata": {},
   "outputs": [
    {
     "name": "stdout",
     "output_type": "stream",
     "text": [
      "Why did the computer go to therapy?\n",
      "\n",
      "Because it had too many tabs open!\n"
     ]
    }
   ],
   "source": [
    "print(response.output_text)"
   ]
  }
 ],
 "metadata": {
  "kernelspec": {
   "display_name": ".venv",
   "language": "python",
   "name": "python3"
  },
  "language_info": {
   "codemirror_mode": {
    "name": "ipython",
    "version": 3
   },
   "file_extension": ".py",
   "mimetype": "text/x-python",
   "name": "python",
   "nbconvert_exporter": "python",
   "pygments_lexer": "ipython3",
   "version": "3.12.4"
  }
 },
 "nbformat": 4,
 "nbformat_minor": 5
}
