{
 "cells": [
  {
   "cell_type": "code",
   "execution_count": 2,
   "id": "cd3aa0d0-ff83-4f55-81a8-11aed0ebf4b6",
   "metadata": {},
   "outputs": [],
   "source": [
    "import os\n",
    "from openai import OpenAI\n",
    "from dotenv import load_dotenv"
   ]
  },
  {
   "cell_type": "code",
   "execution_count": 3,
   "id": "794d7c22",
   "metadata": {},
   "outputs": [],
   "source": [
    "load_dotenv()\n",
    "\n",
    "api_key = os.getenv('OPENAI_API_KEY')\n",
    "MODEL = \"gpt-4o-mini\""
   ]
  },
  {
   "cell_type": "code",
   "execution_count": 4,
   "id": "78dae3ba",
   "metadata": {},
   "outputs": [],
   "source": [
    "openai = OpenAI()"
   ]
  },
  {
   "cell_type": "markdown",
   "id": "f50d3494",
   "metadata": {},
   "source": [
    "# Chat Completion API"
   ]
  },
  {
   "cell_type": "code",
   "execution_count": 42,
   "id": "4f8cd6c1",
   "metadata": {},
   "outputs": [],
   "source": [
    "prompts = [\n",
    "    { \"role\": \"user\", \"content\": \"Tell me a joke about the internet\"}\n",
    "]\n",
    "\n",
    "stream = openai.chat.completions.create(\n",
    "    model=MODEL,\n",
    "    messages= prompts,\n",
    "    stream=True\n",
    ")"
   ]
  },
  {
   "cell_type": "code",
   "execution_count": 14,
   "id": "3238449e",
   "metadata": {},
   "outputs": [
    {
     "name": "stdout",
     "output_type": "stream",
     "text": [
      "<openai.Stream object at 0x000001AB3BE57EC0>\n"
     ]
    }
   ],
   "source": [
    "print(stream)"
   ]
  },
  {
   "cell_type": "code",
   "execution_count": null,
   "id": "a13c201b",
   "metadata": {},
   "outputs": [
    {
     "name": "stdout",
     "output_type": "stream",
     "text": [
      "ChatCompletionChunk(id='chatcmpl-BAtZ2wqI2EMHyblIyMjDi1gaB3TJd', choices=[Choice(delta=ChoiceDelta(content='', function_call=None, refusal=None, role='assistant', tool_calls=None), finish_reason=None, index=0, logprobs=None)], created=1741936568, model='gpt-4o-mini-2024-07-18', object='chat.completion.chunk', service_tier='default', system_fingerprint='fp_3267753c5d', usage=None)\n",
      "ChatCompletionChunk(id='chatcmpl-BAtZ2wqI2EMHyblIyMjDi1gaB3TJd', choices=[Choice(delta=ChoiceDelta(content='Why', function_call=None, refusal=None, role=None, tool_calls=None), finish_reason=None, index=0, logprobs=None)], created=1741936568, model='gpt-4o-mini-2024-07-18', object='chat.completion.chunk', service_tier='default', system_fingerprint='fp_3267753c5d', usage=None)\n",
      "ChatCompletionChunk(id='chatcmpl-BAtZ2wqI2EMHyblIyMjDi1gaB3TJd', choices=[Choice(delta=ChoiceDelta(content=' did', function_call=None, refusal=None, role=None, tool_calls=None), finish_reason=None, index=0, logprobs=None)], created=1741936568, model='gpt-4o-mini-2024-07-18', object='chat.completion.chunk', service_tier='default', system_fingerprint='fp_3267753c5d', usage=None)\n",
      "ChatCompletionChunk(id='chatcmpl-BAtZ2wqI2EMHyblIyMjDi1gaB3TJd', choices=[Choice(delta=ChoiceDelta(content=' the', function_call=None, refusal=None, role=None, tool_calls=None), finish_reason=None, index=0, logprobs=None)], created=1741936568, model='gpt-4o-mini-2024-07-18', object='chat.completion.chunk', service_tier='default', system_fingerprint='fp_3267753c5d', usage=None)\n",
      "ChatCompletionChunk(id='chatcmpl-BAtZ2wqI2EMHyblIyMjDi1gaB3TJd', choices=[Choice(delta=ChoiceDelta(content=' computer', function_call=None, refusal=None, role=None, tool_calls=None), finish_reason=None, index=0, logprobs=None)], created=1741936568, model='gpt-4o-mini-2024-07-18', object='chat.completion.chunk', service_tier='default', system_fingerprint='fp_3267753c5d', usage=None)\n",
      "ChatCompletionChunk(id='chatcmpl-BAtZ2wqI2EMHyblIyMjDi1gaB3TJd', choices=[Choice(delta=ChoiceDelta(content=' keep', function_call=None, refusal=None, role=None, tool_calls=None), finish_reason=None, index=0, logprobs=None)], created=1741936568, model='gpt-4o-mini-2024-07-18', object='chat.completion.chunk', service_tier='default', system_fingerprint='fp_3267753c5d', usage=None)\n",
      "ChatCompletionChunk(id='chatcmpl-BAtZ2wqI2EMHyblIyMjDi1gaB3TJd', choices=[Choice(delta=ChoiceDelta(content=' its', function_call=None, refusal=None, role=None, tool_calls=None), finish_reason=None, index=0, logprobs=None)], created=1741936568, model='gpt-4o-mini-2024-07-18', object='chat.completion.chunk', service_tier='default', system_fingerprint='fp_3267753c5d', usage=None)\n",
      "ChatCompletionChunk(id='chatcmpl-BAtZ2wqI2EMHyblIyMjDi1gaB3TJd', choices=[Choice(delta=ChoiceDelta(content=' internet', function_call=None, refusal=None, role=None, tool_calls=None), finish_reason=None, index=0, logprobs=None)], created=1741936568, model='gpt-4o-mini-2024-07-18', object='chat.completion.chunk', service_tier='default', system_fingerprint='fp_3267753c5d', usage=None)\n",
      "ChatCompletionChunk(id='chatcmpl-BAtZ2wqI2EMHyblIyMjDi1gaB3TJd', choices=[Choice(delta=ChoiceDelta(content=' connection', function_call=None, refusal=None, role=None, tool_calls=None), finish_reason=None, index=0, logprobs=None)], created=1741936568, model='gpt-4o-mini-2024-07-18', object='chat.completion.chunk', service_tier='default', system_fingerprint='fp_3267753c5d', usage=None)\n",
      "ChatCompletionChunk(id='chatcmpl-BAtZ2wqI2EMHyblIyMjDi1gaB3TJd', choices=[Choice(delta=ChoiceDelta(content=' a', function_call=None, refusal=None, role=None, tool_calls=None), finish_reason=None, index=0, logprobs=None)], created=1741936568, model='gpt-4o-mini-2024-07-18', object='chat.completion.chunk', service_tier='default', system_fingerprint='fp_3267753c5d', usage=None)\n",
      "ChatCompletionChunk(id='chatcmpl-BAtZ2wqI2EMHyblIyMjDi1gaB3TJd', choices=[Choice(delta=ChoiceDelta(content=' secret', function_call=None, refusal=None, role=None, tool_calls=None), finish_reason=None, index=0, logprobs=None)], created=1741936568, model='gpt-4o-mini-2024-07-18', object='chat.completion.chunk', service_tier='default', system_fingerprint='fp_3267753c5d', usage=None)\n",
      "ChatCompletionChunk(id='chatcmpl-BAtZ2wqI2EMHyblIyMjDi1gaB3TJd', choices=[Choice(delta=ChoiceDelta(content='?\\n\\n', function_call=None, refusal=None, role=None, tool_calls=None), finish_reason=None, index=0, logprobs=None)], created=1741936568, model='gpt-4o-mini-2024-07-18', object='chat.completion.chunk', service_tier='default', system_fingerprint='fp_3267753c5d', usage=None)\n",
      "ChatCompletionChunk(id='chatcmpl-BAtZ2wqI2EMHyblIyMjDi1gaB3TJd', choices=[Choice(delta=ChoiceDelta(content='Because', function_call=None, refusal=None, role=None, tool_calls=None), finish_reason=None, index=0, logprobs=None)], created=1741936568, model='gpt-4o-mini-2024-07-18', object='chat.completion.chunk', service_tier='default', system_fingerprint='fp_3267753c5d', usage=None)\n",
      "ChatCompletionChunk(id='chatcmpl-BAtZ2wqI2EMHyblIyMjDi1gaB3TJd', choices=[Choice(delta=ChoiceDelta(content=' it', function_call=None, refusal=None, role=None, tool_calls=None), finish_reason=None, index=0, logprobs=None)], created=1741936568, model='gpt-4o-mini-2024-07-18', object='chat.completion.chunk', service_tier='default', system_fingerprint='fp_3267753c5d', usage=None)\n",
      "ChatCompletionChunk(id='chatcmpl-BAtZ2wqI2EMHyblIyMjDi1gaB3TJd', choices=[Choice(delta=ChoiceDelta(content=\" didn't\", function_call=None, refusal=None, role=None, tool_calls=None), finish_reason=None, index=0, logprobs=None)], created=1741936568, model='gpt-4o-mini-2024-07-18', object='chat.completion.chunk', service_tier='default', system_fingerprint='fp_3267753c5d', usage=None)\n",
      "ChatCompletionChunk(id='chatcmpl-BAtZ2wqI2EMHyblIyMjDi1gaB3TJd', choices=[Choice(delta=ChoiceDelta(content=' want', function_call=None, refusal=None, role=None, tool_calls=None), finish_reason=None, index=0, logprobs=None)], created=1741936568, model='gpt-4o-mini-2024-07-18', object='chat.completion.chunk', service_tier='default', system_fingerprint='fp_3267753c5d', usage=None)\n",
      "ChatCompletionChunk(id='chatcmpl-BAtZ2wqI2EMHyblIyMjDi1gaB3TJd', choices=[Choice(delta=ChoiceDelta(content=' anyone', function_call=None, refusal=None, role=None, tool_calls=None), finish_reason=None, index=0, logprobs=None)], created=1741936568, model='gpt-4o-mini-2024-07-18', object='chat.completion.chunk', service_tier='default', system_fingerprint='fp_3267753c5d', usage=None)\n",
      "ChatCompletionChunk(id='chatcmpl-BAtZ2wqI2EMHyblIyMjDi1gaB3TJd', choices=[Choice(delta=ChoiceDelta(content=' to', function_call=None, refusal=None, role=None, tool_calls=None), finish_reason=None, index=0, logprobs=None)], created=1741936568, model='gpt-4o-mini-2024-07-18', object='chat.completion.chunk', service_tier='default', system_fingerprint='fp_3267753c5d', usage=None)\n",
      "ChatCompletionChunk(id='chatcmpl-BAtZ2wqI2EMHyblIyMjDi1gaB3TJd', choices=[Choice(delta=ChoiceDelta(content=' know', function_call=None, refusal=None, role=None, tool_calls=None), finish_reason=None, index=0, logprobs=None)], created=1741936568, model='gpt-4o-mini-2024-07-18', object='chat.completion.chunk', service_tier='default', system_fingerprint='fp_3267753c5d', usage=None)\n",
      "ChatCompletionChunk(id='chatcmpl-BAtZ2wqI2EMHyblIyMjDi1gaB3TJd', choices=[Choice(delta=ChoiceDelta(content=' it', function_call=None, refusal=None, role=None, tool_calls=None), finish_reason=None, index=0, logprobs=None)], created=1741936568, model='gpt-4o-mini-2024-07-18', object='chat.completion.chunk', service_tier='default', system_fingerprint='fp_3267753c5d', usage=None)\n",
      "ChatCompletionChunk(id='chatcmpl-BAtZ2wqI2EMHyblIyMjDi1gaB3TJd', choices=[Choice(delta=ChoiceDelta(content=' was', function_call=None, refusal=None, role=None, tool_calls=None), finish_reason=None, index=0, logprobs=None)], created=1741936568, model='gpt-4o-mini-2024-07-18', object='chat.completion.chunk', service_tier='default', system_fingerprint='fp_3267753c5d', usage=None)\n",
      "ChatCompletionChunk(id='chatcmpl-BAtZ2wqI2EMHyblIyMjDi1gaB3TJd', choices=[Choice(delta=ChoiceDelta(content=' a', function_call=None, refusal=None, role=None, tool_calls=None), finish_reason=None, index=0, logprobs=None)], created=1741936568, model='gpt-4o-mini-2024-07-18', object='chat.completion.chunk', service_tier='default', system_fingerprint='fp_3267753c5d', usage=None)\n",
      "ChatCompletionChunk(id='chatcmpl-BAtZ2wqI2EMHyblIyMjDi1gaB3TJd', choices=[Choice(delta=ChoiceDelta(content=' little', function_call=None, refusal=None, role=None, tool_calls=None), finish_reason=None, index=0, logprobs=None)], created=1741936568, model='gpt-4o-mini-2024-07-18', object='chat.completion.chunk', service_tier='default', system_fingerprint='fp_3267753c5d', usage=None)\n",
      "ChatCompletionChunk(id='chatcmpl-BAtZ2wqI2EMHyblIyMjDi1gaB3TJd', choices=[Choice(delta=ChoiceDelta(content=' \"', function_call=None, refusal=None, role=None, tool_calls=None), finish_reason=None, index=0, logprobs=None)], created=1741936568, model='gpt-4o-mini-2024-07-18', object='chat.completion.chunk', service_tier='default', system_fingerprint='fp_3267753c5d', usage=None)\n",
      "ChatCompletionChunk(id='chatcmpl-BAtZ2wqI2EMHyblIyMjDi1gaB3TJd', choices=[Choice(delta=ChoiceDelta(content='router', function_call=None, refusal=None, role=None, tool_calls=None), finish_reason=None, index=0, logprobs=None)], created=1741936568, model='gpt-4o-mini-2024-07-18', object='chat.completion.chunk', service_tier='default', system_fingerprint='fp_3267753c5d', usage=None)\n",
      "ChatCompletionChunk(id='chatcmpl-BAtZ2wqI2EMHyblIyMjDi1gaB3TJd', choices=[Choice(delta=ChoiceDelta(content='-c', function_call=None, refusal=None, role=None, tool_calls=None), finish_reason=None, index=0, logprobs=None)], created=1741936568, model='gpt-4o-mini-2024-07-18', object='chat.completion.chunk', service_tier='default', system_fingerprint='fp_3267753c5d', usage=None)\n",
      "ChatCompletionChunk(id='chatcmpl-BAtZ2wqI2EMHyblIyMjDi1gaB3TJd', choices=[Choice(delta=ChoiceDelta(content='ircuit', function_call=None, refusal=None, role=None, tool_calls=None), finish_reason=None, index=0, logprobs=None)], created=1741936568, model='gpt-4o-mini-2024-07-18', object='chat.completion.chunk', service_tier='default', system_fingerprint='fp_3267753c5d', usage=None)\n",
      "ChatCompletionChunk(id='chatcmpl-BAtZ2wqI2EMHyblIyMjDi1gaB3TJd', choices=[Choice(delta=ChoiceDelta(content='\"!', function_call=None, refusal=None, role=None, tool_calls=None), finish_reason=None, index=0, logprobs=None)], created=1741936568, model='gpt-4o-mini-2024-07-18', object='chat.completion.chunk', service_tier='default', system_fingerprint='fp_3267753c5d', usage=None)\n",
      "ChatCompletionChunk(id='chatcmpl-BAtZ2wqI2EMHyblIyMjDi1gaB3TJd', choices=[Choice(delta=ChoiceDelta(content=None, function_call=None, refusal=None, role=None, tool_calls=None), finish_reason='stop', index=0, logprobs=None)], created=1741936568, model='gpt-4o-mini-2024-07-18', object='chat.completion.chunk', service_tier='default', system_fingerprint='fp_3267753c5d', usage=None)\n"
     ]
    }
   ],
   "source": [
    "for chunk in stream:\n",
    "        print(chunk)"
   ]
  },
  {
   "cell_type": "code",
   "execution_count": 49,
   "id": "f8a618a5",
   "metadata": {},
   "outputs": [
    {
     "name": "stdout",
     "output_type": "stream",
     "text": [
      "Content:  \n",
      "Function call: None\n",
      "Tool Calls: None\n",
      "Finish Reason: None\n",
      "Content:  Why\n",
      "Function call: None\n",
      "Tool Calls: None\n",
      "Finish Reason: None\n",
      "Content:   did\n",
      "Function call: None\n",
      "Tool Calls: None\n",
      "Finish Reason: None\n",
      "Content:   the\n",
      "Function call: None\n",
      "Tool Calls: None\n",
      "Finish Reason: None\n",
      "Content:   computer\n",
      "Function call: None\n",
      "Tool Calls: None\n",
      "Finish Reason: None\n",
      "Content:   go\n",
      "Function call: None\n",
      "Tool Calls: None\n",
      "Finish Reason: None\n",
      "Content:   to\n",
      "Function call: None\n",
      "Tool Calls: None\n",
      "Finish Reason: None\n",
      "Content:   therapy\n",
      "Function call: None\n",
      "Tool Calls: None\n",
      "Finish Reason: None\n",
      "Content:  ?\n",
      "\n",
      "\n",
      "Function call: None\n",
      "Tool Calls: None\n",
      "Finish Reason: None\n",
      "Content:  Because\n",
      "Function call: None\n",
      "Tool Calls: None\n",
      "Finish Reason: None\n",
      "Content:   it\n",
      "Function call: None\n",
      "Tool Calls: None\n",
      "Finish Reason: None\n",
      "Content:   had\n",
      "Function call: None\n",
      "Tool Calls: None\n",
      "Finish Reason: None\n",
      "Content:   too\n",
      "Function call: None\n",
      "Tool Calls: None\n",
      "Finish Reason: None\n",
      "Content:   many\n",
      "Function call: None\n",
      "Tool Calls: None\n",
      "Finish Reason: None\n",
      "Content:   unresolved\n",
      "Function call: None\n",
      "Tool Calls: None\n",
      "Finish Reason: None\n",
      "Content:   issues\n",
      "Function call: None\n",
      "Tool Calls: None\n",
      "Finish Reason: None\n",
      "Content:   from\n",
      "Function call: None\n",
      "Tool Calls: None\n",
      "Finish Reason: None\n",
      "Content:   its\n",
      "Function call: None\n",
      "Tool Calls: None\n",
      "Finish Reason: None\n",
      "Content:   past\n",
      "Function call: None\n",
      "Tool Calls: None\n",
      "Finish Reason: None\n",
      "Content:   browsing\n",
      "Function call: None\n",
      "Tool Calls: None\n",
      "Finish Reason: None\n",
      "Content:   history\n",
      "Function call: None\n",
      "Tool Calls: None\n",
      "Finish Reason: None\n",
      "Content:  !\n",
      "Function call: None\n",
      "Tool Calls: None\n",
      "Finish Reason: None\n",
      "Content:  None\n",
      "Function call: None\n",
      "Tool Calls: None\n",
      "Finish Reason: stop\n",
      "Response\n",
      "Why did the computer go to therapy?\n",
      "\n",
      "Because it had too many unresolved issues from its past browsing history!\n"
     ]
    }
   ],
   "source": [
    "prompts = [\n",
    "    { \"role\": \"user\", \"content\": \"Tell me a joke about the internet\"}\n",
    "]\n",
    "\n",
    "stream = openai.chat.completions.create(\n",
    "    model=MODEL,\n",
    "    messages= prompts,\n",
    "    stream=True\n",
    ")\n",
    "\n",
    "response = \"\"\n",
    "for chunk in stream:\n",
    "        print(\"Content: \",chunk.choices[0].delta.content)\n",
    "        print(\"Function call:\", chunk.choices[0].delta.function_call)\n",
    "        print(\"Tool Calls:\", chunk.choices[0].delta.tool_calls)\n",
    "        print(\"Finish Reason:\", chunk.choices[0].finish_reason)\n",
    "        response += chunk.choices[0].delta.content or ''\n",
    "print(\"Response\")\n",
    "print(response)"
   ]
  },
  {
   "cell_type": "markdown",
   "id": "9ef4dd6f",
   "metadata": {},
   "source": [
    "# Responses API"
   ]
  },
  {
   "cell_type": "code",
   "execution_count": 26,
   "id": "2fc8cd05",
   "metadata": {},
   "outputs": [],
   "source": [
    "stream = openai.responses.create(\n",
    "    model=MODEL,\n",
    "    input=\"Tell me a joke about the internet\",\n",
    "    stream=True\n",
    ")"
   ]
  },
  {
   "cell_type": "code",
   "execution_count": 27,
   "id": "8428aae1",
   "metadata": {},
   "outputs": [
    {
     "name": "stdout",
     "output_type": "stream",
     "text": [
      "<openai.Stream object at 0x000001AB3BE541D0>\n"
     ]
    }
   ],
   "source": [
    "print(stream)"
   ]
  },
  {
   "cell_type": "code",
   "execution_count": 30,
   "id": "07210b68",
   "metadata": {},
   "outputs": [
    {
     "name": "stdout",
     "output_type": "stream",
     "text": [
      "ResponseCreatedEvent(response=Response(id='resp_67d3d4579e7881928adecbc7d9a756e003b637839be3b772', created_at=1741935703.0, error=None, incomplete_details=None, instructions=None, metadata={}, model='gpt-4o-mini-2024-07-18', object='response', output=[], parallel_tool_calls=True, temperature=1.0, tool_choice='auto', tools=[], top_p=1.0, max_output_tokens=None, previous_response_id=None, reasoning=Reasoning(effort=None, generate_summary=None), status='in_progress', text=ResponseTextConfig(format=ResponseFormatText(type='text')), truncation='disabled', usage=None, user=None, store=True), type='response.created')\n",
      "ResponseInProgressEvent(response=Response(id='resp_67d3d4579e7881928adecbc7d9a756e003b637839be3b772', created_at=1741935703.0, error=None, incomplete_details=None, instructions=None, metadata={}, model='gpt-4o-mini-2024-07-18', object='response', output=[], parallel_tool_calls=True, temperature=1.0, tool_choice='auto', tools=[], top_p=1.0, max_output_tokens=None, previous_response_id=None, reasoning=Reasoning(effort=None, generate_summary=None), status='in_progress', text=ResponseTextConfig(format=ResponseFormatText(type='text')), truncation='disabled', usage=None, user=None, store=True), type='response.in_progress')\n",
      "ResponseOutputItemAddedEvent(item=ResponseOutputMessage(id='msg_67d3d457eb8481928853797701d7551103b637839be3b772', content=[], role='assistant', status='in_progress', type='message'), output_index=0, type='response.output_item.added')\n",
      "ResponseContentPartAddedEvent(content_index=0, item_id='msg_67d3d457eb8481928853797701d7551103b637839be3b772', output_index=0, part=ResponseOutputText(annotations=[], text='', type='output_text'), type='response.content_part.added')\n",
      "ResponseTextDeltaEvent(content_index=0, delta='Why', item_id='msg_67d3d457eb8481928853797701d7551103b637839be3b772', output_index=0, type='response.output_text.delta')\n",
      "ResponseTextDeltaEvent(content_index=0, delta=' did', item_id='msg_67d3d457eb8481928853797701d7551103b637839be3b772', output_index=0, type='response.output_text.delta')\n",
      "ResponseTextDeltaEvent(content_index=0, delta=' the', item_id='msg_67d3d457eb8481928853797701d7551103b637839be3b772', output_index=0, type='response.output_text.delta')\n",
      "ResponseTextDeltaEvent(content_index=0, delta=' computer', item_id='msg_67d3d457eb8481928853797701d7551103b637839be3b772', output_index=0, type='response.output_text.delta')\n",
      "ResponseTextDeltaEvent(content_index=0, delta=' go', item_id='msg_67d3d457eb8481928853797701d7551103b637839be3b772', output_index=0, type='response.output_text.delta')\n",
      "ResponseTextDeltaEvent(content_index=0, delta=' to', item_id='msg_67d3d457eb8481928853797701d7551103b637839be3b772', output_index=0, type='response.output_text.delta')\n",
      "ResponseTextDeltaEvent(content_index=0, delta=' therapy', item_id='msg_67d3d457eb8481928853797701d7551103b637839be3b772', output_index=0, type='response.output_text.delta')\n",
      "ResponseTextDeltaEvent(content_index=0, delta='?\\n\\n', item_id='msg_67d3d457eb8481928853797701d7551103b637839be3b772', output_index=0, type='response.output_text.delta')\n",
      "ResponseTextDeltaEvent(content_index=0, delta='Because', item_id='msg_67d3d457eb8481928853797701d7551103b637839be3b772', output_index=0, type='response.output_text.delta')\n",
      "ResponseTextDeltaEvent(content_index=0, delta=' it', item_id='msg_67d3d457eb8481928853797701d7551103b637839be3b772', output_index=0, type='response.output_text.delta')\n",
      "ResponseTextDeltaEvent(content_index=0, delta=' had', item_id='msg_67d3d457eb8481928853797701d7551103b637839be3b772', output_index=0, type='response.output_text.delta')\n",
      "ResponseTextDeltaEvent(content_index=0, delta=' too', item_id='msg_67d3d457eb8481928853797701d7551103b637839be3b772', output_index=0, type='response.output_text.delta')\n",
      "ResponseTextDeltaEvent(content_index=0, delta=' many', item_id='msg_67d3d457eb8481928853797701d7551103b637839be3b772', output_index=0, type='response.output_text.delta')\n",
      "ResponseTextDeltaEvent(content_index=0, delta=' tabs', item_id='msg_67d3d457eb8481928853797701d7551103b637839be3b772', output_index=0, type='response.output_text.delta')\n",
      "ResponseTextDeltaEvent(content_index=0, delta=' open', item_id='msg_67d3d457eb8481928853797701d7551103b637839be3b772', output_index=0, type='response.output_text.delta')\n",
      "ResponseTextDeltaEvent(content_index=0, delta='!', item_id='msg_67d3d457eb8481928853797701d7551103b637839be3b772', output_index=0, type='response.output_text.delta')\n",
      "ResponseTextDoneEvent(content_index=0, item_id='msg_67d3d457eb8481928853797701d7551103b637839be3b772', output_index=0, text='Why did the computer go to therapy?\\n\\nBecause it had too many tabs open!', type='response.output_text.done')\n",
      "ResponseContentPartDoneEvent(content_index=0, item_id='msg_67d3d457eb8481928853797701d7551103b637839be3b772', output_index=0, part=ResponseOutputText(annotations=[], text='Why did the computer go to therapy?\\n\\nBecause it had too many tabs open!', type='output_text'), type='response.content_part.done')\n",
      "ResponseOutputItemDoneEvent(item=ResponseOutputMessage(id='msg_67d3d457eb8481928853797701d7551103b637839be3b772', content=[ResponseOutputText(annotations=[], text='Why did the computer go to therapy?\\n\\nBecause it had too many tabs open!', type='output_text')], role='assistant', status='completed', type='message'), output_index=0, type='response.output_item.done')\n",
      "ResponseCompletedEvent(response=Response(id='resp_67d3d4579e7881928adecbc7d9a756e003b637839be3b772', created_at=1741935703.0, error=None, incomplete_details=None, instructions=None, metadata={}, model='gpt-4o-mini-2024-07-18', object='response', output=[ResponseOutputMessage(id='msg_67d3d457eb8481928853797701d7551103b637839be3b772', content=[ResponseOutputText(annotations=[], text='Why did the computer go to therapy?\\n\\nBecause it had too many tabs open!', type='output_text')], role='assistant', status='completed', type='message')], parallel_tool_calls=True, temperature=1.0, tool_choice='auto', tools=[], top_p=1.0, max_output_tokens=None, previous_response_id=None, reasoning=Reasoning(effort=None, generate_summary=None), status='completed', text=ResponseTextConfig(format=ResponseFormatText(type='text')), truncation='disabled', usage=ResponseUsage(input_tokens=32, output_tokens=17, output_tokens_details=OutputTokensDetails(reasoning_tokens=0), total_tokens=49, input_tokens_details={'cached_tokens': 0}), user=None, store=True), type='response.completed')\n"
     ]
    }
   ],
   "source": [
    "response = \"\"\n",
    "for event in stream:\n",
    "        print(event)"
   ]
  },
  {
   "cell_type": "code",
   "execution_count": 55,
   "id": "25a10c7c",
   "metadata": {},
   "outputs": [
    {
     "name": "stdout",
     "output_type": "stream",
     "text": [
      "response.created\n",
      "response.in_progress\n",
      "response.output_item.added\n",
      "response.content_part.added\n",
      "response.output_text.delta\n",
      "response.output_text.delta\n",
      "response.output_text.delta\n",
      "response.output_text.delta\n",
      "response.output_text.delta\n",
      "response.output_text.delta\n",
      "response.output_text.delta\n",
      "response.output_text.delta\n",
      "response.output_text.delta\n",
      "response.output_text.delta\n",
      "response.output_text.delta\n",
      "response.output_text.delta\n",
      "response.output_text.delta\n",
      "response.output_text.delta\n",
      "response.output_text.delta\n",
      "response.output_text.delta\n",
      "response.output_text.delta\n",
      "response.output_text.delta\n",
      "response.output_text.done\n",
      "response.content_part.done\n",
      "response.output_item.done\n",
      "response.completed\n"
     ]
    }
   ],
   "source": [
    "stream = openai.responses.create(\n",
    "    model=MODEL,\n",
    "    input=\"Tell me a joke about the internet\",\n",
    "    stream=True\n",
    ")\n",
    "\n",
    "response = \"\"\n",
    "for event in stream:\n",
    "        print(event.type)\n"
   ]
  },
  {
   "cell_type": "code",
   "execution_count": 6,
   "id": "68642a43",
   "metadata": {},
   "outputs": [
    {
     "name": "stdout",
     "output_type": "stream",
     "text": [
      "Delta Content:  Why\n",
      "Delta Content:   did\n",
      "Delta Content:   the\n",
      "Delta Content:   computer\n",
      "Delta Content:   go\n",
      "Delta Content:   to\n",
      "Delta Content:   therapy\n",
      "Delta Content:  ?\n",
      "\n",
      "\n",
      "Delta Content:  Because\n",
      "Delta Content:   it\n",
      "Delta Content:   had\n",
      "Delta Content:   too\n",
      "Delta Content:   many\n",
      "Delta Content:   \"\n",
      "Delta Content:  bytes\n",
      "Delta Content:  \"\n",
      "Delta Content:   of\n",
      "Delta Content:   anxiety\n",
      "Delta Content:  !\n",
      "Response\n",
      "Why did the computer go to therapy?\n",
      "\n",
      "Because it had too many \"bytes\" of anxiety!\n"
     ]
    }
   ],
   "source": [
    "stream = openai.responses.create(\n",
    "    model=MODEL,\n",
    "    input=\"Tell me a joke about the internet\",\n",
    "    stream=True\n",
    ")\n",
    "\n",
    "response = \"\"\n",
    "for event in stream:\n",
    "        if event.type == \"response.output_text.delta\":\n",
    "            response += event.delta\n",
    "            print(\"Delta Content: \", event.delta)\n",
    "print(\"Response\")\n",
    "print(response)\n"
   ]
  },
  {
   "cell_type": "code",
   "execution_count": null,
   "id": "4401cdf7",
   "metadata": {},
   "outputs": [
    {
     "name": "stdout",
     "output_type": "stream",
     "text": [
      "Delta Content:  Why\n",
      "Delta Content:   did\n",
      "Delta Content:   the\n",
      "Delta Content:   computer\n",
      "Delta Content:   break\n",
      "Delta Content:   up\n",
      "Delta Content:   with\n",
      "Delta Content:   the\n",
      "Delta Content:   internet\n",
      "Delta Content:  ?\n",
      "Delta Content:    \n",
      "\n",
      "\n",
      "Delta Content:  Because\n",
      "Delta Content:   it\n",
      "Delta Content:   found\n",
      "Delta Content:   someone\n",
      "Delta Content:   with\n",
      "Delta Content:   better\n",
      "Delta Content:   bandwidth\n",
      "Delta Content:  !\n",
      "Response\n",
      "Why did the computer break up with the internet?  \n",
      "\n",
      "Because it found someone with better bandwidth!\n"
     ]
    }
   ],
   "source": [
    "stream = openai.responses.create(\n",
    "    model=MODEL,\n",
    "    input=\"Tell me a joke about the internet\",\n",
    "    stream=True\n",
    ")\n",
    "\n",
    "response = \"\"\n",
    "for event in stream:\n",
    "        # Only difference in if condition\n",
    "        if \"output_text.delta\" in event.type:\n",
    "            response += event.delta\n",
    "            print(\"Delta Content: \", event.delta)\n",
    "print(\"Response\")\n",
    "print(response)"
   ]
  },
  {
   "cell_type": "code",
   "execution_count": 8,
   "id": "8ffad04e",
   "metadata": {},
   "outputs": [
    {
     "name": "stdout",
     "output_type": "stream",
     "text": [
      "in_progress\n",
      "in_progress\n",
      "completed\n",
      "Response\n",
      "Why did the computer go to therapy?\n",
      "\n",
      "Because it had too many unresolved cookies!\n"
     ]
    }
   ],
   "source": [
    "stream = openai.responses.create(\n",
    "    model=MODEL,\n",
    "    input=\"Tell me a joke about the internet\",\n",
    "    stream=True\n",
    ")\n",
    "\n",
    "response = \"\"\n",
    "for event in stream:\n",
    "        if hasattr(event, \"response\"):\n",
    "              print(event.response.status)\n",
    "        if event.type == \"response.completed\":\n",
    "            response = event.response.output_text\n",
    "print(\"Response\")\n",
    "print(response)\n"
   ]
  }
 ],
 "metadata": {
  "kernelspec": {
   "display_name": ".venv",
   "language": "python",
   "name": "python3"
  },
  "language_info": {
   "codemirror_mode": {
    "name": "ipython",
    "version": 3
   },
   "file_extension": ".py",
   "mimetype": "text/x-python",
   "name": "python",
   "nbconvert_exporter": "python",
   "pygments_lexer": "ipython3",
   "version": "3.12.4"
  }
 },
 "nbformat": 4,
 "nbformat_minor": 5
}
