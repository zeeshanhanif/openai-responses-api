{
 "cells": [
  {
   "cell_type": "code",
   "execution_count": 2,
   "id": "cd3aa0d0-ff83-4f55-81a8-11aed0ebf4b6",
   "metadata": {},
   "outputs": [],
   "source": [
    "import os\n",
    "from openai import OpenAI\n",
    "from dotenv import load_dotenv"
   ]
  },
  {
   "cell_type": "code",
   "execution_count": 3,
   "id": "794d7c22",
   "metadata": {},
   "outputs": [],
   "source": [
    "load_dotenv()\n",
    "\n",
    "api_key = os.getenv('OPENAI_API_KEY')\n",
    "MODEL = \"gpt-4o-mini\"\n",
    "\n",
    "openai = OpenAI()"
   ]
  },
  {
   "cell_type": "markdown",
   "id": "f50d3494",
   "metadata": {},
   "source": [
    "# Chat Completion API"
   ]
  },
  {
   "cell_type": "markdown",
   "id": "dc88010a",
   "metadata": {},
   "source": [
    "https://platform.openai.com/docs/guides/streaming-responses?api-mode=chat"
   ]
  },
  {
   "cell_type": "code",
   "execution_count": 4,
   "id": "4f8cd6c1",
   "metadata": {},
   "outputs": [],
   "source": [
    "prompts = [\n",
    "    { \"role\": \"user\", \"content\": \"Tell me a joke about the internet\"}\n",
    "]\n",
    "\n",
    "stream = openai.chat.completions.create(\n",
    "    model=MODEL,\n",
    "    messages= prompts,\n",
    "    stream=True\n",
    ")"
   ]
  },
  {
   "cell_type": "code",
   "execution_count": 5,
   "id": "3238449e",
   "metadata": {},
   "outputs": [
    {
     "name": "stdout",
     "output_type": "stream",
     "text": [
      "<openai.Stream object at 0x0000022E3E668320>\n"
     ]
    }
   ],
   "source": [
    "print(stream)"
   ]
  },
  {
   "cell_type": "code",
   "execution_count": 6,
   "id": "a13c201b",
   "metadata": {},
   "outputs": [
    {
     "name": "stdout",
     "output_type": "stream",
     "text": [
      "ChatCompletionChunk(id='chatcmpl-BESWGlKglZjjvJX9BxoaaLqLAU56X', choices=[Choice(delta=ChoiceDelta(content='', function_call=None, refusal=None, role='assistant', tool_calls=None), finish_reason=None, index=0, logprobs=None)], created=1742785920, model='gpt-4o-mini-2024-07-18', object='chat.completion.chunk', service_tier='default', system_fingerprint='fp_b8bc95a0ac', usage=None)\n",
      "ChatCompletionChunk(id='chatcmpl-BESWGlKglZjjvJX9BxoaaLqLAU56X', choices=[Choice(delta=ChoiceDelta(content='Why', function_call=None, refusal=None, role=None, tool_calls=None), finish_reason=None, index=0, logprobs=None)], created=1742785920, model='gpt-4o-mini-2024-07-18', object='chat.completion.chunk', service_tier='default', system_fingerprint='fp_b8bc95a0ac', usage=None)\n",
      "ChatCompletionChunk(id='chatcmpl-BESWGlKglZjjvJX9BxoaaLqLAU56X', choices=[Choice(delta=ChoiceDelta(content=' did', function_call=None, refusal=None, role=None, tool_calls=None), finish_reason=None, index=0, logprobs=None)], created=1742785920, model='gpt-4o-mini-2024-07-18', object='chat.completion.chunk', service_tier='default', system_fingerprint='fp_b8bc95a0ac', usage=None)\n",
      "ChatCompletionChunk(id='chatcmpl-BESWGlKglZjjvJX9BxoaaLqLAU56X', choices=[Choice(delta=ChoiceDelta(content=' the', function_call=None, refusal=None, role=None, tool_calls=None), finish_reason=None, index=0, logprobs=None)], created=1742785920, model='gpt-4o-mini-2024-07-18', object='chat.completion.chunk', service_tier='default', system_fingerprint='fp_b8bc95a0ac', usage=None)\n",
      "ChatCompletionChunk(id='chatcmpl-BESWGlKglZjjvJX9BxoaaLqLAU56X', choices=[Choice(delta=ChoiceDelta(content=' computer', function_call=None, refusal=None, role=None, tool_calls=None), finish_reason=None, index=0, logprobs=None)], created=1742785920, model='gpt-4o-mini-2024-07-18', object='chat.completion.chunk', service_tier='default', system_fingerprint='fp_b8bc95a0ac', usage=None)\n",
      "ChatCompletionChunk(id='chatcmpl-BESWGlKglZjjvJX9BxoaaLqLAU56X', choices=[Choice(delta=ChoiceDelta(content=' go', function_call=None, refusal=None, role=None, tool_calls=None), finish_reason=None, index=0, logprobs=None)], created=1742785920, model='gpt-4o-mini-2024-07-18', object='chat.completion.chunk', service_tier='default', system_fingerprint='fp_b8bc95a0ac', usage=None)\n",
      "ChatCompletionChunk(id='chatcmpl-BESWGlKglZjjvJX9BxoaaLqLAU56X', choices=[Choice(delta=ChoiceDelta(content=' to', function_call=None, refusal=None, role=None, tool_calls=None), finish_reason=None, index=0, logprobs=None)], created=1742785920, model='gpt-4o-mini-2024-07-18', object='chat.completion.chunk', service_tier='default', system_fingerprint='fp_b8bc95a0ac', usage=None)\n",
      "ChatCompletionChunk(id='chatcmpl-BESWGlKglZjjvJX9BxoaaLqLAU56X', choices=[Choice(delta=ChoiceDelta(content=' therapy', function_call=None, refusal=None, role=None, tool_calls=None), finish_reason=None, index=0, logprobs=None)], created=1742785920, model='gpt-4o-mini-2024-07-18', object='chat.completion.chunk', service_tier='default', system_fingerprint='fp_b8bc95a0ac', usage=None)\n",
      "ChatCompletionChunk(id='chatcmpl-BESWGlKglZjjvJX9BxoaaLqLAU56X', choices=[Choice(delta=ChoiceDelta(content='?\\n\\n', function_call=None, refusal=None, role=None, tool_calls=None), finish_reason=None, index=0, logprobs=None)], created=1742785920, model='gpt-4o-mini-2024-07-18', object='chat.completion.chunk', service_tier='default', system_fingerprint='fp_b8bc95a0ac', usage=None)\n",
      "ChatCompletionChunk(id='chatcmpl-BESWGlKglZjjvJX9BxoaaLqLAU56X', choices=[Choice(delta=ChoiceDelta(content='Because', function_call=None, refusal=None, role=None, tool_calls=None), finish_reason=None, index=0, logprobs=None)], created=1742785920, model='gpt-4o-mini-2024-07-18', object='chat.completion.chunk', service_tier='default', system_fingerprint='fp_b8bc95a0ac', usage=None)\n",
      "ChatCompletionChunk(id='chatcmpl-BESWGlKglZjjvJX9BxoaaLqLAU56X', choices=[Choice(delta=ChoiceDelta(content=' it', function_call=None, refusal=None, role=None, tool_calls=None), finish_reason=None, index=0, logprobs=None)], created=1742785920, model='gpt-4o-mini-2024-07-18', object='chat.completion.chunk', service_tier='default', system_fingerprint='fp_b8bc95a0ac', usage=None)\n",
      "ChatCompletionChunk(id='chatcmpl-BESWGlKglZjjvJX9BxoaaLqLAU56X', choices=[Choice(delta=ChoiceDelta(content=' had', function_call=None, refusal=None, role=None, tool_calls=None), finish_reason=None, index=0, logprobs=None)], created=1742785920, model='gpt-4o-mini-2024-07-18', object='chat.completion.chunk', service_tier='default', system_fingerprint='fp_b8bc95a0ac', usage=None)\n",
      "ChatCompletionChunk(id='chatcmpl-BESWGlKglZjjvJX9BxoaaLqLAU56X', choices=[Choice(delta=ChoiceDelta(content=' too', function_call=None, refusal=None, role=None, tool_calls=None), finish_reason=None, index=0, logprobs=None)], created=1742785920, model='gpt-4o-mini-2024-07-18', object='chat.completion.chunk', service_tier='default', system_fingerprint='fp_b8bc95a0ac', usage=None)\n",
      "ChatCompletionChunk(id='chatcmpl-BESWGlKglZjjvJX9BxoaaLqLAU56X', choices=[Choice(delta=ChoiceDelta(content=' many', function_call=None, refusal=None, role=None, tool_calls=None), finish_reason=None, index=0, logprobs=None)], created=1742785920, model='gpt-4o-mini-2024-07-18', object='chat.completion.chunk', service_tier='default', system_fingerprint='fp_b8bc95a0ac', usage=None)\n",
      "ChatCompletionChunk(id='chatcmpl-BESWGlKglZjjvJX9BxoaaLqLAU56X', choices=[Choice(delta=ChoiceDelta(content=' tabs', function_call=None, refusal=None, role=None, tool_calls=None), finish_reason=None, index=0, logprobs=None)], created=1742785920, model='gpt-4o-mini-2024-07-18', object='chat.completion.chunk', service_tier='default', system_fingerprint='fp_b8bc95a0ac', usage=None)\n",
      "ChatCompletionChunk(id='chatcmpl-BESWGlKglZjjvJX9BxoaaLqLAU56X', choices=[Choice(delta=ChoiceDelta(content=' open', function_call=None, refusal=None, role=None, tool_calls=None), finish_reason=None, index=0, logprobs=None)], created=1742785920, model='gpt-4o-mini-2024-07-18', object='chat.completion.chunk', service_tier='default', system_fingerprint='fp_b8bc95a0ac', usage=None)\n",
      "ChatCompletionChunk(id='chatcmpl-BESWGlKglZjjvJX9BxoaaLqLAU56X', choices=[Choice(delta=ChoiceDelta(content='!', function_call=None, refusal=None, role=None, tool_calls=None), finish_reason=None, index=0, logprobs=None)], created=1742785920, model='gpt-4o-mini-2024-07-18', object='chat.completion.chunk', service_tier='default', system_fingerprint='fp_b8bc95a0ac', usage=None)\n",
      "ChatCompletionChunk(id='chatcmpl-BESWGlKglZjjvJX9BxoaaLqLAU56X', choices=[Choice(delta=ChoiceDelta(content=None, function_call=None, refusal=None, role=None, tool_calls=None), finish_reason='stop', index=0, logprobs=None)], created=1742785920, model='gpt-4o-mini-2024-07-18', object='chat.completion.chunk', service_tier='default', system_fingerprint='fp_b8bc95a0ac', usage=None)\n"
     ]
    }
   ],
   "source": [
    "for chunk in stream:\n",
    "        print(chunk)"
   ]
  },
  {
   "cell_type": "code",
   "execution_count": 8,
   "id": "f8a618a5",
   "metadata": {},
   "outputs": [
    {
     "name": "stdout",
     "output_type": "stream",
     "text": [
      "Content: ''\n",
      "Finish Reason: None\n",
      "Content: 'Why'\n",
      "Finish Reason: None\n",
      "Content: ' did'\n",
      "Finish Reason: None\n",
      "Content: ' the'\n",
      "Finish Reason: None\n",
      "Content: ' computer'\n",
      "Finish Reason: None\n",
      "Content: ' go'\n",
      "Finish Reason: None\n",
      "Content: ' to'\n",
      "Finish Reason: None\n",
      "Content: ' therapy'\n",
      "Finish Reason: None\n",
      "Content: '?\n",
      "\n",
      "'\n",
      "Finish Reason: None\n",
      "Content: 'It'\n",
      "Finish Reason: None\n",
      "Content: ' had'\n",
      "Finish Reason: None\n",
      "Content: ' too'\n",
      "Finish Reason: None\n",
      "Content: ' many'\n",
      "Finish Reason: None\n",
      "Content: ' tabs'\n",
      "Finish Reason: None\n",
      "Content: ' open'\n",
      "Finish Reason: None\n",
      "Content: '!'\n",
      "Finish Reason: None\n",
      "Content: 'None'\n",
      "Finish Reason: stop\n",
      "\n",
      "Response\n",
      "Why did the computer go to therapy?\n",
      "\n",
      "It had too many tabs open!\n"
     ]
    }
   ],
   "source": [
    "prompts = [\n",
    "    { \"role\": \"user\", \"content\": \"Tell me a joke about the internet\"}\n",
    "]\n",
    "\n",
    "stream = openai.chat.completions.create(\n",
    "    model=MODEL,\n",
    "    messages= prompts,\n",
    "    stream=True\n",
    ")\n",
    "\n",
    "response = \"\"\n",
    "for chunk in stream:\n",
    "        print(f\"Content: '{chunk.choices[0].delta.content}'\")\n",
    "        print(\"Finish Reason:\", chunk.choices[0].finish_reason) # Noties the finish reason in last chunk\n",
    "        response += chunk.choices[0].delta.content or ''\n",
    "\n",
    "print()\n",
    "print(\"Response\")\n",
    "print(response)"
   ]
  },
  {
   "cell_type": "markdown",
   "id": "9ef4dd6f",
   "metadata": {},
   "source": [
    "# Responses API"
   ]
  },
  {
   "cell_type": "markdown",
   "id": "eb79c3a0",
   "metadata": {},
   "source": [
    "https://platform.openai.com/docs/guides/streaming-responses?api-mode=responses"
   ]
  },
  {
   "cell_type": "code",
   "execution_count": 9,
   "id": "2fc8cd05",
   "metadata": {},
   "outputs": [],
   "source": [
    "stream = openai.responses.create(\n",
    "    model=MODEL,\n",
    "    input=\"Tell me a joke about the internet\",\n",
    "    stream=True\n",
    ")"
   ]
  },
  {
   "cell_type": "code",
   "execution_count": 10,
   "id": "8428aae1",
   "metadata": {},
   "outputs": [
    {
     "name": "stdout",
     "output_type": "stream",
     "text": [
      "<openai.Stream object at 0x0000022E3E7636B0>\n"
     ]
    }
   ],
   "source": [
    "print(stream)"
   ]
  },
  {
   "cell_type": "markdown",
   "id": "92d166dc",
   "metadata": {},
   "source": [
    "In Responses API's stream we receive events not just delta content like in Chat API. So we need to pick specific event for our need\n",
    "\n",
    "https://platform.openai.com/docs/api-reference/responses-streaming"
   ]
  },
  {
   "cell_type": "code",
   "execution_count": 11,
   "id": "07210b68",
   "metadata": {},
   "outputs": [
    {
     "name": "stdout",
     "output_type": "stream",
     "text": [
      "ResponseCreatedEvent(response=Response(id='resp_67e0cda1a25c8192a1d9334661870001058e7dd754c8c226', created_at=1742785953.0, error=None, incomplete_details=None, instructions=None, metadata={}, model='gpt-4o-mini-2024-07-18', object='response', output=[], parallel_tool_calls=True, temperature=1.0, tool_choice='auto', tools=[], top_p=1.0, max_output_tokens=None, previous_response_id=None, reasoning=Reasoning(effort=None, generate_summary=None), status='in_progress', text=ResponseTextConfig(format=ResponseFormatText(type='text')), truncation='disabled', usage=None, user=None, store=True), type='response.created')\n",
      "ResponseInProgressEvent(response=Response(id='resp_67e0cda1a25c8192a1d9334661870001058e7dd754c8c226', created_at=1742785953.0, error=None, incomplete_details=None, instructions=None, metadata={}, model='gpt-4o-mini-2024-07-18', object='response', output=[], parallel_tool_calls=True, temperature=1.0, tool_choice='auto', tools=[], top_p=1.0, max_output_tokens=None, previous_response_id=None, reasoning=Reasoning(effort=None, generate_summary=None), status='in_progress', text=ResponseTextConfig(format=ResponseFormatText(type='text')), truncation='disabled', usage=None, user=None, store=True), type='response.in_progress')\n",
      "ResponseOutputItemAddedEvent(item=ResponseOutputMessage(id='msg_67e0cda2278081928ab0f7dc8071c5c9058e7dd754c8c226', content=[], role='assistant', status='in_progress', type='message'), output_index=0, type='response.output_item.added')\n",
      "ResponseContentPartAddedEvent(content_index=0, item_id='msg_67e0cda2278081928ab0f7dc8071c5c9058e7dd754c8c226', output_index=0, part=ResponseOutputText(annotations=[], text='', type='output_text'), type='response.content_part.added')\n",
      "ResponseTextDeltaEvent(content_index=0, delta='Why', item_id='msg_67e0cda2278081928ab0f7dc8071c5c9058e7dd754c8c226', output_index=0, type='response.output_text.delta')\n",
      "ResponseTextDeltaEvent(content_index=0, delta=' did', item_id='msg_67e0cda2278081928ab0f7dc8071c5c9058e7dd754c8c226', output_index=0, type='response.output_text.delta')\n",
      "ResponseTextDeltaEvent(content_index=0, delta=' the', item_id='msg_67e0cda2278081928ab0f7dc8071c5c9058e7dd754c8c226', output_index=0, type='response.output_text.delta')\n",
      "ResponseTextDeltaEvent(content_index=0, delta=' computer', item_id='msg_67e0cda2278081928ab0f7dc8071c5c9058e7dd754c8c226', output_index=0, type='response.output_text.delta')\n",
      "ResponseTextDeltaEvent(content_index=0, delta=' break', item_id='msg_67e0cda2278081928ab0f7dc8071c5c9058e7dd754c8c226', output_index=0, type='response.output_text.delta')\n",
      "ResponseTextDeltaEvent(content_index=0, delta=' up', item_id='msg_67e0cda2278081928ab0f7dc8071c5c9058e7dd754c8c226', output_index=0, type='response.output_text.delta')\n",
      "ResponseTextDeltaEvent(content_index=0, delta=' with', item_id='msg_67e0cda2278081928ab0f7dc8071c5c9058e7dd754c8c226', output_index=0, type='response.output_text.delta')\n",
      "ResponseTextDeltaEvent(content_index=0, delta=' the', item_id='msg_67e0cda2278081928ab0f7dc8071c5c9058e7dd754c8c226', output_index=0, type='response.output_text.delta')\n",
      "ResponseTextDeltaEvent(content_index=0, delta=' internet', item_id='msg_67e0cda2278081928ab0f7dc8071c5c9058e7dd754c8c226', output_index=0, type='response.output_text.delta')\n",
      "ResponseTextDeltaEvent(content_index=0, delta='?\\n\\n', item_id='msg_67e0cda2278081928ab0f7dc8071c5c9058e7dd754c8c226', output_index=0, type='response.output_text.delta')\n",
      "ResponseTextDeltaEvent(content_index=0, delta='Because', item_id='msg_67e0cda2278081928ab0f7dc8071c5c9058e7dd754c8c226', output_index=0, type='response.output_text.delta')\n",
      "ResponseTextDeltaEvent(content_index=0, delta=' it', item_id='msg_67e0cda2278081928ab0f7dc8071c5c9058e7dd754c8c226', output_index=0, type='response.output_text.delta')\n",
      "ResponseTextDeltaEvent(content_index=0, delta=' found', item_id='msg_67e0cda2278081928ab0f7dc8071c5c9058e7dd754c8c226', output_index=0, type='response.output_text.delta')\n",
      "ResponseTextDeltaEvent(content_index=0, delta=' out', item_id='msg_67e0cda2278081928ab0f7dc8071c5c9058e7dd754c8c226', output_index=0, type='response.output_text.delta')\n",
      "ResponseTextDeltaEvent(content_index=0, delta=' there', item_id='msg_67e0cda2278081928ab0f7dc8071c5c9058e7dd754c8c226', output_index=0, type='response.output_text.delta')\n",
      "ResponseTextDeltaEvent(content_index=0, delta=' were', item_id='msg_67e0cda2278081928ab0f7dc8071c5c9058e7dd754c8c226', output_index=0, type='response.output_text.delta')\n",
      "ResponseTextDeltaEvent(content_index=0, delta=' too', item_id='msg_67e0cda2278081928ab0f7dc8071c5c9058e7dd754c8c226', output_index=0, type='response.output_text.delta')\n",
      "ResponseTextDeltaEvent(content_index=0, delta=' many', item_id='msg_67e0cda2278081928ab0f7dc8071c5c9058e7dd754c8c226', output_index=0, type='response.output_text.delta')\n",
      "ResponseTextDeltaEvent(content_index=0, delta=' connections', item_id='msg_67e0cda2278081928ab0f7dc8071c5c9058e7dd754c8c226', output_index=0, type='response.output_text.delta')\n",
      "ResponseTextDeltaEvent(content_index=0, delta='!', item_id='msg_67e0cda2278081928ab0f7dc8071c5c9058e7dd754c8c226', output_index=0, type='response.output_text.delta')\n",
      "ResponseTextDoneEvent(content_index=0, item_id='msg_67e0cda2278081928ab0f7dc8071c5c9058e7dd754c8c226', output_index=0, text='Why did the computer break up with the internet?\\n\\nBecause it found out there were too many connections!', type='response.output_text.done')\n",
      "ResponseContentPartDoneEvent(content_index=0, item_id='msg_67e0cda2278081928ab0f7dc8071c5c9058e7dd754c8c226', output_index=0, part=ResponseOutputText(annotations=[], text='Why did the computer break up with the internet?\\n\\nBecause it found out there were too many connections!', type='output_text'), type='response.content_part.done')\n",
      "ResponseOutputItemDoneEvent(item=ResponseOutputMessage(id='msg_67e0cda2278081928ab0f7dc8071c5c9058e7dd754c8c226', content=[ResponseOutputText(annotations=[], text='Why did the computer break up with the internet?\\n\\nBecause it found out there were too many connections!', type='output_text')], role='assistant', status='completed', type='message'), output_index=0, type='response.output_item.done')\n",
      "ResponseCompletedEvent(response=Response(id='resp_67e0cda1a25c8192a1d9334661870001058e7dd754c8c226', created_at=1742785953.0, error=None, incomplete_details=None, instructions=None, metadata={}, model='gpt-4o-mini-2024-07-18', object='response', output=[ResponseOutputMessage(id='msg_67e0cda2278081928ab0f7dc8071c5c9058e7dd754c8c226', content=[ResponseOutputText(annotations=[], text='Why did the computer break up with the internet?\\n\\nBecause it found out there were too many connections!', type='output_text')], role='assistant', status='completed', type='message')], parallel_tool_calls=True, temperature=1.0, tool_choice='auto', tools=[], top_p=1.0, max_output_tokens=None, previous_response_id=None, reasoning=Reasoning(effort=None, generate_summary=None), status='completed', text=ResponseTextConfig(format=ResponseFormatText(type='text')), truncation='disabled', usage=ResponseUsage(input_tokens=32, output_tokens=21, output_tokens_details=OutputTokensDetails(reasoning_tokens=0), total_tokens=53, input_tokens_details={'cached_tokens': 0}), user=None, store=True), type='response.completed')\n"
     ]
    }
   ],
   "source": [
    "response = \"\"\n",
    "for event in stream:\n",
    "        print(event)  # Notice the name of events"
   ]
  },
  {
   "cell_type": "markdown",
   "id": "3985d71d",
   "metadata": {},
   "source": [
    "Just showing type of event and 'response.output_text.delta' event will have content"
   ]
  },
  {
   "cell_type": "code",
   "execution_count": 12,
   "id": "25a10c7c",
   "metadata": {},
   "outputs": [
    {
     "name": "stdout",
     "output_type": "stream",
     "text": [
      "response.created\n",
      "response.in_progress\n",
      "response.output_item.added\n",
      "response.content_part.added\n",
      "response.output_text.delta\n",
      "response.output_text.delta\n",
      "response.output_text.delta\n",
      "response.output_text.delta\n",
      "response.output_text.delta\n",
      "response.output_text.delta\n",
      "response.output_text.delta\n",
      "response.output_text.delta\n",
      "response.output_text.delta\n",
      "response.output_text.delta\n",
      "response.output_text.delta\n",
      "response.output_text.delta\n",
      "response.output_text.delta\n",
      "response.output_text.delta\n",
      "response.output_text.done\n",
      "response.content_part.done\n",
      "response.output_item.done\n",
      "response.completed\n"
     ]
    }
   ],
   "source": [
    "stream = openai.responses.create(\n",
    "    model=MODEL,\n",
    "    input=\"Tell me a joke about the internet\",\n",
    "    stream=True\n",
    ")\n",
    "\n",
    "response = \"\"\n",
    "for event in stream:\n",
    "        print(event.type) # Just showing type of event and 'response.output_text.delta' event will have content\n"
   ]
  },
  {
   "cell_type": "code",
   "execution_count": 13,
   "id": "68642a43",
   "metadata": {},
   "outputs": [
    {
     "name": "stdout",
     "output_type": "stream",
     "text": [
      "Delta Content:  Why\n",
      "Delta Content:   did\n",
      "Delta Content:   the\n",
      "Delta Content:   computer\n",
      "Delta Content:   break\n",
      "Delta Content:   up\n",
      "Delta Content:   with\n",
      "Delta Content:   the\n",
      "Delta Content:   internet\n",
      "Delta Content:  ?\n",
      "\n",
      "\n",
      "Delta Content:  It\n",
      "Delta Content:   found\n",
      "Delta Content:   someone\n",
      "Delta Content:   with\n",
      "Delta Content:   better\n",
      "Delta Content:   bandwidth\n",
      "Delta Content:  !\n",
      "Response\n",
      "Why did the computer break up with the internet?\n",
      "\n",
      "It found someone with better bandwidth!\n"
     ]
    }
   ],
   "source": [
    "stream = openai.responses.create(\n",
    "    model=MODEL,\n",
    "    input=\"Tell me a joke about the internet\",\n",
    "    stream=True\n",
    ")\n",
    "\n",
    "response = \"\"\n",
    "for event in stream:\n",
    "        if event.type == \"response.output_text.delta\":\n",
    "            response += event.delta\n",
    "            print(\"Delta Content: \", event.delta)\n",
    "print(\"Response\")\n",
    "print(response)\n"
   ]
  },
  {
   "cell_type": "code",
   "execution_count": 14,
   "id": "4401cdf7",
   "metadata": {},
   "outputs": [
    {
     "name": "stdout",
     "output_type": "stream",
     "text": [
      "Delta Content:  Why\n",
      "Delta Content:   did\n",
      "Delta Content:   the\n",
      "Delta Content:   computer\n",
      "Delta Content:   break\n",
      "Delta Content:   up\n",
      "Delta Content:   with\n",
      "Delta Content:   the\n",
      "Delta Content:   internet\n",
      "Delta Content:  ?\n",
      "\n",
      "\n",
      "Delta Content:  Too\n",
      "Delta Content:   many\n",
      "Delta Content:   connections\n",
      "Delta Content:   and\n",
      "Delta Content:   not\n",
      "Delta Content:   enough\n",
      "Delta Content:   bandwidth\n",
      "Delta Content:  !\n",
      "Response\n",
      "Why did the computer break up with the internet?\n",
      "\n",
      "Too many connections and not enough bandwidth!\n"
     ]
    }
   ],
   "source": [
    "stream = openai.responses.create(\n",
    "    model=MODEL,\n",
    "    input=\"Tell me a joke about the internet\",\n",
    "    stream=True\n",
    ")\n",
    "\n",
    "response = \"\"\n",
    "for event in stream:\n",
    "        # Only difference in if condition\n",
    "        if \"output_text.delta\" in event.type:\n",
    "            response += event.delta\n",
    "            print(\"Delta Content: \", event.delta)\n",
    "print(\"Response\")\n",
    "print(response)"
   ]
  },
  {
   "cell_type": "markdown",
   "id": "7f86a987",
   "metadata": {},
   "source": [
    "Evaluating completed event"
   ]
  },
  {
   "cell_type": "code",
   "execution_count": 16,
   "id": "8ffad04e",
   "metadata": {},
   "outputs": [
    {
     "name": "stdout",
     "output_type": "stream",
     "text": [
      "in_progress\n",
      "in_progress\n",
      "completed\n",
      "\n",
      "Response\n",
      "Why did the computer go to therapy?\n",
      "\n",
      "Because it had too many tabs open!\n"
     ]
    }
   ],
   "source": [
    "stream = openai.responses.create(\n",
    "    model=MODEL,\n",
    "    input=\"Tell me a joke about the internet\",\n",
    "    stream=True\n",
    ")\n",
    "\n",
    "response = \"\"\n",
    "for event in stream:\n",
    "        if hasattr(event, \"response\"):\n",
    "              print(event.response.status)\n",
    "        if event.type == \"response.completed\":\n",
    "            response = event.response.output_text\n",
    "\n",
    "print()\n",
    "print(\"Response\")\n",
    "print(response)\n"
   ]
  }
 ],
 "metadata": {
  "kernelspec": {
   "display_name": ".venv",
   "language": "python",
   "name": "python3"
  },
  "language_info": {
   "codemirror_mode": {
    "name": "ipython",
    "version": 3
   },
   "file_extension": ".py",
   "mimetype": "text/x-python",
   "name": "python",
   "nbconvert_exporter": "python",
   "pygments_lexer": "ipython3",
   "version": "3.12.4"
  }
 },
 "nbformat": 4,
 "nbformat_minor": 5
}
