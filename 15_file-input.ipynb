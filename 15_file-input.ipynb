{
 "cells": [
  {
   "cell_type": "code",
   "execution_count": 1,
   "id": "cd3aa0d0-ff83-4f55-81a8-11aed0ebf4b6",
   "metadata": {},
   "outputs": [],
   "source": [
    "import os\n",
    "from openai import OpenAI\n",
    "from dotenv import load_dotenv\n",
    "import rich"
   ]
  },
  {
   "cell_type": "code",
   "execution_count": 2,
   "id": "794d7c22",
   "metadata": {},
   "outputs": [],
   "source": [
    "load_dotenv()\n",
    "\n",
    "api_key = os.getenv('OPENAI_API_KEY')\n",
    "MODEL = \"gpt-4o-mini\"\n",
    "\n",
    "openai = OpenAI()"
   ]
  },
  {
   "cell_type": "markdown",
   "id": "168aed37",
   "metadata": {},
   "source": [
    "Sending PDF file as input prompt and generating response based on the data inside PDF"
   ]
  },
  {
   "cell_type": "markdown",
   "id": "929f30fc",
   "metadata": {},
   "source": [
    "Uploading file is same in both Chat and Responses API"
   ]
  },
  {
   "cell_type": "code",
   "execution_count": 3,
   "id": "8b360524",
   "metadata": {},
   "outputs": [],
   "source": [
    "file = openai.files.create(\n",
    "    file=open(\"docs/Panaversity-Certified-Agentic-and-Robotic-AI-Engineer.pdf\", \"rb\"),\n",
    "    purpose=\"user_data\"\n",
    ")"
   ]
  },
  {
   "cell_type": "code",
   "execution_count": 7,
   "id": "63c2850b",
   "metadata": {},
   "outputs": [
    {
     "data": {
      "text/html": [
       "<pre style=\"white-space:pre;overflow-x:auto;line-height:normal;font-family:Menlo,'DejaVu Sans Mono',consolas,'Courier New',monospace\">SyncCursorPage<span style=\"font-weight: bold\">[</span>FileObject<span style=\"font-weight: bold\">](</span>\n",
       "    <span style=\"color: #808000; text-decoration-color: #808000\">data</span>=<span style=\"font-weight: bold\">[</span>\n",
       "        <span style=\"color: #800080; text-decoration-color: #800080; font-weight: bold\">FileObject</span><span style=\"font-weight: bold\">(</span>\n",
       "            <span style=\"color: #808000; text-decoration-color: #808000\">id</span>=<span style=\"color: #008000; text-decoration-color: #008000\">'file-Fh7ULskzHk4v4iGC1RTrmv'</span>,\n",
       "            <span style=\"color: #808000; text-decoration-color: #808000\">bytes</span>=<span style=\"color: #008080; text-decoration-color: #008080; font-weight: bold\">1407011</span>,\n",
       "            <span style=\"color: #808000; text-decoration-color: #808000\">created_at</span>=<span style=\"color: #008080; text-decoration-color: #008080; font-weight: bold\">1742470264</span>,\n",
       "            <span style=\"color: #808000; text-decoration-color: #808000\">filename</span>=<span style=\"color: #008000; text-decoration-color: #008000\">'Panaversity-Certified-Agentic-and-Robotic-AI-Engineer.pdf'</span>,\n",
       "            <span style=\"color: #808000; text-decoration-color: #808000\">object</span>=<span style=\"color: #008000; text-decoration-color: #008000\">'file'</span>,\n",
       "            <span style=\"color: #808000; text-decoration-color: #808000\">purpose</span>=<span style=\"color: #008000; text-decoration-color: #008000\">'user_data'</span>,\n",
       "            <span style=\"color: #808000; text-decoration-color: #808000\">status</span>=<span style=\"color: #008000; text-decoration-color: #008000\">'processed'</span>,\n",
       "            <span style=\"color: #808000; text-decoration-color: #808000\">expires_at</span>=<span style=\"color: #800080; text-decoration-color: #800080; font-style: italic\">None</span>,\n",
       "            <span style=\"color: #808000; text-decoration-color: #808000\">status_details</span>=<span style=\"color: #800080; text-decoration-color: #800080; font-style: italic\">None</span>\n",
       "        <span style=\"font-weight: bold\">)</span>,\n",
       "        <span style=\"color: #800080; text-decoration-color: #800080; font-weight: bold\">FileObject</span><span style=\"font-weight: bold\">(</span>\n",
       "            <span style=\"color: #808000; text-decoration-color: #808000\">id</span>=<span style=\"color: #008000; text-decoration-color: #008000\">'file-41Hj591JeuryyJSPm5GMNC'</span>,\n",
       "            <span style=\"color: #808000; text-decoration-color: #808000\">bytes</span>=<span style=\"color: #008080; text-decoration-color: #008080; font-weight: bold\">5956</span>,\n",
       "            <span style=\"color: #808000; text-decoration-color: #808000\">created_at</span>=<span style=\"color: #008080; text-decoration-color: #008080; font-weight: bold\">1740988395</span>,\n",
       "            <span style=\"color: #808000; text-decoration-color: #808000\">filename</span>=<span style=\"color: #008000; text-decoration-color: #008000\">'step_metrics.csv'</span>,\n",
       "            <span style=\"color: #808000; text-decoration-color: #808000\">object</span>=<span style=\"color: #008000; text-decoration-color: #008000\">'file'</span>,\n",
       "            <span style=\"color: #808000; text-decoration-color: #808000\">purpose</span>=<span style=\"color: #008000; text-decoration-color: #008000\">'fine-tune-results'</span>,\n",
       "            <span style=\"color: #808000; text-decoration-color: #808000\">status</span>=<span style=\"color: #008000; text-decoration-color: #008000\">'processed'</span>,\n",
       "            <span style=\"color: #808000; text-decoration-color: #808000\">expires_at</span>=<span style=\"color: #800080; text-decoration-color: #800080; font-style: italic\">None</span>,\n",
       "            <span style=\"color: #808000; text-decoration-color: #808000\">status_details</span>=<span style=\"color: #800080; text-decoration-color: #800080; font-style: italic\">None</span>\n",
       "        <span style=\"font-weight: bold\">)</span>,\n",
       "        <span style=\"color: #800080; text-decoration-color: #800080; font-weight: bold\">FileObject</span><span style=\"font-weight: bold\">(</span>\n",
       "            <span style=\"color: #808000; text-decoration-color: #808000\">id</span>=<span style=\"color: #008000; text-decoration-color: #008000\">'file-U1HVB2Pnm5bnvgoqpYahzJ'</span>,\n",
       "            <span style=\"color: #808000; text-decoration-color: #808000\">bytes</span>=<span style=\"color: #008080; text-decoration-color: #008080; font-weight: bold\">47085</span>,\n",
       "            <span style=\"color: #808000; text-decoration-color: #808000\">created_at</span>=<span style=\"color: #008080; text-decoration-color: #008080; font-weight: bold\">1740985592</span>,\n",
       "            <span style=\"color: #808000; text-decoration-color: #808000\">filename</span>=<span style=\"color: #008000; text-decoration-color: #008000\">'fine_tune_validation.jsonl'</span>,\n",
       "            <span style=\"color: #808000; text-decoration-color: #808000\">object</span>=<span style=\"color: #008000; text-decoration-color: #008000\">'file'</span>,\n",
       "            <span style=\"color: #808000; text-decoration-color: #808000\">purpose</span>=<span style=\"color: #008000; text-decoration-color: #008000\">'fine-tune'</span>,\n",
       "            <span style=\"color: #808000; text-decoration-color: #808000\">status</span>=<span style=\"color: #008000; text-decoration-color: #008000\">'processed'</span>,\n",
       "            <span style=\"color: #808000; text-decoration-color: #808000\">expires_at</span>=<span style=\"color: #800080; text-decoration-color: #800080; font-style: italic\">None</span>,\n",
       "            <span style=\"color: #808000; text-decoration-color: #808000\">status_details</span>=<span style=\"color: #800080; text-decoration-color: #800080; font-style: italic\">None</span>\n",
       "        <span style=\"font-weight: bold\">)</span>,\n",
       "        <span style=\"color: #800080; text-decoration-color: #800080; font-weight: bold\">FileObject</span><span style=\"font-weight: bold\">(</span>\n",
       "            <span style=\"color: #808000; text-decoration-color: #808000\">id</span>=<span style=\"color: #008000; text-decoration-color: #008000\">'file-32nJjb77b9QPcwNsF4KuTo'</span>,\n",
       "            <span style=\"color: #808000; text-decoration-color: #808000\">bytes</span>=<span style=\"color: #008080; text-decoration-color: #008080; font-weight: bold\">188742</span>,\n",
       "            <span style=\"color: #808000; text-decoration-color: #808000\">created_at</span>=<span style=\"color: #008080; text-decoration-color: #008080; font-weight: bold\">1740985573</span>,\n",
       "            <span style=\"color: #808000; text-decoration-color: #808000\">filename</span>=<span style=\"color: #008000; text-decoration-color: #008000\">'fine_tune_train.jsonl'</span>,\n",
       "            <span style=\"color: #808000; text-decoration-color: #808000\">object</span>=<span style=\"color: #008000; text-decoration-color: #008000\">'file'</span>,\n",
       "            <span style=\"color: #808000; text-decoration-color: #808000\">purpose</span>=<span style=\"color: #008000; text-decoration-color: #008000\">'fine-tune'</span>,\n",
       "            <span style=\"color: #808000; text-decoration-color: #808000\">status</span>=<span style=\"color: #008000; text-decoration-color: #008000\">'processed'</span>,\n",
       "            <span style=\"color: #808000; text-decoration-color: #808000\">expires_at</span>=<span style=\"color: #800080; text-decoration-color: #800080; font-style: italic\">None</span>,\n",
       "            <span style=\"color: #808000; text-decoration-color: #808000\">status_details</span>=<span style=\"color: #800080; text-decoration-color: #800080; font-style: italic\">None</span>\n",
       "        <span style=\"font-weight: bold\">)</span>\n",
       "    <span style=\"font-weight: bold\">]</span>,\n",
       "    <span style=\"color: #808000; text-decoration-color: #808000\">has_more</span>=<span style=\"color: #ff0000; text-decoration-color: #ff0000; font-style: italic\">False</span>,\n",
       "    <span style=\"color: #808000; text-decoration-color: #808000\">object</span>=<span style=\"color: #008000; text-decoration-color: #008000\">'list'</span>,\n",
       "    <span style=\"color: #808000; text-decoration-color: #808000\">first_id</span>=<span style=\"color: #008000; text-decoration-color: #008000\">'file-Fh7ULskzHk4v4iGC1RTrmv'</span>,\n",
       "    <span style=\"color: #808000; text-decoration-color: #808000\">last_id</span>=<span style=\"color: #008000; text-decoration-color: #008000\">'file-32nJjb77b9QPcwNsF4KuTo'</span>\n",
       "<span style=\"font-weight: bold\">)</span>\n",
       "</pre>\n"
      ],
      "text/plain": [
       "SyncCursorPage\u001b[1m[\u001b[0mFileObject\u001b[1m]\u001b[0m\u001b[1m(\u001b[0m\n",
       "    \u001b[33mdata\u001b[0m=\u001b[1m[\u001b[0m\n",
       "        \u001b[1;35mFileObject\u001b[0m\u001b[1m(\u001b[0m\n",
       "            \u001b[33mid\u001b[0m=\u001b[32m'file-Fh7ULskzHk4v4iGC1RTrmv'\u001b[0m,\n",
       "            \u001b[33mbytes\u001b[0m=\u001b[1;36m1407011\u001b[0m,\n",
       "            \u001b[33mcreated_at\u001b[0m=\u001b[1;36m1742470264\u001b[0m,\n",
       "            \u001b[33mfilename\u001b[0m=\u001b[32m'Panaversity-Certified-Agentic-and-Robotic-AI-Engineer.pdf'\u001b[0m,\n",
       "            \u001b[33mobject\u001b[0m=\u001b[32m'file'\u001b[0m,\n",
       "            \u001b[33mpurpose\u001b[0m=\u001b[32m'user_data'\u001b[0m,\n",
       "            \u001b[33mstatus\u001b[0m=\u001b[32m'processed'\u001b[0m,\n",
       "            \u001b[33mexpires_at\u001b[0m=\u001b[3;35mNone\u001b[0m,\n",
       "            \u001b[33mstatus_details\u001b[0m=\u001b[3;35mNone\u001b[0m\n",
       "        \u001b[1m)\u001b[0m,\n",
       "        \u001b[1;35mFileObject\u001b[0m\u001b[1m(\u001b[0m\n",
       "            \u001b[33mid\u001b[0m=\u001b[32m'file-41Hj591JeuryyJSPm5GMNC'\u001b[0m,\n",
       "            \u001b[33mbytes\u001b[0m=\u001b[1;36m5956\u001b[0m,\n",
       "            \u001b[33mcreated_at\u001b[0m=\u001b[1;36m1740988395\u001b[0m,\n",
       "            \u001b[33mfilename\u001b[0m=\u001b[32m'step_metrics.csv'\u001b[0m,\n",
       "            \u001b[33mobject\u001b[0m=\u001b[32m'file'\u001b[0m,\n",
       "            \u001b[33mpurpose\u001b[0m=\u001b[32m'fine-tune-results'\u001b[0m,\n",
       "            \u001b[33mstatus\u001b[0m=\u001b[32m'processed'\u001b[0m,\n",
       "            \u001b[33mexpires_at\u001b[0m=\u001b[3;35mNone\u001b[0m,\n",
       "            \u001b[33mstatus_details\u001b[0m=\u001b[3;35mNone\u001b[0m\n",
       "        \u001b[1m)\u001b[0m,\n",
       "        \u001b[1;35mFileObject\u001b[0m\u001b[1m(\u001b[0m\n",
       "            \u001b[33mid\u001b[0m=\u001b[32m'file-U1HVB2Pnm5bnvgoqpYahzJ'\u001b[0m,\n",
       "            \u001b[33mbytes\u001b[0m=\u001b[1;36m47085\u001b[0m,\n",
       "            \u001b[33mcreated_at\u001b[0m=\u001b[1;36m1740985592\u001b[0m,\n",
       "            \u001b[33mfilename\u001b[0m=\u001b[32m'fine_tune_validation.jsonl'\u001b[0m,\n",
       "            \u001b[33mobject\u001b[0m=\u001b[32m'file'\u001b[0m,\n",
       "            \u001b[33mpurpose\u001b[0m=\u001b[32m'fine-tune'\u001b[0m,\n",
       "            \u001b[33mstatus\u001b[0m=\u001b[32m'processed'\u001b[0m,\n",
       "            \u001b[33mexpires_at\u001b[0m=\u001b[3;35mNone\u001b[0m,\n",
       "            \u001b[33mstatus_details\u001b[0m=\u001b[3;35mNone\u001b[0m\n",
       "        \u001b[1m)\u001b[0m,\n",
       "        \u001b[1;35mFileObject\u001b[0m\u001b[1m(\u001b[0m\n",
       "            \u001b[33mid\u001b[0m=\u001b[32m'file-32nJjb77b9QPcwNsF4KuTo'\u001b[0m,\n",
       "            \u001b[33mbytes\u001b[0m=\u001b[1;36m188742\u001b[0m,\n",
       "            \u001b[33mcreated_at\u001b[0m=\u001b[1;36m1740985573\u001b[0m,\n",
       "            \u001b[33mfilename\u001b[0m=\u001b[32m'fine_tune_train.jsonl'\u001b[0m,\n",
       "            \u001b[33mobject\u001b[0m=\u001b[32m'file'\u001b[0m,\n",
       "            \u001b[33mpurpose\u001b[0m=\u001b[32m'fine-tune'\u001b[0m,\n",
       "            \u001b[33mstatus\u001b[0m=\u001b[32m'processed'\u001b[0m,\n",
       "            \u001b[33mexpires_at\u001b[0m=\u001b[3;35mNone\u001b[0m,\n",
       "            \u001b[33mstatus_details\u001b[0m=\u001b[3;35mNone\u001b[0m\n",
       "        \u001b[1m)\u001b[0m\n",
       "    \u001b[1m]\u001b[0m,\n",
       "    \u001b[33mhas_more\u001b[0m=\u001b[3;91mFalse\u001b[0m,\n",
       "    \u001b[33mobject\u001b[0m=\u001b[32m'list'\u001b[0m,\n",
       "    \u001b[33mfirst_id\u001b[0m=\u001b[32m'file-Fh7ULskzHk4v4iGC1RTrmv'\u001b[0m,\n",
       "    \u001b[33mlast_id\u001b[0m=\u001b[32m'file-32nJjb77b9QPcwNsF4KuTo'\u001b[0m\n",
       "\u001b[1m)\u001b[0m\n"
      ]
     },
     "metadata": {},
     "output_type": "display_data"
    }
   ],
   "source": [
    "list = openai.files.list()\n",
    "rich.print(list)"
   ]
  },
  {
   "cell_type": "markdown",
   "id": "f50d3494",
   "metadata": {},
   "source": [
    "# Chat Completion API"
   ]
  },
  {
   "cell_type": "markdown",
   "id": "77edba2a",
   "metadata": {},
   "source": [
    "https://platform.openai.com/docs/guides/function-calling?api-mode=chat"
   ]
  },
  {
   "cell_type": "code",
   "execution_count": 4,
   "id": "8ac98e02",
   "metadata": {},
   "outputs": [
    {
     "name": "stdout",
     "output_type": "stream",
     "text": [
      "The program consists of multiple courses divided into core and professional levels, spanning a total duration of one year. The curriculum is structured around various modules which align with these courses. \n",
      "\n",
      "### Breakdown:\n",
      "1. **Core Level** - This includes foundational courses such as:\n",
      "   - AI-101: Modern AI Python Programming\n",
      "   - AI-201: Fundamentals of Agentic AI\n",
      "   - AI-202: Advanced Agentic AI Engineering\n",
      "   - AI-301: Cloud Native Agentic AI\n",
      "\n",
      "2. **Professional Level** - This includes more advanced courses like:\n",
      "   - AI-451: Physical and Humanoid Robotics AI\n",
      "   - AI-461: Distributed AI Computing\n",
      "   - AI-500: AI Ethics and Governance\n",
      "   - AI-501: Distributed Machine Learning\n",
      "   - AI-502: Customising Open Source LLMs\n",
      "   - AI-651: Advanced Cloud Native and Distributed AI Computing\n",
      "\n",
      "3. **Vertical Specialization Level** (Optional) - After completing the core and professional levels, students can choose among different specializations.\n",
      "\n",
      "### Duration:\n",
      "- The program allows flexibility in course selection, with the possibility to accelerate by taking multiple courses per quarter, generally divided into quarters throughout the year.\n",
      "\n",
      "In conclusion, while the exact number of modules may vary based on the student's choice and pace, there are a total of **over 10 primary courses** within the core and professional levels, along with optional specializations.\n"
     ]
    }
   ],
   "source": [
    "response = openai.chat.completions.create(\n",
    "    model= MODEL,\n",
    "    messages=[\n",
    "        {\n",
    "            \"role\": \"user\",\n",
    "            \"content\": [\n",
    "                {\n",
    "                    \"type\": \"file\",\n",
    "                    \"file\": {\n",
    "                        \"file_id\": file.id,\n",
    "                    }\n",
    "                },\n",
    "                {\n",
    "                    \"type\": \"text\",\n",
    "                    \"text\": \"How many modules or quaraters are there in this course?\",\n",
    "                },\n",
    "            ]\n",
    "        }\n",
    "    ]\n",
    ")\n",
    "\n",
    "print(response.choices[0].message.content)"
   ]
  },
  {
   "cell_type": "markdown",
   "id": "9ef4dd6f",
   "metadata": {},
   "source": [
    "# Responses API"
   ]
  },
  {
   "cell_type": "markdown",
   "id": "d9ed959b",
   "metadata": {},
   "source": [
    "https://platform.openai.com/docs/guides/pdf-files?api-mode=responses"
   ]
  },
  {
   "cell_type": "code",
   "execution_count": 8,
   "id": "6ff8ab61",
   "metadata": {},
   "outputs": [
    {
     "name": "stdout",
     "output_type": "stream",
     "text": [
      "**AI-201: Fundamentals of Agentic AI - From Foundations to Autonomous Agents**\n",
      "\n",
      "**Overview:**\n",
      "This foundational course offers an in-depth introduction to Agentic AI, focusing on building autonomous, intelligent systems. It covers Conversational and Generative AI and progresses into Agentic AI using the OpenAI Agents SDK.\n",
      "\n",
      "**Key Learning Modules:**\n",
      "\n",
      "1. **Foundations of Intelligent AI:**\n",
      "   - Understand core principles of Conversational and Generative AI.\n",
      "   - Learn the strengths and foundational role these paradigms play in Agentic AI.\n",
      "\n",
      "2. **Hands-on Conversational AI Development:**\n",
      "   - Build Conversational AI systems.\n",
      "   - Focus on human-AI interaction, prompt engineering, and deployment.\n",
      "\n",
      "3. **Agentic Design Patterns & OpenAI Agents SDK Introduction:**\n",
      "   - Explore design patterns for autonomous agents.\n",
      "   - Introduction to OpenAI Agents SDK for building multi-agent systems.\n",
      "\n",
      "4. **Mastering Autonomous AI Agents with OpenAI Agents SDK:**\n",
      "   - Develop skills to leverage the SDK for orchestrating complex AI workflows and creating autonomous agents.\n",
      "\n",
      "5. **Building Augmented LLMs with MCP Servers & Agentic Clients:**\n",
      "   - Construct and deploy Model Context Protocol (MCP) Servers and Agentic Clients for augmented LLMs.\n",
      "\n",
      "6. **AgentOps Fundamentals:**\n",
      "   - Learn about agent deployment and lifecycle management.\n",
      "   - Address challenges and best practices for agent-based systems.\n",
      "\n",
      "7. **Agentic Payments & Future Applications:**\n",
      "   - Explore AI agents' potential in financial systems and agent-driven commerce.\n",
      "\n",
      "**Course Outcomes:**\n",
      "\n",
      "- Grasp foundational principles of Conversational, Generative, and Agentic AI.\n",
      "- Design, develop, and deploy Conversational AI systems.\n",
      "- Implement Agentic Design Patterns using the OpenAI Agents SDK.\n",
      "- Build autonomous AI Agents for complex tasks.\n",
      "- Utilize MCP Servers and Agentic Clients to augment LLMs.\n",
      "- Understand AgentOps in real-world deployments.\n",
      "\n",
      "**Learning Tools:**\n",
      "\n",
      "- Access to learning repository: [GitHub Repository](https://github.com/panaversity/learn-agentic-ai/), covers chapters 00-06.\n",
      "\n",
      "**Prerequisite:**\n",
      "- Completion of AI-101.\n"
     ]
    }
   ],
   "source": [
    "response = openai.responses.create(\n",
    "    model=\"gpt-4o\",\n",
    "    input=[\n",
    "        {\n",
    "            \"role\": \"user\",\n",
    "            \"content\": [\n",
    "                {\n",
    "                    # Type is different here, all the inputs are like input_text, input_file, input_image in responses API\n",
    "                    \"type\": \"input_file\",  \n",
    "                    # No file object here, just the file_id\n",
    "                    \"file_id\": file.id,\n",
    "                },\n",
    "                {\n",
    "                    \"type\": \"input_text\",\n",
    "                    \"text\": \"Analyze the AI-201\",\n",
    "                },\n",
    "            ]\n",
    "        }\n",
    "    ]\n",
    ")\n",
    "\n",
    "print(response.output_text)"
   ]
  }
 ],
 "metadata": {
  "kernelspec": {
   "display_name": ".venv",
   "language": "python",
   "name": "python3"
  },
  "language_info": {
   "codemirror_mode": {
    "name": "ipython",
    "version": 3
   },
   "file_extension": ".py",
   "mimetype": "text/x-python",
   "name": "python",
   "nbconvert_exporter": "python",
   "pygments_lexer": "ipython3",
   "version": "3.12.4"
  }
 },
 "nbformat": 4,
 "nbformat_minor": 5
}
