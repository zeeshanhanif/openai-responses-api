{
 "cells": [
  {
   "cell_type": "code",
   "execution_count": 2,
   "id": "cd3aa0d0-ff83-4f55-81a8-11aed0ebf4b6",
   "metadata": {},
   "outputs": [],
   "source": [
    "import os\n",
    "from openai import OpenAI\n",
    "from dotenv import load_dotenv\n",
    "from pydantic import BaseModel\n",
    "import json\n",
    "from typing import List\n",
    "import rich"
   ]
  },
  {
   "cell_type": "code",
   "execution_count": 3,
   "id": "794d7c22",
   "metadata": {},
   "outputs": [],
   "source": [
    "load_dotenv()\n",
    "\n",
    "api_key = os.getenv('OPENAI_API_KEY')\n",
    "MODEL = \"gpt-4o-mini\"\n",
    "\n",
    "openai = OpenAI()"
   ]
  },
  {
   "cell_type": "markdown",
   "id": "ca96eb0a",
   "metadata": {},
   "source": [
    "Passing json schema or Pydantic object in API call to enforce structured output"
   ]
  },
  {
   "cell_type": "markdown",
   "id": "f50d3494",
   "metadata": {},
   "source": [
    "# Chat Completion API"
   ]
  },
  {
   "cell_type": "markdown",
   "id": "0d72d3d0",
   "metadata": {},
   "source": [
    "https://platform.openai.com/docs/guides/structured-outputs?api-mode=chat"
   ]
  },
  {
   "cell_type": "markdown",
   "id": "55d698ea",
   "metadata": {},
   "source": [
    "To enforce structued output we will use `parse` function of API like this `openai.beta.chat.completions.parse`, and pass `response_format` property to send json schema"
   ]
  },
  {
   "cell_type": "code",
   "execution_count": 11,
   "id": "c38479a5",
   "metadata": {},
   "outputs": [
    {
     "name": "stdout",
     "output_type": "stream",
     "text": [
      "{\"name\":\"Science Fair\",\"date\":\"Friday\",\"participants\":[\"Alice\",\"Bob\"]}\n"
     ]
    },
    {
     "data": {
      "text/html": [
       "<pre style=\"white-space:pre;overflow-x:auto;line-height:normal;font-family:Menlo,'DejaVu Sans Mono',consolas,'Courier New',monospace\"><span style=\"font-weight: bold\">{</span><span style=\"color: #008000; text-decoration-color: #008000\">'name'</span>: <span style=\"color: #008000; text-decoration-color: #008000\">'Science Fair'</span>, <span style=\"color: #008000; text-decoration-color: #008000\">'date'</span>: <span style=\"color: #008000; text-decoration-color: #008000\">'Friday'</span>, <span style=\"color: #008000; text-decoration-color: #008000\">'participants'</span>: <span style=\"font-weight: bold\">[</span><span style=\"color: #008000; text-decoration-color: #008000\">'Alice'</span>, <span style=\"color: #008000; text-decoration-color: #008000\">'Bob'</span><span style=\"font-weight: bold\">]}</span>\n",
       "</pre>\n"
      ],
      "text/plain": [
       "\u001b[1m{\u001b[0m\u001b[32m'name'\u001b[0m: \u001b[32m'Science Fair'\u001b[0m, \u001b[32m'date'\u001b[0m: \u001b[32m'Friday'\u001b[0m, \u001b[32m'participants'\u001b[0m: \u001b[1m[\u001b[0m\u001b[32m'Alice'\u001b[0m, \u001b[32m'Bob'\u001b[0m\u001b[1m]\u001b[0m\u001b[1m}\u001b[0m\n"
      ]
     },
     "metadata": {},
     "output_type": "display_data"
    },
    {
     "name": "stdout",
     "output_type": "stream",
     "text": [
      "Science Fair\n",
      "\n",
      "None\n"
     ]
    }
   ],
   "source": [
    "response = openai.beta.chat.completions.parse(\n",
    "    model=MODEL,\n",
    "    messages=[\n",
    "        {\"role\": \"developer\", \"content\": \"Extract the event information. \"},\n",
    "        {\"role\": \"user\", \"content\": \"Alice and Bob are going to a science fair on Friday.\"},\n",
    "    ],\n",
    "    # response_format property is different in chat and responses api\n",
    "    response_format={\n",
    "        # schema format is also bit different in chat and responses api\n",
    "        \"type\": \"json_schema\",\n",
    "        \"json_schema\": {\n",
    "            \"name\": \"calendar_event\",\n",
    "            \"schema\": {\n",
    "                \"type\": \"object\",\n",
    "                \"properties\": {\n",
    "                    \"name\": { \"type\": \"string\"},\n",
    "                    \"date\": { \"type\": \"string\" },\n",
    "                    \"participants\": { \"type\": \"array\", \"items\": { \"type\": \"string\" }},\n",
    "                },\n",
    "                \"required\": [\"name\", \"date\", \"participants\"],\n",
    "                \"additionalProperties\": False\n",
    "            },\n",
    "            \"strict\": True\n",
    "        }\n",
    "    }\n",
    ")\n",
    "print(response.choices[0].message.content)\n",
    "dictionary = json.loads(response.choices[0].message.content)\n",
    "rich.print(dictionary)\n",
    "print(dictionary[\"name\"])\n",
    "\n",
    "\n",
    "print()\n",
    "# This will return None, but if we provide pydantic's BaseModel object in API call \n",
    "# then we will get parsed object. See example below\n",
    "print(response.choices[0].message.parsed) "
   ]
  },
  {
   "cell_type": "markdown",
   "id": "7dc1820c",
   "metadata": {},
   "source": [
    "A similar example, except for the user input."
   ]
  },
  {
   "cell_type": "code",
   "execution_count": 6,
   "id": "5b57beb4",
   "metadata": {},
   "outputs": [
    {
     "name": "stdout",
     "output_type": "stream",
     "text": [
      "{\"name\":\"Dinner with Taylor\",\"date\":\"Tuesday night\",\"participants\":[\"Leonardo\",\"Ivan\",\"Alex\",\"Taylor\"]}\n",
      "Dinner with Taylor\n"
     ]
    }
   ],
   "source": [
    "response = openai.beta.chat.completions.parse(\n",
    "    model=MODEL,\n",
    "    messages=[\n",
    "        {\"role\": \"developer\", \"content\": \"Extract the event information. \"},\n",
    "        {\"role\": \"user\", \"content\": \"Leonardo, Ivan and Alex will be joining Taylor for dinner on Tuesday night.\"},\n",
    "    ],\n",
    "    response_format={\n",
    "        \"type\": \"json_schema\",\n",
    "        \"json_schema\": {\n",
    "            \"name\": \"calendar_event\",\n",
    "            \"schema\": {\n",
    "                \"type\": \"object\",\n",
    "                \"properties\": {\n",
    "                    \"name\": { \"type\": \"string\"},\n",
    "                    \"date\": { \"type\": \"string\" },\n",
    "                    \"participants\": { \"type\": \"array\", \"items\": { \"type\": \"string\" }},\n",
    "                },\n",
    "                \"required\": [\"name\", \"date\", \"participants\"],\n",
    "                \"additionalProperties\": False\n",
    "            },\n",
    "            \"strict\": True\n",
    "        }\n",
    "    }\n",
    ")\n",
    "print(response.choices[0].message.content)\n",
    "dictionary = json.loads(response.choices[0].message.content)\n",
    "print(dictionary[\"name\"])"
   ]
  },
  {
   "cell_type": "markdown",
   "id": "d96c3594",
   "metadata": {},
   "source": [
    "Defining object schemas using Pydantic"
   ]
  },
  {
   "cell_type": "markdown",
   "id": "52254c7b",
   "metadata": {},
   "source": [
    "Note: `response.choices[0].message.parsed` directly returns object"
   ]
  },
  {
   "cell_type": "code",
   "execution_count": 12,
   "id": "37c0cce5",
   "metadata": {},
   "outputs": [
    {
     "name": "stdout",
     "output_type": "stream",
     "text": [
      "{\"name\":\"Dinner with Taylor\",\"date\":\"Tuesday night\",\"participants\":[\"Leonardo\",\"Ivan\",\"Alex\",\"Taylor\"]}\n",
      "Dinner with Taylor\n",
      "\n",
      "name='Dinner with Taylor' date='Tuesday night' participants=['Leonardo', 'Ivan', 'Alex', 'Taylor']\n"
     ]
    },
    {
     "data": {
      "text/html": [
       "<pre style=\"white-space:pre;overflow-x:auto;line-height:normal;font-family:Menlo,'DejaVu Sans Mono',consolas,'Courier New',monospace\"><span style=\"color: #800080; text-decoration-color: #800080; font-weight: bold\">CalendarEvent</span><span style=\"font-weight: bold\">(</span><span style=\"color: #808000; text-decoration-color: #808000\">name</span>=<span style=\"color: #008000; text-decoration-color: #008000\">'Dinner with Taylor'</span>, <span style=\"color: #808000; text-decoration-color: #808000\">date</span>=<span style=\"color: #008000; text-decoration-color: #008000\">'Tuesday night'</span>, <span style=\"color: #808000; text-decoration-color: #808000\">participants</span>=<span style=\"font-weight: bold\">[</span><span style=\"color: #008000; text-decoration-color: #008000\">'Leonardo'</span>, <span style=\"color: #008000; text-decoration-color: #008000\">'Ivan'</span>, <span style=\"color: #008000; text-decoration-color: #008000\">'Alex'</span>, <span style=\"color: #008000; text-decoration-color: #008000\">'Taylor'</span><span style=\"font-weight: bold\">])</span>\n",
       "</pre>\n"
      ],
      "text/plain": [
       "\u001b[1;35mCalendarEvent\u001b[0m\u001b[1m(\u001b[0m\u001b[33mname\u001b[0m=\u001b[32m'Dinner with Taylor'\u001b[0m, \u001b[33mdate\u001b[0m=\u001b[32m'Tuesday night'\u001b[0m, \u001b[33mparticipants\u001b[0m=\u001b[1m[\u001b[0m\u001b[32m'Leonardo'\u001b[0m, \u001b[32m'Ivan'\u001b[0m, \u001b[32m'Alex'\u001b[0m, \u001b[32m'Taylor'\u001b[0m\u001b[1m]\u001b[0m\u001b[1m)\u001b[0m\n"
      ]
     },
     "metadata": {},
     "output_type": "display_data"
    },
    {
     "name": "stdout",
     "output_type": "stream",
     "text": [
      "Dinner with Taylor\n"
     ]
    }
   ],
   "source": [
    "class CalendarEvent(BaseModel):\n",
    "    name: str\n",
    "    date: str\n",
    "    participants: list[str]\n",
    "    \n",
    "response = openai.beta.chat.completions.parse(\n",
    "    model=MODEL,\n",
    "    messages=[\n",
    "        {\"role\": \"developer\", \"content\": \"Extract the event information. \"},\n",
    "        {\"role\": \"user\", \"content\": \"Leonardo, Ivan and Alex will be joining Taylor for dinner on Tuesday night.\"},\n",
    "    ],\n",
    "    response_format=CalendarEvent\n",
    ")\n",
    "# We have json string which we can convert into json object\n",
    "print(response.choices[0].message.content)\n",
    "dictionary = json.loads(response.choices[0].message.content)\n",
    "print(dictionary[\"name\"])\n",
    "\n",
    "print()\n",
    "# Also 'response.choices[0].message' and 'parsed' property that will return parsed object\n",
    "print(response.choices[0].message.parsed)\n",
    "rich.print(response.choices[0].message.parsed)\n",
    "obj = response.choices[0].message.parsed\n",
    "print(obj.name)"
   ]
  },
  {
   "cell_type": "markdown",
   "id": "9ef4dd6f",
   "metadata": {},
   "source": [
    "# Responses API"
   ]
  },
  {
   "cell_type": "markdown",
   "id": "b65f5021",
   "metadata": {},
   "source": [
    "https://platform.openai.com/docs/guides/structured-outputs?api-mode=responses"
   ]
  },
  {
   "cell_type": "markdown",
   "id": "3d9467d9",
   "metadata": {},
   "source": [
    "To enforce structued output we can use same `create` function and pass `text` property to send json schema"
   ]
  },
  {
   "cell_type": "code",
   "execution_count": 15,
   "id": "21e4f32c",
   "metadata": {},
   "outputs": [
    {
     "name": "stdout",
     "output_type": "stream",
     "text": [
      "{\"name\":\"Dinner with Taylor\",\"date\":\"Tuesday night\",\"participants\":[\"Leonardo\",\"Ivan\",\"Alex\",\"Taylor\"]}\n",
      "Dinner with Taylor\n"
     ]
    }
   ],
   "source": [
    "response = openai.responses.create(\n",
    "    model=MODEL,\n",
    "    input=[\n",
    "        {\"role\": \"developer\", \"content\": \"Extract the event information. \"},\n",
    "        {\"role\": \"user\", \"content\": \"Leonardo, Ivan and Alex will be joining Taylor for dinner on Tuesday night.\"},\n",
    "    ],\n",
    "    # text property is different in chat and responses api\n",
    "    text={\n",
    "        # schema format is also bit different in chat and responses api\n",
    "        \"format\": {\n",
    "            \"type\": \"json_schema\",\n",
    "            \"name\": \"calendar_event\",\n",
    "            \"schema\": {\n",
    "                \"type\": \"object\",\n",
    "                \"properties\": {\n",
    "                    \"name\": { \"type\": \"string\"},\n",
    "                    \"date\": { \"type\": \"string\" },\n",
    "                    \"participants\": { \"type\": \"array\", \"items\": { \"type\": \"string\" }},\n",
    "                },\n",
    "                \"required\": [\"name\", \"date\", \"participants\"],\n",
    "                \"additionalProperties\": False\n",
    "            },\n",
    "            \"strict\": True\n",
    "        }\n",
    "    }\n",
    ")\n",
    "print(response.output_text)\n",
    "dictionary = json.loads(response.output_text)\n",
    "print(dictionary[\"name\"])"
   ]
  },
  {
   "cell_type": "markdown",
   "id": "ca6583e7",
   "metadata": {},
   "source": [
    "In the example below, we use `openai.responses.parse()`, and the property for format is `text_format` instead of `text`."
   ]
  },
  {
   "cell_type": "markdown",
   "id": "b9f3d760",
   "metadata": {},
   "source": [
    "https://github.com/openai/openai-python/blob/main/examples/responses/structured_outputs.py"
   ]
  },
  {
   "cell_type": "code",
   "execution_count": 17,
   "id": "0bdde620",
   "metadata": {},
   "outputs": [
    {
     "name": "stdout",
     "output_type": "stream",
     "text": [
      "{\"name\":\"Dinner with Taylor\",\"date\":\"Tuesday night\",\"participants\":[\"Leonardo\",\"Ivan\",\"Alex\",\"Taylor\"]}\n",
      "Dinner with Taylor\n"
     ]
    }
   ],
   "source": [
    "class CalendarEvent(BaseModel):\n",
    "    name: str\n",
    "    date: str\n",
    "    participants: list[str]\n",
    "    \n",
    "response = openai.responses.parse(\n",
    "    model=MODEL,\n",
    "    input=[\n",
    "        {\"role\": \"developer\", \"content\": \"Extract the event information. \"},\n",
    "        {\"role\": \"user\", \"content\": \"Leonardo, Ivan and Alex will be joining Taylor for dinner on Tuesday night.\"},\n",
    "    ],\n",
    "    text_format=CalendarEvent\n",
    ")\n",
    "print(response.output_text)\n",
    "dictionary = json.loads(response.output_text)\n",
    "print(dictionary[\"name\"])"
   ]
  },
  {
   "cell_type": "markdown",
   "id": "1f4708c8",
   "metadata": {},
   "source": [
    "Similar example, execpt for handling parsed object in response"
   ]
  },
  {
   "cell_type": "markdown",
   "id": "62b2d5c7",
   "metadata": {},
   "source": [
    "Note: `response.output[0].content[0].parsed` directly returns object"
   ]
  },
  {
   "cell_type": "code",
   "execution_count": 18,
   "id": "1efb21a6",
   "metadata": {},
   "outputs": [
    {
     "name": "stdout",
     "output_type": "stream",
     "text": [
      "{\"name\":\"Dinner with Taylor\",\"date\":\"Tuesday night\",\"participants\":[\"Leonardo\",\"Ivan\",\"Alex\",\"Taylor\"]}\n",
      "\n",
      "ParsedResponse[CalendarEvent](id='resp_67e21e4e954081929f08cbb332904a9b051b9de37205a58e', created_at=1742872142.0, error=None, incomplete_details=None, instructions=None, metadata={}, model='gpt-4o-mini-2024-07-18', object='response', output=[ParsedResponseOutputMessage[CalendarEvent](id='msg_67e21e4f2eb481928b88bd6b131ddac6051b9de37205a58e', content=[ParsedResponseOutputText[CalendarEvent](annotations=[], text='{\"name\":\"Dinner with Taylor\",\"date\":\"Tuesday night\",\"participants\":[\"Leonardo\",\"Ivan\",\"Alex\",\"Taylor\"]}', type='output_text', parsed=CalendarEvent(name='Dinner with Taylor', date='Tuesday night', participants=['Leonardo', 'Ivan', 'Alex', 'Taylor']))], role='assistant', status='completed', type='message')], parallel_tool_calls=True, temperature=1.0, tool_choice='auto', tools=[], top_p=1.0, max_output_tokens=None, previous_response_id=None, reasoning=Reasoning(effort=None, generate_summary=None), status='completed', text=ResponseTextConfig(format=ResponseFormatTextJSONSchemaConfig(schema_={'properties': {'name': {'title': 'Name', 'type': 'string'}, 'date': {'title': 'Date', 'type': 'string'}, 'participants': {'items': {'type': 'string'}, 'title': 'Participants', 'type': 'array'}}, 'required': ['name', 'date', 'participants'], 'title': 'CalendarEvent', 'type': 'object', 'additionalProperties': False}, type='json_schema', description=None, name='CalendarEvent', strict=True)), truncation='disabled', usage=ResponseUsage(input_tokens=112, output_tokens=25, output_tokens_details=OutputTokensDetails(reasoning_tokens=0), total_tokens=137, input_tokens_details={'cached_tokens': 0}), user=None, store=True)\n",
      "\n",
      "name='Dinner with Taylor' date='Tuesday night' participants=['Leonardo', 'Ivan', 'Alex', 'Taylor']\n"
     ]
    },
    {
     "data": {
      "text/html": [
       "<pre style=\"white-space:pre;overflow-x:auto;line-height:normal;font-family:Menlo,'DejaVu Sans Mono',consolas,'Courier New',monospace\"><span style=\"color: #800080; text-decoration-color: #800080; font-weight: bold\">CalendarEvent</span><span style=\"font-weight: bold\">(</span><span style=\"color: #808000; text-decoration-color: #808000\">name</span>=<span style=\"color: #008000; text-decoration-color: #008000\">'Dinner with Taylor'</span>, <span style=\"color: #808000; text-decoration-color: #808000\">date</span>=<span style=\"color: #008000; text-decoration-color: #008000\">'Tuesday night'</span>, <span style=\"color: #808000; text-decoration-color: #808000\">participants</span>=<span style=\"font-weight: bold\">[</span><span style=\"color: #008000; text-decoration-color: #008000\">'Leonardo'</span>, <span style=\"color: #008000; text-decoration-color: #008000\">'Ivan'</span>, <span style=\"color: #008000; text-decoration-color: #008000\">'Alex'</span>, <span style=\"color: #008000; text-decoration-color: #008000\">'Taylor'</span><span style=\"font-weight: bold\">])</span>\n",
       "</pre>\n"
      ],
      "text/plain": [
       "\u001b[1;35mCalendarEvent\u001b[0m\u001b[1m(\u001b[0m\u001b[33mname\u001b[0m=\u001b[32m'Dinner with Taylor'\u001b[0m, \u001b[33mdate\u001b[0m=\u001b[32m'Tuesday night'\u001b[0m, \u001b[33mparticipants\u001b[0m=\u001b[1m[\u001b[0m\u001b[32m'Leonardo'\u001b[0m, \u001b[32m'Ivan'\u001b[0m, \u001b[32m'Alex'\u001b[0m, \u001b[32m'Taylor'\u001b[0m\u001b[1m]\u001b[0m\u001b[1m)\u001b[0m\n"
      ]
     },
     "metadata": {},
     "output_type": "display_data"
    },
    {
     "name": "stdout",
     "output_type": "stream",
     "text": [
      "\n",
      "Tuesday night\n"
     ]
    }
   ],
   "source": [
    "class CalendarEvent(BaseModel):\n",
    "    name: str\n",
    "    date: str\n",
    "    participants: list[str]\n",
    "    \n",
    "response = openai.responses.parse(\n",
    "    model=MODEL,\n",
    "    input=[\n",
    "        {\"role\": \"developer\", \"content\": \"Extract the event information. \"},\n",
    "        {\"role\": \"user\", \"content\": \"Leonardo, Ivan and Alex will be joining Taylor for dinner on Tuesday night.\"},\n",
    "    ],\n",
    "    text_format=CalendarEvent\n",
    ")\n",
    "print(response.output_text)\n",
    "print()\n",
    "print(response)\n",
    "print()\n",
    "print(response.output[0].content[0].parsed)\n",
    "rich.print(response.output[0].content[0].parsed)\n",
    "print()\n",
    "obj = response.output[0].content[0].parsed\n",
    "print(obj.date)"
   ]
  },
  {
   "cell_type": "markdown",
   "id": "ee44652d",
   "metadata": {},
   "source": [
    "You can ask the model to output an answer in a structured, step-by-step way, to guide the user through the solution."
   ]
  },
  {
   "cell_type": "code",
   "execution_count": 19,
   "id": "1c002bd5",
   "metadata": {},
   "outputs": [
    {
     "name": "stdout",
     "output_type": "stream",
     "text": [
      "steps=[Step(explanation='Start with the equation: 8x + 7 = -23.', output='8x + 7 = -23'), Step(explanation='Subtract 7 from both sides to isolate the term containing x.', output='8x + 7 - 7 = -23 - 7'), Step(explanation='This simplifies to: 8x = -30.', output='8x = -30'), Step(explanation='Now, divide both sides by 8 to solve for x.', output='x = -30 / 8'), Step(explanation='Simplify the fraction: -30 / 8 can be reduced to -15 / 4.', output='x = -15/4')] final_answer='x = -15/4'\n",
      "\n",
      "x = -15/4\n",
      "\n"
     ]
    },
    {
     "data": {
      "text/html": [
       "<pre style=\"white-space:pre;overflow-x:auto;line-height:normal;font-family:Menlo,'DejaVu Sans Mono',consolas,'Courier New',monospace\"><span style=\"color: #800080; text-decoration-color: #800080; font-weight: bold\">MathResponse</span><span style=\"font-weight: bold\">(</span>\n",
       "    <span style=\"color: #808000; text-decoration-color: #808000\">steps</span>=<span style=\"font-weight: bold\">[</span>\n",
       "        <span style=\"color: #800080; text-decoration-color: #800080; font-weight: bold\">Step</span><span style=\"font-weight: bold\">(</span><span style=\"color: #808000; text-decoration-color: #808000\">explanation</span>=<span style=\"color: #008000; text-decoration-color: #008000\">'Start with the equation: 8x + 7 = -23.'</span>, <span style=\"color: #808000; text-decoration-color: #808000\">output</span>=<span style=\"color: #008000; text-decoration-color: #008000\">'8x + 7 = -23'</span><span style=\"font-weight: bold\">)</span>,\n",
       "        <span style=\"color: #800080; text-decoration-color: #800080; font-weight: bold\">Step</span><span style=\"font-weight: bold\">(</span>\n",
       "            <span style=\"color: #808000; text-decoration-color: #808000\">explanation</span>=<span style=\"color: #008000; text-decoration-color: #008000\">'Subtract 7 from both sides to isolate the term containing x.'</span>,\n",
       "            <span style=\"color: #808000; text-decoration-color: #808000\">output</span>=<span style=\"color: #008000; text-decoration-color: #008000\">'8x + 7 - 7 = -23 - 7'</span>\n",
       "        <span style=\"font-weight: bold\">)</span>,\n",
       "        <span style=\"color: #800080; text-decoration-color: #800080; font-weight: bold\">Step</span><span style=\"font-weight: bold\">(</span><span style=\"color: #808000; text-decoration-color: #808000\">explanation</span>=<span style=\"color: #008000; text-decoration-color: #008000\">'This simplifies to: 8x = -30.'</span>, <span style=\"color: #808000; text-decoration-color: #808000\">output</span>=<span style=\"color: #008000; text-decoration-color: #008000\">'8x = -30'</span><span style=\"font-weight: bold\">)</span>,\n",
       "        <span style=\"color: #800080; text-decoration-color: #800080; font-weight: bold\">Step</span><span style=\"font-weight: bold\">(</span><span style=\"color: #808000; text-decoration-color: #808000\">explanation</span>=<span style=\"color: #008000; text-decoration-color: #008000\">'Now, divide both sides by 8 to solve for x.'</span>, <span style=\"color: #808000; text-decoration-color: #808000\">output</span>=<span style=\"color: #008000; text-decoration-color: #008000\">'x = -30 / 8'</span><span style=\"font-weight: bold\">)</span>,\n",
       "        <span style=\"color: #800080; text-decoration-color: #800080; font-weight: bold\">Step</span><span style=\"font-weight: bold\">(</span><span style=\"color: #808000; text-decoration-color: #808000\">explanation</span>=<span style=\"color: #008000; text-decoration-color: #008000\">'Simplify the fraction: -30 / 8 can be reduced to -15 / 4.'</span>, <span style=\"color: #808000; text-decoration-color: #808000\">output</span>=<span style=\"color: #008000; text-decoration-color: #008000\">'x = -15/4'</span><span style=\"font-weight: bold\">)</span>\n",
       "    <span style=\"font-weight: bold\">]</span>,\n",
       "    <span style=\"color: #808000; text-decoration-color: #808000\">final_answer</span>=<span style=\"color: #008000; text-decoration-color: #008000\">'x = -15/4'</span>\n",
       "<span style=\"font-weight: bold\">)</span>\n",
       "</pre>\n"
      ],
      "text/plain": [
       "\u001b[1;35mMathResponse\u001b[0m\u001b[1m(\u001b[0m\n",
       "    \u001b[33msteps\u001b[0m=\u001b[1m[\u001b[0m\n",
       "        \u001b[1;35mStep\u001b[0m\u001b[1m(\u001b[0m\u001b[33mexplanation\u001b[0m=\u001b[32m'Start with the equation: 8x + 7 = -23.'\u001b[0m, \u001b[33moutput\u001b[0m=\u001b[32m'8x + 7 = -23'\u001b[0m\u001b[1m)\u001b[0m,\n",
       "        \u001b[1;35mStep\u001b[0m\u001b[1m(\u001b[0m\n",
       "            \u001b[33mexplanation\u001b[0m=\u001b[32m'Subtract 7 from both sides to isolate the term containing x.'\u001b[0m,\n",
       "            \u001b[33moutput\u001b[0m=\u001b[32m'8x + 7 - 7 = -23 - 7'\u001b[0m\n",
       "        \u001b[1m)\u001b[0m,\n",
       "        \u001b[1;35mStep\u001b[0m\u001b[1m(\u001b[0m\u001b[33mexplanation\u001b[0m=\u001b[32m'This simplifies to: 8x = -30.'\u001b[0m, \u001b[33moutput\u001b[0m=\u001b[32m'8x = -30'\u001b[0m\u001b[1m)\u001b[0m,\n",
       "        \u001b[1;35mStep\u001b[0m\u001b[1m(\u001b[0m\u001b[33mexplanation\u001b[0m=\u001b[32m'Now, divide both sides by 8 to solve for x.'\u001b[0m, \u001b[33moutput\u001b[0m=\u001b[32m'x = -30 / 8'\u001b[0m\u001b[1m)\u001b[0m,\n",
       "        \u001b[1;35mStep\u001b[0m\u001b[1m(\u001b[0m\u001b[33mexplanation\u001b[0m=\u001b[32m'Simplify the fraction: -30 / 8 can be reduced to -15 / 4.'\u001b[0m, \u001b[33moutput\u001b[0m=\u001b[32m'x = -15/4'\u001b[0m\u001b[1m)\u001b[0m\n",
       "    \u001b[1m]\u001b[0m,\n",
       "    \u001b[33mfinal_answer\u001b[0m=\u001b[32m'x = -15/4'\u001b[0m\n",
       "\u001b[1m)\u001b[0m\n"
      ]
     },
     "metadata": {},
     "output_type": "display_data"
    }
   ],
   "source": [
    "class Step(BaseModel):\n",
    "    explanation: str\n",
    "    output: str\n",
    "\n",
    "\n",
    "class MathResponse(BaseModel):\n",
    "    steps: List[Step]\n",
    "    final_answer: str\n",
    "\n",
    "response = openai.responses.parse(\n",
    "    model=MODEL,\n",
    "    input=[\n",
    "        {\"role\": \"developer\", \"content\": \"You are a helpful math tutor. Guide the user through the solution step by step.\"},\n",
    "        {\"role\": \"user\", \"content\": \"how can I solve 8x + 7 = -23\"},\n",
    "    ],\n",
    "    text_format=MathResponse\n",
    ")\n",
    "\n",
    "math_reasoning = response.output[0].content[0].parsed\n",
    "print(math_reasoning)\n",
    "print()\n",
    "print(math_reasoning.final_answer)\n",
    "print()\n",
    "rich.print(math_reasoning)"
   ]
  }
 ],
 "metadata": {
  "kernelspec": {
   "display_name": ".venv",
   "language": "python",
   "name": "python3"
  },
  "language_info": {
   "codemirror_mode": {
    "name": "ipython",
    "version": 3
   },
   "file_extension": ".py",
   "mimetype": "text/x-python",
   "name": "python",
   "nbconvert_exporter": "python",
   "pygments_lexer": "ipython3",
   "version": "3.12.4"
  }
 },
 "nbformat": 4,
 "nbformat_minor": 5
}
