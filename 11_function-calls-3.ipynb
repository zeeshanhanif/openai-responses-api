{
 "cells": [
  {
   "cell_type": "code",
   "execution_count": 1,
   "id": "cd3aa0d0-ff83-4f55-81a8-11aed0ebf4b6",
   "metadata": {},
   "outputs": [],
   "source": [
    "import os\n",
    "from openai import OpenAI, pydantic_function_tool\n",
    "from dotenv import load_dotenv\n",
    "import rich\n",
    "import requests\n",
    "import json\n",
    "from pydantic import BaseModel, Field"
   ]
  },
  {
   "cell_type": "code",
   "execution_count": 2,
   "id": "794d7c22",
   "metadata": {},
   "outputs": [],
   "source": [
    "load_dotenv()\n",
    "\n",
    "api_key = os.getenv('OPENAI_API_KEY')\n",
    "MODEL = \"gpt-4o-mini\"\n",
    "\n",
    "openai = OpenAI()"
   ]
  },
  {
   "cell_type": "markdown",
   "id": "168aed37",
   "metadata": {},
   "source": [
    "**Using Pydantic generated function structure to send in Chat API and Responses API**"
   ]
  },
  {
   "cell_type": "markdown",
   "id": "5e2a525a",
   "metadata": {},
   "source": [
    "The Pydantic-generated function structure is acceptable in OpenAI's Chat API, but the Responses API requires a slightly different structure."
   ]
  },
  {
   "cell_type": "code",
   "execution_count": 4,
   "id": "c29278a5",
   "metadata": {},
   "outputs": [
    {
     "data": {
      "text/html": [
       "<pre style=\"white-space:pre;overflow-x:auto;line-height:normal;font-family:Menlo,'DejaVu Sans Mono',consolas,'Courier New',monospace\"><span style=\"font-weight: bold\">{</span>\n",
       "    <span style=\"color: #008000; text-decoration-color: #008000\">'type'</span>: <span style=\"color: #008000; text-decoration-color: #008000\">'function'</span>,\n",
       "    <span style=\"color: #008000; text-decoration-color: #008000\">'function'</span>: <span style=\"font-weight: bold\">{</span>\n",
       "        <span style=\"color: #008000; text-decoration-color: #008000\">'name'</span>: <span style=\"color: #008000; text-decoration-color: #008000\">'GetWeather'</span>,\n",
       "        <span style=\"color: #008000; text-decoration-color: #008000\">'strict'</span>: <span style=\"color: #00ff00; text-decoration-color: #00ff00; font-style: italic\">True</span>,\n",
       "        <span style=\"color: #008000; text-decoration-color: #008000\">'parameters'</span>: <span style=\"font-weight: bold\">{</span>\n",
       "            <span style=\"color: #008000; text-decoration-color: #008000\">'properties'</span>: <span style=\"font-weight: bold\">{</span>\n",
       "                <span style=\"color: #008000; text-decoration-color: #008000\">'latitude'</span>: <span style=\"font-weight: bold\">{</span><span style=\"color: #008000; text-decoration-color: #008000\">'description'</span>: <span style=\"color: #008000; text-decoration-color: #008000\">'Latitude of the location'</span>, <span style=\"color: #008000; text-decoration-color: #008000\">'title'</span>: <span style=\"color: #008000; text-decoration-color: #008000\">'Latitude'</span>, <span style=\"color: #008000; text-decoration-color: #008000\">'type'</span>: <span style=\"color: #008000; text-decoration-color: #008000\">'number'</span><span style=\"font-weight: bold\">}</span>,\n",
       "                <span style=\"color: #008000; text-decoration-color: #008000\">'longitude'</span>: <span style=\"font-weight: bold\">{</span><span style=\"color: #008000; text-decoration-color: #008000\">'description'</span>: <span style=\"color: #008000; text-decoration-color: #008000\">'Longitude of the location'</span>, <span style=\"color: #008000; text-decoration-color: #008000\">'title'</span>: <span style=\"color: #008000; text-decoration-color: #008000\">'Longitude'</span>, <span style=\"color: #008000; text-decoration-color: #008000\">'type'</span>: <span style=\"color: #008000; text-decoration-color: #008000\">'number'</span><span style=\"font-weight: bold\">}</span>\n",
       "            <span style=\"font-weight: bold\">}</span>,\n",
       "            <span style=\"color: #008000; text-decoration-color: #008000\">'required'</span>: <span style=\"font-weight: bold\">[</span><span style=\"color: #008000; text-decoration-color: #008000\">'latitude'</span>, <span style=\"color: #008000; text-decoration-color: #008000\">'longitude'</span><span style=\"font-weight: bold\">]</span>,\n",
       "            <span style=\"color: #008000; text-decoration-color: #008000\">'title'</span>: <span style=\"color: #008000; text-decoration-color: #008000\">'GetWeather'</span>,\n",
       "            <span style=\"color: #008000; text-decoration-color: #008000\">'type'</span>: <span style=\"color: #008000; text-decoration-color: #008000\">'object'</span>,\n",
       "            <span style=\"color: #008000; text-decoration-color: #008000\">'additionalProperties'</span>: <span style=\"color: #ff0000; text-decoration-color: #ff0000; font-style: italic\">False</span>\n",
       "        <span style=\"font-weight: bold\">}</span>\n",
       "    <span style=\"font-weight: bold\">}</span>\n",
       "<span style=\"font-weight: bold\">}</span>\n",
       "</pre>\n"
      ],
      "text/plain": [
       "\u001b[1m{\u001b[0m\n",
       "    \u001b[32m'type'\u001b[0m: \u001b[32m'function'\u001b[0m,\n",
       "    \u001b[32m'function'\u001b[0m: \u001b[1m{\u001b[0m\n",
       "        \u001b[32m'name'\u001b[0m: \u001b[32m'GetWeather'\u001b[0m,\n",
       "        \u001b[32m'strict'\u001b[0m: \u001b[3;92mTrue\u001b[0m,\n",
       "        \u001b[32m'parameters'\u001b[0m: \u001b[1m{\u001b[0m\n",
       "            \u001b[32m'properties'\u001b[0m: \u001b[1m{\u001b[0m\n",
       "                \u001b[32m'latitude'\u001b[0m: \u001b[1m{\u001b[0m\u001b[32m'description'\u001b[0m: \u001b[32m'Latitude of the location'\u001b[0m, \u001b[32m'title'\u001b[0m: \u001b[32m'Latitude'\u001b[0m, \u001b[32m'type'\u001b[0m: \u001b[32m'number'\u001b[0m\u001b[1m}\u001b[0m,\n",
       "                \u001b[32m'longitude'\u001b[0m: \u001b[1m{\u001b[0m\u001b[32m'description'\u001b[0m: \u001b[32m'Longitude of the location'\u001b[0m, \u001b[32m'title'\u001b[0m: \u001b[32m'Longitude'\u001b[0m, \u001b[32m'type'\u001b[0m: \u001b[32m'number'\u001b[0m\u001b[1m}\u001b[0m\n",
       "            \u001b[1m}\u001b[0m,\n",
       "            \u001b[32m'required'\u001b[0m: \u001b[1m[\u001b[0m\u001b[32m'latitude'\u001b[0m, \u001b[32m'longitude'\u001b[0m\u001b[1m]\u001b[0m,\n",
       "            \u001b[32m'title'\u001b[0m: \u001b[32m'GetWeather'\u001b[0m,\n",
       "            \u001b[32m'type'\u001b[0m: \u001b[32m'object'\u001b[0m,\n",
       "            \u001b[32m'additionalProperties'\u001b[0m: \u001b[3;91mFalse\u001b[0m\n",
       "        \u001b[1m}\u001b[0m\n",
       "    \u001b[1m}\u001b[0m\n",
       "\u001b[1m}\u001b[0m\n"
      ]
     },
     "metadata": {},
     "output_type": "display_data"
    }
   ],
   "source": [
    "class GetWeather(BaseModel):\n",
    "    latitude: float = Field(..., description=\"Latitude of the location\")\n",
    "    longitude: float = Field(..., description=\"Longitude of the location\")\n",
    "    \n",
    "def get_weather(latitude, longitude):\n",
    "    response = requests.get(f\"https://api.open-meteo.com/v1/forecast?latitude={latitude}&longitude={longitude}&current=temperature_2m,wind_speed_10m&hourly=temperature_2m,relative_humidity_2m,wind_speed_10m\")\n",
    "    data = response.json()\n",
    "    print(f\"get_weather function called to get weather for latitude = {latitude}, longitude = {longitude}\")\n",
    "    print(f\"And result is  = {data['current']['temperature_2m']}\")\n",
    "    return data['current']['temperature_2m']\n",
    "\n",
    "# Notice the function property in the output, which is not acceptable in Responses API\n",
    "rich.print(pydantic_function_tool(GetWeather)) "
   ]
  },
  {
   "cell_type": "markdown",
   "id": "f50d3494",
   "metadata": {},
   "source": [
    "# Chat Completion API"
   ]
  },
  {
   "cell_type": "markdown",
   "id": "77edba2a",
   "metadata": {},
   "source": [
    "https://platform.openai.com/docs/guides/function-calling?api-mode=chat"
   ]
  },
  {
   "cell_type": "markdown",
   "id": "33d68295",
   "metadata": {},
   "source": [
    "First Step where model will responed with tool call request"
   ]
  },
  {
   "cell_type": "code",
   "execution_count": 8,
   "id": "c38479a5",
   "metadata": {},
   "outputs": [
    {
     "data": {
      "text/html": [
       "<pre style=\"white-space:pre;overflow-x:auto;line-height:normal;font-family:Menlo,'DejaVu Sans Mono',consolas,'Courier New',monospace\"><span style=\"color: #800080; text-decoration-color: #800080; font-weight: bold\">Choice</span><span style=\"font-weight: bold\">(</span>\n",
       "    <span style=\"color: #808000; text-decoration-color: #808000\">finish_reason</span>=<span style=\"color: #008000; text-decoration-color: #008000\">'tool_calls'</span>,\n",
       "    <span style=\"color: #808000; text-decoration-color: #808000\">index</span>=<span style=\"color: #008080; text-decoration-color: #008080; font-weight: bold\">0</span>,\n",
       "    <span style=\"color: #808000; text-decoration-color: #808000\">logprobs</span>=<span style=\"color: #800080; text-decoration-color: #800080; font-style: italic\">None</span>,\n",
       "    <span style=\"color: #808000; text-decoration-color: #808000\">message</span>=<span style=\"color: #800080; text-decoration-color: #800080; font-weight: bold\">ChatCompletionMessage</span><span style=\"font-weight: bold\">(</span>\n",
       "        <span style=\"color: #808000; text-decoration-color: #808000\">content</span>=<span style=\"color: #800080; text-decoration-color: #800080; font-style: italic\">None</span>,\n",
       "        <span style=\"color: #808000; text-decoration-color: #808000\">refusal</span>=<span style=\"color: #800080; text-decoration-color: #800080; font-style: italic\">None</span>,\n",
       "        <span style=\"color: #808000; text-decoration-color: #808000\">role</span>=<span style=\"color: #008000; text-decoration-color: #008000\">'assistant'</span>,\n",
       "        <span style=\"color: #808000; text-decoration-color: #808000\">annotations</span>=<span style=\"font-weight: bold\">[]</span>,\n",
       "        <span style=\"color: #808000; text-decoration-color: #808000\">audio</span>=<span style=\"color: #800080; text-decoration-color: #800080; font-style: italic\">None</span>,\n",
       "        <span style=\"color: #808000; text-decoration-color: #808000\">function_call</span>=<span style=\"color: #800080; text-decoration-color: #800080; font-style: italic\">None</span>,\n",
       "        <span style=\"color: #808000; text-decoration-color: #808000\">tool_calls</span>=<span style=\"font-weight: bold\">[</span>\n",
       "            <span style=\"color: #800080; text-decoration-color: #800080; font-weight: bold\">ChatCompletionMessageToolCall</span><span style=\"font-weight: bold\">(</span>\n",
       "                <span style=\"color: #808000; text-decoration-color: #808000\">id</span>=<span style=\"color: #008000; text-decoration-color: #008000\">'call_GlQHIKypjRFcaKx4ssGsRZMJ'</span>,\n",
       "                <span style=\"color: #808000; text-decoration-color: #808000\">function</span>=<span style=\"color: #800080; text-decoration-color: #800080; font-weight: bold\">Function</span><span style=\"font-weight: bold\">(</span><span style=\"color: #808000; text-decoration-color: #808000\">arguments</span>=<span style=\"color: #008000; text-decoration-color: #008000\">'{\"latitude\":52.52,\"longitude\":13.405}'</span>, <span style=\"color: #808000; text-decoration-color: #808000\">name</span>=<span style=\"color: #008000; text-decoration-color: #008000\">'GetWeather'</span><span style=\"font-weight: bold\">)</span>,\n",
       "                <span style=\"color: #808000; text-decoration-color: #808000\">type</span>=<span style=\"color: #008000; text-decoration-color: #008000\">'function'</span>\n",
       "            <span style=\"font-weight: bold\">)</span>\n",
       "        <span style=\"font-weight: bold\">]</span>\n",
       "    <span style=\"font-weight: bold\">)</span>\n",
       "<span style=\"font-weight: bold\">)</span>\n",
       "</pre>\n"
      ],
      "text/plain": [
       "\u001b[1;35mChoice\u001b[0m\u001b[1m(\u001b[0m\n",
       "    \u001b[33mfinish_reason\u001b[0m=\u001b[32m'tool_calls'\u001b[0m,\n",
       "    \u001b[33mindex\u001b[0m=\u001b[1;36m0\u001b[0m,\n",
       "    \u001b[33mlogprobs\u001b[0m=\u001b[3;35mNone\u001b[0m,\n",
       "    \u001b[33mmessage\u001b[0m=\u001b[1;35mChatCompletionMessage\u001b[0m\u001b[1m(\u001b[0m\n",
       "        \u001b[33mcontent\u001b[0m=\u001b[3;35mNone\u001b[0m,\n",
       "        \u001b[33mrefusal\u001b[0m=\u001b[3;35mNone\u001b[0m,\n",
       "        \u001b[33mrole\u001b[0m=\u001b[32m'assistant'\u001b[0m,\n",
       "        \u001b[33mannotations\u001b[0m=\u001b[1m[\u001b[0m\u001b[1m]\u001b[0m,\n",
       "        \u001b[33maudio\u001b[0m=\u001b[3;35mNone\u001b[0m,\n",
       "        \u001b[33mfunction_call\u001b[0m=\u001b[3;35mNone\u001b[0m,\n",
       "        \u001b[33mtool_calls\u001b[0m=\u001b[1m[\u001b[0m\n",
       "            \u001b[1;35mChatCompletionMessageToolCall\u001b[0m\u001b[1m(\u001b[0m\n",
       "                \u001b[33mid\u001b[0m=\u001b[32m'call_GlQHIKypjRFcaKx4ssGsRZMJ'\u001b[0m,\n",
       "                \u001b[33mfunction\u001b[0m=\u001b[1;35mFunction\u001b[0m\u001b[1m(\u001b[0m\u001b[33marguments\u001b[0m=\u001b[32m'\u001b[0m\u001b[32m{\u001b[0m\u001b[32m\"latitude\":52.52,\"longitude\":13.405\u001b[0m\u001b[32m}\u001b[0m\u001b[32m'\u001b[0m, \u001b[33mname\u001b[0m=\u001b[32m'GetWeather'\u001b[0m\u001b[1m)\u001b[0m,\n",
       "                \u001b[33mtype\u001b[0m=\u001b[32m'function'\u001b[0m\n",
       "            \u001b[1m)\u001b[0m\n",
       "        \u001b[1m]\u001b[0m\n",
       "    \u001b[1m)\u001b[0m\n",
       "\u001b[1m)\u001b[0m\n"
      ]
     },
     "metadata": {},
     "output_type": "display_data"
    },
    {
     "name": "stdout",
     "output_type": "stream",
     "text": [
      "Finish Reason =  tool_calls\n"
     ]
    },
    {
     "data": {
      "text/html": [
       "<pre style=\"white-space:pre;overflow-x:auto;line-height:normal;font-family:Menlo,'DejaVu Sans Mono',consolas,'Courier New',monospace\"><span style=\"font-weight: bold\">[</span>\n",
       "    <span style=\"color: #800080; text-decoration-color: #800080; font-weight: bold\">ChatCompletionMessageToolCall</span><span style=\"font-weight: bold\">(</span>\n",
       "        <span style=\"color: #808000; text-decoration-color: #808000\">id</span>=<span style=\"color: #008000; text-decoration-color: #008000\">'call_GlQHIKypjRFcaKx4ssGsRZMJ'</span>,\n",
       "        <span style=\"color: #808000; text-decoration-color: #808000\">function</span>=<span style=\"color: #800080; text-decoration-color: #800080; font-weight: bold\">Function</span><span style=\"font-weight: bold\">(</span><span style=\"color: #808000; text-decoration-color: #808000\">arguments</span>=<span style=\"color: #008000; text-decoration-color: #008000\">'{\"latitude\":52.52,\"longitude\":13.405}'</span>, <span style=\"color: #808000; text-decoration-color: #808000\">name</span>=<span style=\"color: #008000; text-decoration-color: #008000\">'GetWeather'</span><span style=\"font-weight: bold\">)</span>,\n",
       "        <span style=\"color: #808000; text-decoration-color: #808000\">type</span>=<span style=\"color: #008000; text-decoration-color: #008000\">'function'</span>\n",
       "    <span style=\"font-weight: bold\">)</span>\n",
       "<span style=\"font-weight: bold\">]</span>\n",
       "</pre>\n"
      ],
      "text/plain": [
       "\u001b[1m[\u001b[0m\n",
       "    \u001b[1;35mChatCompletionMessageToolCall\u001b[0m\u001b[1m(\u001b[0m\n",
       "        \u001b[33mid\u001b[0m=\u001b[32m'call_GlQHIKypjRFcaKx4ssGsRZMJ'\u001b[0m,\n",
       "        \u001b[33mfunction\u001b[0m=\u001b[1;35mFunction\u001b[0m\u001b[1m(\u001b[0m\u001b[33marguments\u001b[0m=\u001b[32m'\u001b[0m\u001b[32m{\u001b[0m\u001b[32m\"latitude\":52.52,\"longitude\":13.405\u001b[0m\u001b[32m}\u001b[0m\u001b[32m'\u001b[0m, \u001b[33mname\u001b[0m=\u001b[32m'GetWeather'\u001b[0m\u001b[1m)\u001b[0m,\n",
       "        \u001b[33mtype\u001b[0m=\u001b[32m'function'\u001b[0m\n",
       "    \u001b[1m)\u001b[0m\n",
       "\u001b[1m]\u001b[0m\n"
      ]
     },
     "metadata": {},
     "output_type": "display_data"
    }
   ],
   "source": [
    "messages=[\n",
    "    {\"role\": \"developer\", \"content\": \"You are a helpful assistant and provide update on weather in a city.\"},\n",
    "    # {\"role\": \"user\", \"content\": \"What's the weather like in Karachi, Pakistan?\"}\n",
    "    # {\"role\": \"user\", \"content\": \"NYC\"}\n",
    "    {\"role\": \"user\", \"content\": \"Berlin\"}\n",
    "]\n",
    "# Except for this line, everything else is the same as in the previous example\n",
    "tools = [pydantic_function_tool(GetWeather)] \n",
    "response = openai.chat.completions.create(\n",
    "    model=MODEL,\n",
    "    messages=messages,\n",
    "    tools = tools\n",
    ")\n",
    "\n",
    "rich.print(response.choices[0])\n",
    "print(\"Finish Reason = \", response.choices[0].finish_reason)\n",
    "rich.print(response.choices[0].message.tool_calls)\n",
    "# rich.print(response)\n"
   ]
  },
  {
   "cell_type": "markdown",
   "id": "babafa68",
   "metadata": {},
   "source": [
    "Second Step where we are calling the `get_weather` function and sending the response back to Chat API"
   ]
  },
  {
   "cell_type": "code",
   "execution_count": 9,
   "id": "c89268a3",
   "metadata": {},
   "outputs": [
    {
     "name": "stdout",
     "output_type": "stream",
     "text": [
      "get_weather function called to get weather for latitude = 52.52, longitude = 13.405\n",
      "And result is  = 7.5\n",
      "Model Response2 =  The current weather in Berlin is approximately 7.5°C. If you need more specific details about the weather conditions, feel free to ask!\n",
      "Finish Reason =  stop\n"
     ]
    }
   ],
   "source": [
    "if response.choices[0].finish_reason == \"tool_calls\": # Check if finish_reason is tool_calls\n",
    "    tool_call = response.choices[0].message.tool_calls[0]\n",
    "    arguments = json.loads(tool_call.function.arguments)\n",
    "    latitude = arguments.get(\"latitude\")\n",
    "    longitude = arguments.get(\"longitude\")\n",
    "    # weather = get_weather(latitude, longitude) # Both will work\n",
    "    weather = get_weather(**arguments)\n",
    "    new_message = {\n",
    "        \"role\": \"tool\",\n",
    "        \"content\": json.dumps({\"latitude\": latitude, \"longitude\": longitude, \"weather\": weather}),\n",
    "        \"tool_call_id\": tool_call.id\n",
    "    }\n",
    "    # Important: we will append the previous message (response.choices[0].message)\n",
    "    messages.append(response.choices[0].message) \n",
    "    messages.append(new_message)\n",
    "    response2 = openai.chat.completions.create(model=MODEL, messages=messages, tools=tools)\n",
    "    print(\"Model Response2 = \",response2.choices[0].message.content)\n",
    "    print(\"Finish Reason = \",response2.choices[0].finish_reason)"
   ]
  },
  {
   "cell_type": "markdown",
   "id": "9ef4dd6f",
   "metadata": {},
   "source": [
    "# Responses API"
   ]
  },
  {
   "cell_type": "markdown",
   "id": "d9ed959b",
   "metadata": {},
   "source": [
    "https://platform.openai.com/docs/guides/function-calling?api-mode=responses"
   ]
  },
  {
   "cell_type": "code",
   "execution_count": 10,
   "id": "704854ec",
   "metadata": {},
   "outputs": [
    {
     "data": {
      "text/html": [
       "<pre style=\"white-space:pre;overflow-x:auto;line-height:normal;font-family:Menlo,'DejaVu Sans Mono',consolas,'Courier New',monospace\"><span style=\"font-weight: bold\">{</span>\n",
       "    <span style=\"color: #008000; text-decoration-color: #008000\">'type'</span>: <span style=\"color: #008000; text-decoration-color: #008000\">'function'</span>,\n",
       "    <span style=\"color: #008000; text-decoration-color: #008000\">'function'</span>: <span style=\"font-weight: bold\">{</span>\n",
       "        <span style=\"color: #008000; text-decoration-color: #008000\">'name'</span>: <span style=\"color: #008000; text-decoration-color: #008000\">'GetWeather'</span>,\n",
       "        <span style=\"color: #008000; text-decoration-color: #008000\">'strict'</span>: <span style=\"color: #00ff00; text-decoration-color: #00ff00; font-style: italic\">True</span>,\n",
       "        <span style=\"color: #008000; text-decoration-color: #008000\">'parameters'</span>: <span style=\"font-weight: bold\">{</span>\n",
       "            <span style=\"color: #008000; text-decoration-color: #008000\">'properties'</span>: <span style=\"font-weight: bold\">{</span>\n",
       "                <span style=\"color: #008000; text-decoration-color: #008000\">'latitude'</span>: <span style=\"font-weight: bold\">{</span><span style=\"color: #008000; text-decoration-color: #008000\">'description'</span>: <span style=\"color: #008000; text-decoration-color: #008000\">'Latitude of the location'</span>, <span style=\"color: #008000; text-decoration-color: #008000\">'title'</span>: <span style=\"color: #008000; text-decoration-color: #008000\">'Latitude'</span>, <span style=\"color: #008000; text-decoration-color: #008000\">'type'</span>: <span style=\"color: #008000; text-decoration-color: #008000\">'number'</span><span style=\"font-weight: bold\">}</span>,\n",
       "                <span style=\"color: #008000; text-decoration-color: #008000\">'longitude'</span>: <span style=\"font-weight: bold\">{</span><span style=\"color: #008000; text-decoration-color: #008000\">'description'</span>: <span style=\"color: #008000; text-decoration-color: #008000\">'Longitude of the location'</span>, <span style=\"color: #008000; text-decoration-color: #008000\">'title'</span>: <span style=\"color: #008000; text-decoration-color: #008000\">'Longitude'</span>, <span style=\"color: #008000; text-decoration-color: #008000\">'type'</span>: <span style=\"color: #008000; text-decoration-color: #008000\">'number'</span><span style=\"font-weight: bold\">}</span>\n",
       "            <span style=\"font-weight: bold\">}</span>,\n",
       "            <span style=\"color: #008000; text-decoration-color: #008000\">'required'</span>: <span style=\"font-weight: bold\">[</span><span style=\"color: #008000; text-decoration-color: #008000\">'latitude'</span>, <span style=\"color: #008000; text-decoration-color: #008000\">'longitude'</span><span style=\"font-weight: bold\">]</span>,\n",
       "            <span style=\"color: #008000; text-decoration-color: #008000\">'title'</span>: <span style=\"color: #008000; text-decoration-color: #008000\">'GetWeather'</span>,\n",
       "            <span style=\"color: #008000; text-decoration-color: #008000\">'type'</span>: <span style=\"color: #008000; text-decoration-color: #008000\">'object'</span>,\n",
       "            <span style=\"color: #008000; text-decoration-color: #008000\">'additionalProperties'</span>: <span style=\"color: #ff0000; text-decoration-color: #ff0000; font-style: italic\">False</span>\n",
       "        <span style=\"font-weight: bold\">}</span>\n",
       "    <span style=\"font-weight: bold\">}</span>\n",
       "<span style=\"font-weight: bold\">}</span>\n",
       "</pre>\n"
      ],
      "text/plain": [
       "\u001b[1m{\u001b[0m\n",
       "    \u001b[32m'type'\u001b[0m: \u001b[32m'function'\u001b[0m,\n",
       "    \u001b[32m'function'\u001b[0m: \u001b[1m{\u001b[0m\n",
       "        \u001b[32m'name'\u001b[0m: \u001b[32m'GetWeather'\u001b[0m,\n",
       "        \u001b[32m'strict'\u001b[0m: \u001b[3;92mTrue\u001b[0m,\n",
       "        \u001b[32m'parameters'\u001b[0m: \u001b[1m{\u001b[0m\n",
       "            \u001b[32m'properties'\u001b[0m: \u001b[1m{\u001b[0m\n",
       "                \u001b[32m'latitude'\u001b[0m: \u001b[1m{\u001b[0m\u001b[32m'description'\u001b[0m: \u001b[32m'Latitude of the location'\u001b[0m, \u001b[32m'title'\u001b[0m: \u001b[32m'Latitude'\u001b[0m, \u001b[32m'type'\u001b[0m: \u001b[32m'number'\u001b[0m\u001b[1m}\u001b[0m,\n",
       "                \u001b[32m'longitude'\u001b[0m: \u001b[1m{\u001b[0m\u001b[32m'description'\u001b[0m: \u001b[32m'Longitude of the location'\u001b[0m, \u001b[32m'title'\u001b[0m: \u001b[32m'Longitude'\u001b[0m, \u001b[32m'type'\u001b[0m: \u001b[32m'number'\u001b[0m\u001b[1m}\u001b[0m\n",
       "            \u001b[1m}\u001b[0m,\n",
       "            \u001b[32m'required'\u001b[0m: \u001b[1m[\u001b[0m\u001b[32m'latitude'\u001b[0m, \u001b[32m'longitude'\u001b[0m\u001b[1m]\u001b[0m,\n",
       "            \u001b[32m'title'\u001b[0m: \u001b[32m'GetWeather'\u001b[0m,\n",
       "            \u001b[32m'type'\u001b[0m: \u001b[32m'object'\u001b[0m,\n",
       "            \u001b[32m'additionalProperties'\u001b[0m: \u001b[3;91mFalse\u001b[0m\n",
       "        \u001b[1m}\u001b[0m\n",
       "    \u001b[1m}\u001b[0m\n",
       "\u001b[1m}\u001b[0m\n"
      ]
     },
     "metadata": {},
     "output_type": "display_data"
    }
   ],
   "source": [
    "rich.print(pydantic_function_tool(GetWeather))"
   ]
  },
  {
   "cell_type": "markdown",
   "id": "ad87507a",
   "metadata": {},
   "source": [
    "To use pydantic-generated function, we need to use `openai.responses.parse()` function call\n",
    "\n",
    "https://github.com/openai/openai-python/blob/main/examples/responses/structured_outputs_tools.py"
   ]
  },
  {
   "cell_type": "markdown",
   "id": "d8d991a8",
   "metadata": {},
   "source": [
    "### Using old way of sending history messages in every call"
   ]
  },
  {
   "cell_type": "markdown",
   "id": "a594665e",
   "metadata": {},
   "source": [
    "First Step where model will responed with tool call request"
   ]
  },
  {
   "cell_type": "code",
   "execution_count": 12,
   "id": "21e4f32c",
   "metadata": {},
   "outputs": [
    {
     "name": "stdout",
     "output_type": "stream",
     "text": [
      "Status =  completed\n",
      "\n"
     ]
    },
    {
     "data": {
      "text/html": [
       "<pre style=\"white-space:pre;overflow-x:auto;line-height:normal;font-family:Menlo,'DejaVu Sans Mono',consolas,'Courier New',monospace\"><span style=\"font-weight: bold\">[</span>\n",
       "    <span style=\"color: #800080; text-decoration-color: #800080; font-weight: bold\">ParsedResponseFunctionToolCall</span><span style=\"font-weight: bold\">(</span>\n",
       "        <span style=\"color: #808000; text-decoration-color: #808000\">id</span>=<span style=\"color: #008000; text-decoration-color: #008000\">'fc_67e234cc91f081929b2fda7aae7525430ec6d6be56c9acd3'</span>,\n",
       "        <span style=\"color: #808000; text-decoration-color: #808000\">arguments</span>=<span style=\"color: #008000; text-decoration-color: #008000\">'{\"latitude\":52.52,\"longitude\":13.405}'</span>,\n",
       "        <span style=\"color: #808000; text-decoration-color: #808000\">call_id</span>=<span style=\"color: #008000; text-decoration-color: #008000\">'call_gJJgN88OJlgerTivy4cRferX'</span>,\n",
       "        <span style=\"color: #808000; text-decoration-color: #808000\">name</span>=<span style=\"color: #008000; text-decoration-color: #008000\">'GetWeather'</span>,\n",
       "        <span style=\"color: #808000; text-decoration-color: #808000\">type</span>=<span style=\"color: #008000; text-decoration-color: #008000\">'function_call'</span>,\n",
       "        <span style=\"color: #808000; text-decoration-color: #808000\">status</span>=<span style=\"color: #008000; text-decoration-color: #008000\">'completed'</span>,\n",
       "        <span style=\"color: #808000; text-decoration-color: #808000\">parsed_arguments</span>=<span style=\"color: #800080; text-decoration-color: #800080; font-weight: bold\">GetWeather</span><span style=\"font-weight: bold\">(</span><span style=\"color: #808000; text-decoration-color: #808000\">latitude</span>=<span style=\"color: #008080; text-decoration-color: #008080; font-weight: bold\">52.52</span>, <span style=\"color: #808000; text-decoration-color: #808000\">longitude</span>=<span style=\"color: #008080; text-decoration-color: #008080; font-weight: bold\">13.405</span><span style=\"font-weight: bold\">)</span>\n",
       "    <span style=\"font-weight: bold\">)</span>\n",
       "<span style=\"font-weight: bold\">]</span>\n",
       "</pre>\n"
      ],
      "text/plain": [
       "\u001b[1m[\u001b[0m\n",
       "    \u001b[1;35mParsedResponseFunctionToolCall\u001b[0m\u001b[1m(\u001b[0m\n",
       "        \u001b[33mid\u001b[0m=\u001b[32m'fc_67e234cc91f081929b2fda7aae7525430ec6d6be56c9acd3'\u001b[0m,\n",
       "        \u001b[33marguments\u001b[0m=\u001b[32m'\u001b[0m\u001b[32m{\u001b[0m\u001b[32m\"latitude\":52.52,\"longitude\":13.405\u001b[0m\u001b[32m}\u001b[0m\u001b[32m'\u001b[0m,\n",
       "        \u001b[33mcall_id\u001b[0m=\u001b[32m'call_gJJgN88OJlgerTivy4cRferX'\u001b[0m,\n",
       "        \u001b[33mname\u001b[0m=\u001b[32m'GetWeather'\u001b[0m,\n",
       "        \u001b[33mtype\u001b[0m=\u001b[32m'function_call'\u001b[0m,\n",
       "        \u001b[33mstatus\u001b[0m=\u001b[32m'completed'\u001b[0m,\n",
       "        \u001b[33mparsed_arguments\u001b[0m=\u001b[1;35mGetWeather\u001b[0m\u001b[1m(\u001b[0m\u001b[33mlatitude\u001b[0m=\u001b[1;36m52\u001b[0m\u001b[1;36m.52\u001b[0m, \u001b[33mlongitude\u001b[0m=\u001b[1;36m13\u001b[0m\u001b[1;36m.405\u001b[0m\u001b[1m)\u001b[0m\n",
       "    \u001b[1m)\u001b[0m\n",
       "\u001b[1m]\u001b[0m\n"
      ]
     },
     "metadata": {},
     "output_type": "display_data"
    },
    {
     "data": {
      "text/html": [
       "<pre style=\"white-space:pre;overflow-x:auto;line-height:normal;font-family:Menlo,'DejaVu Sans Mono',consolas,'Courier New',monospace\"><span style=\"color: #800080; text-decoration-color: #800080; font-weight: bold\">GetWeather</span><span style=\"font-weight: bold\">(</span><span style=\"color: #808000; text-decoration-color: #808000\">latitude</span>=<span style=\"color: #008080; text-decoration-color: #008080; font-weight: bold\">52.52</span>, <span style=\"color: #808000; text-decoration-color: #808000\">longitude</span>=<span style=\"color: #008080; text-decoration-color: #008080; font-weight: bold\">13.405</span><span style=\"font-weight: bold\">)</span>\n",
       "</pre>\n"
      ],
      "text/plain": [
       "\u001b[1;35mGetWeather\u001b[0m\u001b[1m(\u001b[0m\u001b[33mlatitude\u001b[0m=\u001b[1;36m52\u001b[0m\u001b[1;36m.52\u001b[0m, \u001b[33mlongitude\u001b[0m=\u001b[1;36m13\u001b[0m\u001b[1;36m.405\u001b[0m\u001b[1m)\u001b[0m\n"
      ]
     },
     "metadata": {},
     "output_type": "display_data"
    }
   ],
   "source": [
    "messages=[\n",
    "    {\"role\": \"developer\", \"content\": \"You are a helpful assistant and provide update on weather in a city.\"},\n",
    "    # {\"role\": \"user\", \"content\": \"What's the weather like in Karachi, Pakistan?\"}\n",
    "    # {\"role\": \"user\", \"content\": \"NYC\"}\n",
    "    {\"role\": \"user\", \"content\": \"Berlin\"}\n",
    "]\n",
    "tools = [pydantic_function_tool(GetWeather)]\n",
    "\n",
    "# Note the parse function\n",
    "response = openai.responses.parse(\n",
    "    model=MODEL,\n",
    "    input=messages,\n",
    "    tools = tools\n",
    ")\n",
    "\n",
    "print(\"Status = \",response.status) # Status will not indicate the tool call\n",
    "print(response.output_text) # Empty\n",
    "rich.print(response.output)\n",
    "rich.print(response.output[0].parsed_arguments)"
   ]
  },
  {
   "cell_type": "markdown",
   "id": "56b095e1",
   "metadata": {},
   "source": [
    "Second Step where we are calling the `get_weather` function and sending the response back to Responses API"
   ]
  },
  {
   "cell_type": "markdown",
   "id": "0969507b",
   "metadata": {},
   "source": [
    "To send the result of function call we need to send specific format object into Responses API call\n",
    "\n",
    "Note: object has different property names.\n",
    "\n",
    "```\n",
    "{\n",
    "    \"type\": \"function_call_output\",\n",
    "    \"call_id\": tool_call.call_id,\n",
    "    \"output\": <output of function call>,\n",
    "}\n",
    "```"
   ]
  },
  {
   "cell_type": "code",
   "execution_count": 13,
   "id": "7b977ede",
   "metadata": {},
   "outputs": [
    {
     "name": "stdout",
     "output_type": "stream",
     "text": [
      "get_weather function called to get weather for latitude = 52.52, longitude = 13.405\n",
      "And result is  = 7.4\n",
      "Model Response2 =  The current temperature in Berlin is 7.4°C. If you need more specific weather details or forecasts, feel free to ask!\n",
      "Status =  completed\n"
     ]
    }
   ],
   "source": [
    "if response.output[0].type == \"function_call\": # Check if output type is function_call\n",
    "    tool_call = response.output[0]\n",
    "    # arguments = json.loads(tool_call.arguments) # Not needed but still works\n",
    "    # latitude = arguments.get(\"latitude\")\n",
    "    # longitude = arguments.get(\"longitude\")\n",
    "    # weather = get_weather(**arguments) # Not needed but still works\n",
    "    \n",
    "    # As we are receiving parsed_arguments as object, we can call properties on parsed_arguments object\n",
    "    weather = get_weather(tool_call.parsed_arguments.latitude, tool_call.parsed_arguments.longitude) # Both will work\n",
    "    \n",
    "    new_message = {\n",
    "        \"type\": \"function_call_output\",\n",
    "        \"call_id\": tool_call.call_id,\n",
    "        \"output\": str(weather)\n",
    "        # Because of json object in output Responses API sometimes does not generate expected output\n",
    "        # \"output\":  json.dumps({\"latitude\": latitude, \"longitude\": longitude, \"weather\": weather}),\n",
    "    }\n",
    "    # To call use Responses API with history messages we need to send output back but \n",
    "    # it gives an error if we append tool call with parsed_arguments\n",
    "    del response.output[0].parsed_arguments\n",
    "    # Important: we will append the tool call (response.output[0]) \n",
    "    messages.append(response.output[0]) \n",
    "    messages.append(new_message)\n",
    "    # rich.print(messages)\n",
    "    # Calling the Responses API again with all the history messages and the new message\n",
    "    response2 = openai.responses.parse(model=MODEL, input=messages,tools = tools)\n",
    "    print(\"Model Response2 = \",response2.output_text)\n",
    "    print(\"Status = \",response2.status)"
   ]
  },
  {
   "cell_type": "markdown",
   "id": "4fd4a82c",
   "metadata": {},
   "source": [
    "### Using new way of conversation state by sending perivous reponse id"
   ]
  },
  {
   "cell_type": "markdown",
   "id": "aba58a68",
   "metadata": {},
   "source": [
    "First Step where model will responed with tool call request"
   ]
  },
  {
   "cell_type": "code",
   "execution_count": 17,
   "id": "c394cdd0",
   "metadata": {},
   "outputs": [
    {
     "name": "stdout",
     "output_type": "stream",
     "text": [
      "Status =  completed\n",
      "\n"
     ]
    },
    {
     "data": {
      "text/html": [
       "<pre style=\"white-space:pre;overflow-x:auto;line-height:normal;font-family:Menlo,'DejaVu Sans Mono',consolas,'Courier New',monospace\"><span style=\"font-weight: bold\">[</span>\n",
       "    <span style=\"color: #800080; text-decoration-color: #800080; font-weight: bold\">ParsedResponseFunctionToolCall</span><span style=\"font-weight: bold\">(</span>\n",
       "        <span style=\"color: #808000; text-decoration-color: #808000\">id</span>=<span style=\"color: #008000; text-decoration-color: #008000\">'fc_67e2375de7a48192899d9f12c200ab91034353360b6b83d3'</span>,\n",
       "        <span style=\"color: #808000; text-decoration-color: #808000\">arguments</span>=<span style=\"color: #008000; text-decoration-color: #008000\">'{\"latitude\":52.520008,\"longitude\":13.404954}'</span>,\n",
       "        <span style=\"color: #808000; text-decoration-color: #808000\">call_id</span>=<span style=\"color: #008000; text-decoration-color: #008000\">'call_i5KkYcqG0bHZoThdT82txbGs'</span>,\n",
       "        <span style=\"color: #808000; text-decoration-color: #808000\">name</span>=<span style=\"color: #008000; text-decoration-color: #008000\">'GetWeather'</span>,\n",
       "        <span style=\"color: #808000; text-decoration-color: #808000\">type</span>=<span style=\"color: #008000; text-decoration-color: #008000\">'function_call'</span>,\n",
       "        <span style=\"color: #808000; text-decoration-color: #808000\">status</span>=<span style=\"color: #008000; text-decoration-color: #008000\">'completed'</span>,\n",
       "        <span style=\"color: #808000; text-decoration-color: #808000\">parsed_arguments</span>=<span style=\"color: #800080; text-decoration-color: #800080; font-weight: bold\">GetWeather</span><span style=\"font-weight: bold\">(</span><span style=\"color: #808000; text-decoration-color: #808000\">latitude</span>=<span style=\"color: #008080; text-decoration-color: #008080; font-weight: bold\">52.520008</span>, <span style=\"color: #808000; text-decoration-color: #808000\">longitude</span>=<span style=\"color: #008080; text-decoration-color: #008080; font-weight: bold\">13.404954</span><span style=\"font-weight: bold\">)</span>\n",
       "    <span style=\"font-weight: bold\">)</span>\n",
       "<span style=\"font-weight: bold\">]</span>\n",
       "</pre>\n"
      ],
      "text/plain": [
       "\u001b[1m[\u001b[0m\n",
       "    \u001b[1;35mParsedResponseFunctionToolCall\u001b[0m\u001b[1m(\u001b[0m\n",
       "        \u001b[33mid\u001b[0m=\u001b[32m'fc_67e2375de7a48192899d9f12c200ab91034353360b6b83d3'\u001b[0m,\n",
       "        \u001b[33marguments\u001b[0m=\u001b[32m'\u001b[0m\u001b[32m{\u001b[0m\u001b[32m\"latitude\":52.520008,\"longitude\":13.404954\u001b[0m\u001b[32m}\u001b[0m\u001b[32m'\u001b[0m,\n",
       "        \u001b[33mcall_id\u001b[0m=\u001b[32m'call_i5KkYcqG0bHZoThdT82txbGs'\u001b[0m,\n",
       "        \u001b[33mname\u001b[0m=\u001b[32m'GetWeather'\u001b[0m,\n",
       "        \u001b[33mtype\u001b[0m=\u001b[32m'function_call'\u001b[0m,\n",
       "        \u001b[33mstatus\u001b[0m=\u001b[32m'completed'\u001b[0m,\n",
       "        \u001b[33mparsed_arguments\u001b[0m=\u001b[1;35mGetWeather\u001b[0m\u001b[1m(\u001b[0m\u001b[33mlatitude\u001b[0m=\u001b[1;36m52\u001b[0m\u001b[1;36m.520008\u001b[0m, \u001b[33mlongitude\u001b[0m=\u001b[1;36m13\u001b[0m\u001b[1;36m.404954\u001b[0m\u001b[1m)\u001b[0m\n",
       "    \u001b[1m)\u001b[0m\n",
       "\u001b[1m]\u001b[0m\n"
      ]
     },
     "metadata": {},
     "output_type": "display_data"
    }
   ],
   "source": [
    "# This section is same as above\n",
    "\n",
    "messages=[\n",
    "    {\"role\": \"developer\", \"content\": \"You are a helpful assistant and provide update on weather in a city.\"},\n",
    "    # {\"role\": \"user\", \"content\": \"What's the weather like in Karachi, Pakistan?\"}\n",
    "    # {\"role\": \"user\", \"content\": \"NYC\"}\n",
    "    {\"role\": \"user\", \"content\": \"Berlin\"}\n",
    "]\n",
    "tools = [pydantic_function_tool(GetWeather)]\n",
    "\n",
    "response = openai.responses.parse(\n",
    "    model=MODEL,\n",
    "    input=messages,\n",
    "    tools = tools\n",
    ")\n",
    "\n",
    "print(\"Status = \",response.status) # Status will not indicate the tool call\n",
    "print(response.output_text) # Empty\n",
    "rich.print(response.output)"
   ]
  },
  {
   "cell_type": "markdown",
   "id": "684d054a",
   "metadata": {},
   "source": [
    "Second Step where we are calling the `get_weather` function and sending the response back to Responses API"
   ]
  },
  {
   "cell_type": "markdown",
   "id": "6c3f3545",
   "metadata": {},
   "source": [
    "The only difference in below section is how messages are sent."
   ]
  },
  {
   "cell_type": "code",
   "execution_count": null,
   "id": "d81b611b",
   "metadata": {},
   "outputs": [
    {
     "name": "stdout",
     "output_type": "stream",
     "text": [
      "get_weather function called to get weather for latitude = 52.520008, longitude = 13.404954\n",
      "And result is  = 7.4\n",
      "Model Response2 =  The current temperature in Berlin is 7.4°C. If you need more details about the weather, like humidity or forecast, just let me know!\n",
      "Status =  completed\n"
     ]
    }
   ],
   "source": [
    "# The only difference in this section is how messages are sent.\n",
    "\n",
    "if response.output[0].type == \"function_call\": # Check if output type is function_call\n",
    "    tool_call = response.output[0]\n",
    "    # arguments = json.loads(tool_call.arguments) # Not needed but still works\n",
    "    # latitude = arguments.get(\"latitude\")\n",
    "    # longitude = arguments.get(\"longitude\")\n",
    "    # weather = get_weather(**arguments) # Not needed but still works\n",
    "    \n",
    "    weather = get_weather(tool_call.parsed_arguments.latitude, tool_call.parsed_arguments.longitude) # Both will work\n",
    "    \n",
    "    new_message = {\n",
    "        \"type\": \"function_call_output\",\n",
    "        \"call_id\": tool_call.call_id,\n",
    "        \"output\": str(weather)\n",
    "    }\n",
    "    # Not needed now because we are using response.id\n",
    "    # del response.output[0].parsed_arguments\n",
    "    \n",
    "    # Not needed now because we are using response.id \n",
    "    # messages.append(response.output[0]) \n",
    "\n",
    "    # Emptying the messages array because we are sending the previous response id, \n",
    "    # therefore we don't need to send the previous message\n",
    "    messages = []\n",
    "    messages.append(new_message)\n",
    "    response2 = openai.responses.parse(model=MODEL, input=messages,tools = tools, previous_response_id=response.id)\n",
    "    print(\"Model Response2 = \",response2.output_text)\n",
    "    print(\"Status = \",response2.status)"
   ]
  }
 ],
 "metadata": {
  "kernelspec": {
   "display_name": ".venv",
   "language": "python",
   "name": "python3"
  },
  "language_info": {
   "codemirror_mode": {
    "name": "ipython",
    "version": 3
   },
   "file_extension": ".py",
   "mimetype": "text/x-python",
   "name": "python",
   "nbconvert_exporter": "python",
   "pygments_lexer": "ipython3",
   "version": "3.12.4"
  }
 },
 "nbformat": 4,
 "nbformat_minor": 5
}
