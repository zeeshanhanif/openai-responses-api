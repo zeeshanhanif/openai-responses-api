{
 "cells": [
  {
   "cell_type": "code",
   "execution_count": 1,
   "id": "cd3aa0d0-ff83-4f55-81a8-11aed0ebf4b6",
   "metadata": {},
   "outputs": [],
   "source": [
    "import os\n",
    "from openai import OpenAI, pydantic_function_tool\n",
    "from dotenv import load_dotenv\n",
    "import rich\n",
    "import requests\n",
    "import json\n",
    "from pydantic import BaseModel, Field"
   ]
  },
  {
   "cell_type": "code",
   "execution_count": 2,
   "id": "794d7c22",
   "metadata": {},
   "outputs": [],
   "source": [
    "load_dotenv()\n",
    "\n",
    "api_key = os.getenv('OPENAI_API_KEY')\n",
    "MODEL = \"gpt-4o-mini\"\n",
    "\n",
    "openai = OpenAI()"
   ]
  },
  {
   "cell_type": "markdown",
   "id": "d8d3eea1",
   "metadata": {},
   "source": [
    "This is the same example, but it uses a new conversation state in the Responses API."
   ]
  },
  {
   "cell_type": "markdown",
   "id": "168aed37",
   "metadata": {},
   "source": [
    "Looping through tool calls in case we receive them in multiple steps. We need to call the API multiple times for tool calls and make a final call to receive the response."
   ]
  },
  {
   "cell_type": "markdown",
   "id": "5e2a525a",
   "metadata": {},
   "source": [
    "The Pydantic-generated function structure is acceptable in OpenAI's Chat API, but the Responses API requires a slightly different structure"
   ]
  },
  {
   "cell_type": "code",
   "execution_count": 3,
   "id": "c29278a5",
   "metadata": {},
   "outputs": [
    {
     "data": {
      "text/html": [
       "<pre style=\"white-space:pre;overflow-x:auto;line-height:normal;font-family:Menlo,'DejaVu Sans Mono',consolas,'Courier New',monospace\"><span style=\"font-weight: bold\">{</span>\n",
       "    <span style=\"color: #008000; text-decoration-color: #008000\">'type'</span>: <span style=\"color: #008000; text-decoration-color: #008000\">'function'</span>,\n",
       "    <span style=\"color: #008000; text-decoration-color: #008000\">'function'</span>: <span style=\"font-weight: bold\">{</span>\n",
       "        <span style=\"color: #008000; text-decoration-color: #008000\">'name'</span>: <span style=\"color: #008000; text-decoration-color: #008000\">'GetWeather'</span>,\n",
       "        <span style=\"color: #008000; text-decoration-color: #008000\">'strict'</span>: <span style=\"color: #00ff00; text-decoration-color: #00ff00; font-style: italic\">True</span>,\n",
       "        <span style=\"color: #008000; text-decoration-color: #008000\">'parameters'</span>: <span style=\"font-weight: bold\">{</span>\n",
       "            <span style=\"color: #008000; text-decoration-color: #008000\">'properties'</span>: <span style=\"font-weight: bold\">{</span>\n",
       "                <span style=\"color: #008000; text-decoration-color: #008000\">'latitude'</span>: <span style=\"font-weight: bold\">{</span><span style=\"color: #008000; text-decoration-color: #008000\">'description'</span>: <span style=\"color: #008000; text-decoration-color: #008000\">'Latitude of the location'</span>, <span style=\"color: #008000; text-decoration-color: #008000\">'title'</span>: <span style=\"color: #008000; text-decoration-color: #008000\">'Latitude'</span>, <span style=\"color: #008000; text-decoration-color: #008000\">'type'</span>: <span style=\"color: #008000; text-decoration-color: #008000\">'number'</span><span style=\"font-weight: bold\">}</span>,\n",
       "                <span style=\"color: #008000; text-decoration-color: #008000\">'longitude'</span>: <span style=\"font-weight: bold\">{</span><span style=\"color: #008000; text-decoration-color: #008000\">'description'</span>: <span style=\"color: #008000; text-decoration-color: #008000\">'Longitude of the location'</span>, <span style=\"color: #008000; text-decoration-color: #008000\">'title'</span>: <span style=\"color: #008000; text-decoration-color: #008000\">'Longitude'</span>, <span style=\"color: #008000; text-decoration-color: #008000\">'type'</span>: <span style=\"color: #008000; text-decoration-color: #008000\">'number'</span><span style=\"font-weight: bold\">}</span>\n",
       "            <span style=\"font-weight: bold\">}</span>,\n",
       "            <span style=\"color: #008000; text-decoration-color: #008000\">'required'</span>: <span style=\"font-weight: bold\">[</span><span style=\"color: #008000; text-decoration-color: #008000\">'latitude'</span>, <span style=\"color: #008000; text-decoration-color: #008000\">'longitude'</span><span style=\"font-weight: bold\">]</span>,\n",
       "            <span style=\"color: #008000; text-decoration-color: #008000\">'title'</span>: <span style=\"color: #008000; text-decoration-color: #008000\">'GetWeather'</span>,\n",
       "            <span style=\"color: #008000; text-decoration-color: #008000\">'type'</span>: <span style=\"color: #008000; text-decoration-color: #008000\">'object'</span>,\n",
       "            <span style=\"color: #008000; text-decoration-color: #008000\">'additionalProperties'</span>: <span style=\"color: #ff0000; text-decoration-color: #ff0000; font-style: italic\">False</span>\n",
       "        <span style=\"font-weight: bold\">}</span>\n",
       "    <span style=\"font-weight: bold\">}</span>\n",
       "<span style=\"font-weight: bold\">}</span>\n",
       "</pre>\n"
      ],
      "text/plain": [
       "\u001b[1m{\u001b[0m\n",
       "    \u001b[32m'type'\u001b[0m: \u001b[32m'function'\u001b[0m,\n",
       "    \u001b[32m'function'\u001b[0m: \u001b[1m{\u001b[0m\n",
       "        \u001b[32m'name'\u001b[0m: \u001b[32m'GetWeather'\u001b[0m,\n",
       "        \u001b[32m'strict'\u001b[0m: \u001b[3;92mTrue\u001b[0m,\n",
       "        \u001b[32m'parameters'\u001b[0m: \u001b[1m{\u001b[0m\n",
       "            \u001b[32m'properties'\u001b[0m: \u001b[1m{\u001b[0m\n",
       "                \u001b[32m'latitude'\u001b[0m: \u001b[1m{\u001b[0m\u001b[32m'description'\u001b[0m: \u001b[32m'Latitude of the location'\u001b[0m, \u001b[32m'title'\u001b[0m: \u001b[32m'Latitude'\u001b[0m, \u001b[32m'type'\u001b[0m: \u001b[32m'number'\u001b[0m\u001b[1m}\u001b[0m,\n",
       "                \u001b[32m'longitude'\u001b[0m: \u001b[1m{\u001b[0m\u001b[32m'description'\u001b[0m: \u001b[32m'Longitude of the location'\u001b[0m, \u001b[32m'title'\u001b[0m: \u001b[32m'Longitude'\u001b[0m, \u001b[32m'type'\u001b[0m: \u001b[32m'number'\u001b[0m\u001b[1m}\u001b[0m\n",
       "            \u001b[1m}\u001b[0m,\n",
       "            \u001b[32m'required'\u001b[0m: \u001b[1m[\u001b[0m\u001b[32m'latitude'\u001b[0m, \u001b[32m'longitude'\u001b[0m\u001b[1m]\u001b[0m,\n",
       "            \u001b[32m'title'\u001b[0m: \u001b[32m'GetWeather'\u001b[0m,\n",
       "            \u001b[32m'type'\u001b[0m: \u001b[32m'object'\u001b[0m,\n",
       "            \u001b[32m'additionalProperties'\u001b[0m: \u001b[3;91mFalse\u001b[0m\n",
       "        \u001b[1m}\u001b[0m\n",
       "    \u001b[1m}\u001b[0m\n",
       "\u001b[1m}\u001b[0m\n"
      ]
     },
     "metadata": {},
     "output_type": "display_data"
    },
    {
     "data": {
      "text/html": [
       "<pre style=\"white-space:pre;overflow-x:auto;line-height:normal;font-family:Menlo,'DejaVu Sans Mono',consolas,'Courier New',monospace\"><span style=\"font-weight: bold\">{</span>\n",
       "    <span style=\"color: #008000; text-decoration-color: #008000\">'type'</span>: <span style=\"color: #008000; text-decoration-color: #008000\">'function'</span>,\n",
       "    <span style=\"color: #008000; text-decoration-color: #008000\">'function'</span>: <span style=\"font-weight: bold\">{</span>\n",
       "        <span style=\"color: #008000; text-decoration-color: #008000\">'name'</span>: <span style=\"color: #008000; text-decoration-color: #008000\">'SendEmail'</span>,\n",
       "        <span style=\"color: #008000; text-decoration-color: #008000\">'strict'</span>: <span style=\"color: #00ff00; text-decoration-color: #00ff00; font-style: italic\">True</span>,\n",
       "        <span style=\"color: #008000; text-decoration-color: #008000\">'parameters'</span>: <span style=\"font-weight: bold\">{</span>\n",
       "            <span style=\"color: #008000; text-decoration-color: #008000\">'properties'</span>: <span style=\"font-weight: bold\">{</span>\n",
       "                <span style=\"color: #008000; text-decoration-color: #008000\">'to'</span>: <span style=\"font-weight: bold\">{</span><span style=\"color: #008000; text-decoration-color: #008000\">'description'</span>: <span style=\"color: #008000; text-decoration-color: #008000\">'Email address of the recipient'</span>, <span style=\"color: #008000; text-decoration-color: #008000\">'title'</span>: <span style=\"color: #008000; text-decoration-color: #008000\">'To'</span>, <span style=\"color: #008000; text-decoration-color: #008000\">'type'</span>: <span style=\"color: #008000; text-decoration-color: #008000\">'string'</span><span style=\"font-weight: bold\">}</span>,\n",
       "                <span style=\"color: #008000; text-decoration-color: #008000\">'subject'</span>: <span style=\"font-weight: bold\">{</span><span style=\"color: #008000; text-decoration-color: #008000\">'description'</span>: <span style=\"color: #008000; text-decoration-color: #008000\">'Subject of the email'</span>, <span style=\"color: #008000; text-decoration-color: #008000\">'title'</span>: <span style=\"color: #008000; text-decoration-color: #008000\">'Subject'</span>, <span style=\"color: #008000; text-decoration-color: #008000\">'type'</span>: <span style=\"color: #008000; text-decoration-color: #008000\">'string'</span><span style=\"font-weight: bold\">}</span>,\n",
       "                <span style=\"color: #008000; text-decoration-color: #008000\">'body'</span>: <span style=\"font-weight: bold\">{</span><span style=\"color: #008000; text-decoration-color: #008000\">'description'</span>: <span style=\"color: #008000; text-decoration-color: #008000\">'Body of the email'</span>, <span style=\"color: #008000; text-decoration-color: #008000\">'title'</span>: <span style=\"color: #008000; text-decoration-color: #008000\">'Body'</span>, <span style=\"color: #008000; text-decoration-color: #008000\">'type'</span>: <span style=\"color: #008000; text-decoration-color: #008000\">'string'</span><span style=\"font-weight: bold\">}</span>\n",
       "            <span style=\"font-weight: bold\">}</span>,\n",
       "            <span style=\"color: #008000; text-decoration-color: #008000\">'required'</span>: <span style=\"font-weight: bold\">[</span><span style=\"color: #008000; text-decoration-color: #008000\">'to'</span>, <span style=\"color: #008000; text-decoration-color: #008000\">'subject'</span>, <span style=\"color: #008000; text-decoration-color: #008000\">'body'</span><span style=\"font-weight: bold\">]</span>,\n",
       "            <span style=\"color: #008000; text-decoration-color: #008000\">'title'</span>: <span style=\"color: #008000; text-decoration-color: #008000\">'SendEmail'</span>,\n",
       "            <span style=\"color: #008000; text-decoration-color: #008000\">'type'</span>: <span style=\"color: #008000; text-decoration-color: #008000\">'object'</span>,\n",
       "            <span style=\"color: #008000; text-decoration-color: #008000\">'additionalProperties'</span>: <span style=\"color: #ff0000; text-decoration-color: #ff0000; font-style: italic\">False</span>\n",
       "        <span style=\"font-weight: bold\">}</span>\n",
       "    <span style=\"font-weight: bold\">}</span>\n",
       "<span style=\"font-weight: bold\">}</span>\n",
       "</pre>\n"
      ],
      "text/plain": [
       "\u001b[1m{\u001b[0m\n",
       "    \u001b[32m'type'\u001b[0m: \u001b[32m'function'\u001b[0m,\n",
       "    \u001b[32m'function'\u001b[0m: \u001b[1m{\u001b[0m\n",
       "        \u001b[32m'name'\u001b[0m: \u001b[32m'SendEmail'\u001b[0m,\n",
       "        \u001b[32m'strict'\u001b[0m: \u001b[3;92mTrue\u001b[0m,\n",
       "        \u001b[32m'parameters'\u001b[0m: \u001b[1m{\u001b[0m\n",
       "            \u001b[32m'properties'\u001b[0m: \u001b[1m{\u001b[0m\n",
       "                \u001b[32m'to'\u001b[0m: \u001b[1m{\u001b[0m\u001b[32m'description'\u001b[0m: \u001b[32m'Email address of the recipient'\u001b[0m, \u001b[32m'title'\u001b[0m: \u001b[32m'To'\u001b[0m, \u001b[32m'type'\u001b[0m: \u001b[32m'string'\u001b[0m\u001b[1m}\u001b[0m,\n",
       "                \u001b[32m'subject'\u001b[0m: \u001b[1m{\u001b[0m\u001b[32m'description'\u001b[0m: \u001b[32m'Subject of the email'\u001b[0m, \u001b[32m'title'\u001b[0m: \u001b[32m'Subject'\u001b[0m, \u001b[32m'type'\u001b[0m: \u001b[32m'string'\u001b[0m\u001b[1m}\u001b[0m,\n",
       "                \u001b[32m'body'\u001b[0m: \u001b[1m{\u001b[0m\u001b[32m'description'\u001b[0m: \u001b[32m'Body of the email'\u001b[0m, \u001b[32m'title'\u001b[0m: \u001b[32m'Body'\u001b[0m, \u001b[32m'type'\u001b[0m: \u001b[32m'string'\u001b[0m\u001b[1m}\u001b[0m\n",
       "            \u001b[1m}\u001b[0m,\n",
       "            \u001b[32m'required'\u001b[0m: \u001b[1m[\u001b[0m\u001b[32m'to'\u001b[0m, \u001b[32m'subject'\u001b[0m, \u001b[32m'body'\u001b[0m\u001b[1m]\u001b[0m,\n",
       "            \u001b[32m'title'\u001b[0m: \u001b[32m'SendEmail'\u001b[0m,\n",
       "            \u001b[32m'type'\u001b[0m: \u001b[32m'object'\u001b[0m,\n",
       "            \u001b[32m'additionalProperties'\u001b[0m: \u001b[3;91mFalse\u001b[0m\n",
       "        \u001b[1m}\u001b[0m\n",
       "    \u001b[1m}\u001b[0m\n",
       "\u001b[1m}\u001b[0m\n"
      ]
     },
     "metadata": {},
     "output_type": "display_data"
    }
   ],
   "source": [
    "class GetWeather(BaseModel):\n",
    "    latitude: float = Field(..., description=\"Latitude of the location\")\n",
    "    longitude: float = Field(..., description=\"Longitude of the location\")\n",
    "\n",
    "class SendEmail(BaseModel):\n",
    "    to: str = Field(..., description=\"Email address of the recipient\")\n",
    "    subject: str = Field(..., description=\"Subject of the email\")\n",
    "    body: str = Field(..., description=\"Body of the email\")\n",
    "    \n",
    "def get_weather(latitude, longitude):\n",
    "    response = requests.get(f\"https://api.open-meteo.com/v1/forecast?latitude={latitude}&longitude={longitude}&current=temperature_2m,wind_speed_10m&hourly=temperature_2m,relative_humidity_2m,wind_speed_10m\")\n",
    "    data = response.json()\n",
    "    print(f\"get_weather function called to get weather for latitude = {latitude}, longitude = {longitude}\")\n",
    "    print(f\"And result is  = {data['current']['temperature_2m']}\")\n",
    "    return data['current']['temperature_2m']\n",
    "\n",
    "def send_email(to, subject, body):\n",
    "    print(f\"Tool send_email Sending email to {to} with subject {subject}\")\n",
    "    print(f\"Body: {body}\")\n",
    "    print(f\"Email Tool call completed\")\n",
    "    return \"Email Sent\"\n",
    "\n",
    "rich.print(pydantic_function_tool(GetWeather))\n",
    "rich.print(pydantic_function_tool(SendEmail))\n",
    "\n",
    "# creating list of tools here\n",
    "tools = [pydantic_function_tool(SendEmail), pydantic_function_tool(GetWeather)] "
   ]
  },
  {
   "cell_type": "markdown",
   "id": "9ef4dd6f",
   "metadata": {},
   "source": [
    "# Responses API"
   ]
  },
  {
   "cell_type": "markdown",
   "id": "d9ed959b",
   "metadata": {},
   "source": [
    "https://platform.openai.com/docs/guides/function-calling?api-mode=responses"
   ]
  },
  {
   "cell_type": "markdown",
   "id": "ad87507a",
   "metadata": {},
   "source": [
    "To use pydantic-generated function, we need to use openai.responses.parse() function call\n",
    "\n",
    "https://github.com/openai/openai-python/blob/main/examples/responses/structured_outputs_tools.py"
   ]
  },
  {
   "cell_type": "markdown",
   "id": "dfa611f4",
   "metadata": {},
   "source": [
    "### Using new way of conversation state by sending perivous reponse id"
   ]
  },
  {
   "cell_type": "code",
   "execution_count": 4,
   "id": "895186ad",
   "metadata": {},
   "outputs": [],
   "source": [
    "# Function to call OpenAI's Chat API\n",
    "def call_response_api(messages, previous_response_id):\n",
    "    response = openai.responses.parse(\n",
    "        model=MODEL,\n",
    "        previous_response_id=previous_response_id,\n",
    "        input=messages,\n",
    "        tools = tools\n",
    "    )\n",
    "    return response"
   ]
  },
  {
   "cell_type": "code",
   "execution_count": 5,
   "id": "61931fbd",
   "metadata": {},
   "outputs": [],
   "source": [
    "# The only difference in this section is that we are not including tool calls in promptMessages.\n",
    "\n",
    "# We will loop through the tool_calls, invoke the corresponding function, and update the response. \n",
    "# Plus, we will append only new message for each function call to promptMessages.\n",
    "\n",
    "def handle_tool_call_responses(promptMessages, responseFromAPI):\n",
    "    isFunctionCall = False\n",
    "    for tool_call in responseFromAPI.output:\n",
    "        if tool_call.type == \"function_call\": # check if the output's type is function_call\n",
    "            isFunctionCall = True\n",
    "            name = tool_call.name\n",
    "            arguments = json.loads(tool_call.arguments)\n",
    "            if name == \"SendEmail\":\n",
    "                result = send_email(**arguments)\n",
    "            elif name == \"GetWeather\":\n",
    "                result = get_weather(**arguments)\n",
    "            new_message = {\n",
    "                \"type\": \"function_call_output\",\n",
    "                \"call_id\": tool_call.call_id,\n",
    "                \"output\": str(result)\n",
    "            }\n",
    "            \n",
    "            # del tool_call.parsed_arguments   # Not needed now because we are using response.id\n",
    "            # promptMessages.append(tool_call) # Not needed now because we are using response.id\n",
    "            promptMessages.append(new_message)\n",
    "    return isFunctionCall"
   ]
  },
  {
   "cell_type": "code",
   "execution_count": 6,
   "id": "7a6cf088",
   "metadata": {},
   "outputs": [],
   "source": [
    "# The only difference in this section is that we are sending response.id in the call_response_api function\n",
    "def handle_response_api(prompt):\n",
    "    messages=[\n",
    "        {\"role\": \"developer\", \"content\": \"You are a helpful assistant, you can send email about weather in a city. Email should be courteous and professional.\"},\n",
    "        {\"role\": \"user\", \"content\": prompt}\n",
    "    ]\n",
    "\n",
    "    response = call_response_api(messages, None)\n",
    "    counter = 0 # counter to keep track of the number times we receive tool calls from model\n",
    "\n",
    "    while True:\n",
    "        print()\n",
    "        print(\"Iteration Started\")\n",
    "        print(\"Response Status = \",response.status)\n",
    "        # rich.print(\"response.output = \",response.output)\n",
    "        # We don't have finish_reason in response from Response API, and status always be \"completed\"\n",
    "        isFunctionCalled = handle_tool_call_responses(messages, response)\n",
    "        if isFunctionCalled:\n",
    "            counter += 1\n",
    "            # Uncomment below line to see the messages\n",
    "            # rich.print(messages)\n",
    "            response = call_response_api(messages, response.id) # sending the response.id\n",
    "        else:\n",
    "            print(\"-------\")\n",
    "            print(\"Number of times Tool calls received from model are = \",counter)\n",
    "            print()\n",
    "            print(response.output_text)\n",
    "            print(\"-------\")\n",
    "            break"
   ]
  },
  {
   "cell_type": "code",
   "execution_count": 7,
   "id": "2cba18b5",
   "metadata": {},
   "outputs": [
    {
     "name": "stdout",
     "output_type": "stream",
     "text": [
      "\n",
      "Iteration Started\n",
      "Response Status =  completed\n",
      "get_weather function called to get weather for latitude = 24.8607, longitude = 67.0011\n",
      "And result is  = 29.5\n",
      "\n",
      "Iteration Started\n",
      "Response Status =  completed\n",
      "get_weather function called to get weather for latitude = 31.5497, longitude = 74.3436\n",
      "And result is  = 26.7\n",
      "\n",
      "Iteration Started\n",
      "Response Status =  completed\n",
      "Tool send_email Sending email to shan@gmail.com with subject Weather Update for Karachi and Lahore\n",
      "Body: Dear Shan,\n",
      "\n",
      "I hope this message finds you well. I wanted to provide you with a brief weather update for Karachi and Lahore.\n",
      "\n",
      "In Karachi, the current temperature is approximately 29.5°C with a warm and humid atmosphere.\n",
      "\n",
      "Meanwhile, Lahore is experiencing a cooler temperature of around 26.7°C, making it more comfortable.\n",
      "\n",
      "Let me know if you need any further information!\n",
      "\n",
      "Best regards,\n",
      "\n",
      "[Your Name]\n",
      "Email Tool call completed\n",
      "\n",
      "Iteration Started\n",
      "Response Status =  completed\n",
      "Tool send_email Sending email to hello@gmail.com with subject Weather Update for Karachi and Lahore\n",
      "Body: Dear Hello,\n",
      "\n",
      "I hope this message finds you well. I wanted to provide you with a brief weather update for Karachi and Lahore.\n",
      "\n",
      "In Karachi, the current temperature is approximately 29.5°C with a warm and humid atmosphere.\n",
      "\n",
      "Meanwhile, Lahore is experiencing a cooler temperature of around 26.7°C, making it more comfortable.\n",
      "\n",
      "Let me know if you need any further information!\n",
      "\n",
      "Best regards,\n",
      "\n",
      "[Your Name]\n",
      "Email Tool call completed\n",
      "\n",
      "Iteration Started\n",
      "Response Status =  completed\n",
      "-------\n",
      "Number of times Tool calls received from model are =  4\n",
      "\n",
      "The weather update emails regarding Karachi and Lahore have been successfully sent to both shan@gmail.com and hello@gmail.com. If you need any further assistance or additional information, feel free to ask!\n",
      "-------\n"
     ]
    }
   ],
   "source": [
    "# Check result of each prompt\n",
    "# handle_response_api(\"Send an email to shan@gmail.com and hello@gmail.com about weather in Karachi\")\n",
    "# handle_response_api(\"Send an email about weather in Karachi to first@gmail.com and second@gmail.com\") # This prompt is giving error somehow\n",
    "handle_response_api(\"send an email about weather in Karachi and Lahore to both shan@gmail.com and hello@gmail.com\")\n",
    "# handle_response_api(\"send an email about weather in Karachi and Lahore to shan@gmail.com and hello@gmail.com\")"
   ]
  }
 ],
 "metadata": {
  "kernelspec": {
   "display_name": ".venv",
   "language": "python",
   "name": "python3"
  },
  "language_info": {
   "codemirror_mode": {
    "name": "ipython",
    "version": 3
   },
   "file_extension": ".py",
   "mimetype": "text/x-python",
   "name": "python",
   "nbconvert_exporter": "python",
   "pygments_lexer": "ipython3",
   "version": "3.12.4"
  }
 },
 "nbformat": 4,
 "nbformat_minor": 5
}
